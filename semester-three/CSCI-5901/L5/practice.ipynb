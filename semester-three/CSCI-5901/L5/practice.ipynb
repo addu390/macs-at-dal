{
  "cells": [
    {
      "cell_type": "markdown",
      "metadata": {
        "id": "7I2ZjLbkuT7U"
      },
      "source": [
        "# TensorFlow Tutorial #19\n",
        "# Hyper-Parameter Optimization\n",
        "\n",
        "by [Magnus Erik Hvass Pedersen](http://www.hvass-labs.org/)\n",
        "/ [GitHub](https://github.com/Hvass-Labs/TensorFlow-Tutorials) / [Videos on YouTube](https://www.youtube.com/playlist?list=PL9Hr9sNUjfsl1877BS8m3yt8t_wq2IWji)"
      ]
    },
    {
      "cell_type": "markdown",
      "metadata": {
        "id": "iOXnsaxOuT7W"
      },
      "source": [
        "## Introduction\n",
        "\n",
        "There are many parameters you can select when building and training a Neural Network in TensorFlow. These are often called Hyper-Parameters. For example, there is a hyper-parameter for how many layers the network should have, and another hyper-parameter for how many nodes per layer, and another hyper-parameter for the activation function to use, etc. The optimization method also has one or more hyper-parameters you can select, such as the learning-rate.\n",
        "\n",
        "One way of searching for good hyper-parameters is by hand-tuning, where you try one set of parameters and see how they perform, and then you try another set of parameters and see if they improve the performance. You try and build an intuition for what works well and guide your parameter-search accordingly. Not only is this extremely time-consuming for a human researcher, but the optimal parameters are often counter-intuitive to humans so you will not find them!\n",
        "\n",
        "Another way of searching for good hyper-parameters is to divide each parameter's valid range into evenly spaced values, and then simply have the computer try all combinations of parameter-values. This is called Grid Search. Although it is run entirely by the computer, it quickly becomes extremely time-consuming because the number of parameter-combinations increases exponentially as you add more hyper-parameters. This problem is known as the Curse of Dimensionality. For example, if you have just 4 hyper-parameters to tune and each of them is allowed 10 possible values, then there is a total of 10^4 parameter-combinations. If you add just one more hyper-parameter then there are 10^5 parameter-combinations, and so on.\n",
        "\n",
        "Yet another way of searching for good hyper-parameters is by random search. Instead of systematically trying every single parameter-combination as in Grid Search, we now try a number of parameter-combinations completely at random. This is like searching for \"a needle in a haystack\" and as the number of parameters increases, the probability of finding the optimal parameter-combinations by random sampling decreases to zero.\n",
        "\n",
        "This tutorial uses a clever method for finding good hyper-parameters known as Bayesian Optimization. You should be familiar with TensorFlow, Keras and Convolutional Neural Networks, see Tutorials #01, #02 and #03-C."
      ]
    },
    {
      "cell_type": "markdown",
      "metadata": {
        "id": "WBYm4CSquT7X"
      },
      "source": [
        "## Flowchart\n",
        "\n",
        "The problem with hyper-parameter optimization is that it is extremely costly to assess the performance of a set of parameters. This is because we first have to build the corresponding neural network, then we have to train it, and finally we have to measure its performance on a test-set. In this tutorial we will use the small MNIST problem so this training can be done very quickly, but on more realistic problems the training may take hours, days or even weeks on a very fast computer. So we need an optimization method that can search for hyper-parameters as efficiently as possible, by only evaluating the actual performance when absolutely necessary.\n",
        "\n",
        "The idea with Bayesian optimization is to construct another model of the search-space for hyper-parameters. One kind of model is known as a Gaussian Process. This gives us an estimate of how the performance varies with changes to the hyper-parameters. Whenever we evaluate the actual performance for a set of hyper-parameters, we know for a fact what the performance is - except perhaps for some noise. We can then ask the Bayesian optimizer to give us a new suggestion for hyper-parameters in a region of the search-space that we haven't explored yet, or hyper-parameters that the Bayesian optimizer thinks will bring us most improvement. We then repeat this process a number of times until the Bayesian optimizer has built a good model of how the performance varies with different hyper-parameters, so we can choose the best parameters.\n",
        "\n",
        "The flowchart of the algorithm is roughly:\n",
        "\n",
        "![Flowchart](https://github.com/Hvass-Labs/TensorFlow-Tutorials/blob/master/images/19_flowchart_bayesian_optimization.png?raw=1)"
      ]
    },
    {
      "cell_type": "markdown",
      "metadata": {
        "id": "HkNPK-isuT7X"
      },
      "source": [
        "## Imports"
      ]
    },
    {
      "cell_type": "code",
      "execution_count": 1,
      "metadata": {
        "id": "TgbulRDvuT7Y"
      },
      "outputs": [],
      "source": [
        "%matplotlib inline\n",
        "import matplotlib.pyplot as plt\n",
        "import tensorflow as tf\n",
        "import numpy as np\n",
        "import math"
      ]
    },
    {
      "cell_type": "markdown",
      "metadata": {
        "id": "dol_v1dLuT7Y"
      },
      "source": [
        "We need to import several things from Keras."
      ]
    },
    {
      "cell_type": "code",
      "execution_count": 2,
      "metadata": {
        "id": "vrhQZ4TJuT7Z"
      },
      "outputs": [],
      "source": [
        "from tensorflow.keras import backend as K\n",
        "from tensorflow.keras.models import Sequential\n",
        "from tensorflow.keras.layers import InputLayer, Input\n",
        "from tensorflow.keras.layers import Reshape, MaxPooling2D\n",
        "from tensorflow.keras.layers import Conv2D, Dense, Flatten\n",
        "from tensorflow.keras.callbacks import TensorBoard\n",
        "from tensorflow.keras.optimizers import Adam\n",
        "from tensorflow.keras.models import load_model"
      ]
    },
    {
      "cell_type": "markdown",
      "metadata": {
        "id": "v2tTcAhwuT7Z"
      },
      "source": [
        "**NOTE:** We will save and load models using Keras so you need to have [h5py](http://docs.h5py.org/en/latest/build.html#install) installed. You also need to have [scikit-optimize](https://scikit-optimize.github.io/) installed for doing the hyper-parameter optimization.\n",
        "\n",
        "You should be able to run the following command in a terminal to install them both:\n",
        "\n",
        "`pip install h5py scikit-optimize`"
      ]
    },
    {
      "cell_type": "markdown",
      "metadata": {
        "id": "TaiVyNCouT7a"
      },
      "source": [
        "**NOTE:** This Notebook requires plotting functions in `scikit-optimize` that have not been merged into the official release at the time of this writing. If this Notebook cannot run with the version of `scikit-optimize` installed by the command above, you may have to install `scikit-optimize` from a development branch by running the following command instead:\n",
        "\n",
        "`pip install git+git://github.com/Hvass-Labs/scikit-optimize.git@dd7433da068b5a2509ef4ea4e5195458393e6555`"
      ]
    },
    {
      "cell_type": "code",
      "source": [
        "!pip install scikit-optimize"
      ],
      "metadata": {
        "colab": {
          "base_uri": "https://localhost:8080/"
        },
        "id": "LGgZo7VseEpp",
        "outputId": "49df8434-8f14-4863-fce3-2f9d4da67eb2"
      },
      "execution_count": 3,
      "outputs": [
        {
          "output_type": "stream",
          "name": "stdout",
          "text": [
            "Looking in indexes: https://pypi.org/simple, https://us-python.pkg.dev/colab-wheels/public/simple/\n",
            "Collecting scikit-optimize\n",
            "  Downloading scikit_optimize-0.9.0-py2.py3-none-any.whl (100 kB)\n",
            "\u001b[K     |████████████████████████████████| 100 kB 4.3 MB/s \n",
            "\u001b[?25hRequirement already satisfied: joblib>=0.11 in /usr/local/lib/python3.7/dist-packages (from scikit-optimize) (1.1.0)\n",
            "Requirement already satisfied: scipy>=0.19.1 in /usr/local/lib/python3.7/dist-packages (from scikit-optimize) (1.4.1)\n",
            "Collecting pyaml>=16.9\n",
            "  Downloading pyaml-21.10.1-py2.py3-none-any.whl (24 kB)\n",
            "Requirement already satisfied: scikit-learn>=0.20.0 in /usr/local/lib/python3.7/dist-packages (from scikit-optimize) (1.0.2)\n",
            "Requirement already satisfied: numpy>=1.13.3 in /usr/local/lib/python3.7/dist-packages (from scikit-optimize) (1.21.6)\n",
            "Requirement already satisfied: PyYAML in /usr/local/lib/python3.7/dist-packages (from pyaml>=16.9->scikit-optimize) (3.13)\n",
            "Requirement already satisfied: threadpoolctl>=2.0.0 in /usr/local/lib/python3.7/dist-packages (from scikit-learn>=0.20.0->scikit-optimize) (3.1.0)\n",
            "Installing collected packages: pyaml, scikit-optimize\n",
            "Successfully installed pyaml-21.10.1 scikit-optimize-0.9.0\n"
          ]
        }
      ]
    },
    {
      "cell_type": "code",
      "execution_count": 4,
      "metadata": {
        "id": "0_8rui0vuT7a"
      },
      "outputs": [],
      "source": [
        "import skopt\n",
        "from skopt import gp_minimize, forest_minimize\n",
        "from skopt.space import Real, Categorical, Integer\n",
        "from skopt.plots import plot_convergence\n",
        "from skopt.plots import plot_objective, plot_evaluations\n",
        "from skopt.plots import plot_histogram, plot_objective_2D\n",
        "from skopt.utils import use_named_args"
      ]
    },
    {
      "cell_type": "markdown",
      "metadata": {
        "id": "Ytndl1CsuT7a"
      },
      "source": [
        "This was developed using Python 3.6 (Anaconda) and package versions:"
      ]
    },
    {
      "cell_type": "code",
      "execution_count": 5,
      "metadata": {
        "scrolled": false,
        "id": "AoAVqfZKuT7b",
        "outputId": "0c960565-916a-4646-8ac6-a7d6b30136c0",
        "colab": {
          "base_uri": "https://localhost:8080/",
          "height": 35
        }
      },
      "outputs": [
        {
          "output_type": "execute_result",
          "data": {
            "text/plain": [
              "'2.8.2'"
            ],
            "application/vnd.google.colaboratory.intrinsic+json": {
              "type": "string"
            }
          },
          "metadata": {},
          "execution_count": 5
        }
      ],
      "source": [
        "tf.__version__"
      ]
    },
    {
      "cell_type": "code",
      "execution_count": 6,
      "metadata": {
        "id": "TD5U6kEguT7b",
        "outputId": "c90af64a-eadb-4a90-f303-d3044d9f2655",
        "colab": {
          "base_uri": "https://localhost:8080/",
          "height": 35
        }
      },
      "outputs": [
        {
          "output_type": "execute_result",
          "data": {
            "text/plain": [
              "'2.8.0'"
            ],
            "application/vnd.google.colaboratory.intrinsic+json": {
              "type": "string"
            }
          },
          "metadata": {},
          "execution_count": 6
        }
      ],
      "source": [
        "tf.keras.__version__"
      ]
    },
    {
      "cell_type": "code",
      "execution_count": 7,
      "metadata": {
        "scrolled": true,
        "id": "LuiwQu_BuT7b",
        "outputId": "e4b6f700-9bb5-459d-b6a9-1d3564e6159d",
        "colab": {
          "base_uri": "https://localhost:8080/",
          "height": 35
        }
      },
      "outputs": [
        {
          "output_type": "execute_result",
          "data": {
            "text/plain": [
              "'0.9.0'"
            ],
            "application/vnd.google.colaboratory.intrinsic+json": {
              "type": "string"
            }
          },
          "metadata": {},
          "execution_count": 7
        }
      ],
      "source": [
        "skopt.__version__"
      ]
    },
    {
      "cell_type": "markdown",
      "metadata": {
        "id": "hFB5E943uT7b"
      },
      "source": [
        "## Hyper-Parameters\n",
        "\n",
        "In this tutorial we want to find the hyper-parametes that makes a simple Convolutional Neural Network perform best at classifying the MNIST dataset for hand-written digits.\n",
        "\n",
        "For this demonstration we want to find the following hyper-parameters:\n",
        "\n",
        "* The learning-rate of the optimizer.\n",
        "* The number of fully-connected / dense layers.\n",
        "* The number of nodes for each of the dense layers.\n",
        "* Whether to use 'sigmoid' or 'relu' activation in all the layers.\n",
        "\n",
        "We will use the Python package `scikit-optimize` (or `skopt`) for finding the best choices of these hyper-parameters. Before we begin with the actual search for hyper-parameters, we first need to define the valid search-ranges or search-dimensions for each of these parameters.\n",
        "\n",
        "This is the search-dimension for the learning-rate. It is a real number (floating-point) with a lower bound of `1e-6` and an upper bound of `1e-2`. But instead of searching between these bounds directly, we use a logarithmic transformation, so we will search for the number `k` in `1ek` which is only bounded between -6 and -2. This is better than searching the entire exponential range."
      ]
    },
    {
      "cell_type": "code",
      "execution_count": 8,
      "metadata": {
        "id": "r_9k-ugquT7b"
      },
      "outputs": [],
      "source": [
        "dim_learning_rate = Real(low=1e-6, high=1e-2, prior='log-uniform',\n",
        "                         name='learning_rate')"
      ]
    },
    {
      "cell_type": "markdown",
      "metadata": {
        "id": "8E9_LavhuT7b"
      },
      "source": [
        "This is the search-dimension for the number of dense layers in the neural network. This is an integer and we want at least 1 dense layer and at most 5 dense layers in the neural network."
      ]
    },
    {
      "cell_type": "code",
      "execution_count": 9,
      "metadata": {
        "id": "uCUiLEY3uT7c"
      },
      "outputs": [],
      "source": [
        "dim_num_dense_layers = Integer(low=1, high=5, name='num_dense_layers')"
      ]
    },
    {
      "cell_type": "markdown",
      "metadata": {
        "id": "HosfaV3KuT7c"
      },
      "source": [
        "This is the search-dimension for the number of nodes for each dense layer. This is also an integer and we want at least 5 and at most 512 nodes in each layer of the neural network."
      ]
    },
    {
      "cell_type": "code",
      "execution_count": 10,
      "metadata": {
        "id": "8vi_cdjBuT7c"
      },
      "outputs": [],
      "source": [
        "dim_num_dense_nodes = Integer(low=5, high=512, name='num_dense_nodes')"
      ]
    },
    {
      "cell_type": "markdown",
      "metadata": {
        "id": "YGlEnq5KuT7c"
      },
      "source": [
        "This is the search-dimension for the activation-function. This is a combinatorial or categorical parameter which can be either 'relu' or 'sigmoid'."
      ]
    },
    {
      "cell_type": "code",
      "execution_count": 11,
      "metadata": {
        "id": "0x7D-XNQuT7c"
      },
      "outputs": [],
      "source": [
        "dim_activation = Categorical(categories=['relu', 'sigmoid'],\n",
        "                             name='activation')"
      ]
    },
    {
      "cell_type": "markdown",
      "metadata": {
        "id": "7Zt9ckULuT7c"
      },
      "source": [
        "We then combine all these search-dimensions into a list."
      ]
    },
    {
      "cell_type": "code",
      "execution_count": 12,
      "metadata": {
        "id": "52GatfsyuT7c"
      },
      "outputs": [],
      "source": [
        "dimensions = [dim_learning_rate,\n",
        "              dim_num_dense_layers,\n",
        "              dim_num_dense_nodes,\n",
        "              dim_activation]"
      ]
    },
    {
      "cell_type": "markdown",
      "metadata": {
        "id": "s4A-3xxduT7c"
      },
      "source": [
        "It is helpful to start the search for hyper-parameters with a decent choice that we have found by hand-tuning. But we will use the following parameters that do not perform so well, so as to better demonstrate the usefulness of hyper-parameter optimization: A learning-rate of 1e-5, a single dense layer with 16 nodes, and relu activation-functions.\n",
        "\n",
        "Note that these hyper-parameters are packed in a single list. This is how `skopt` works internally on hyper-parameters. You therefore need to ensure that the order of the dimensions are consistent with the order given in `dimensions` above."
      ]
    },
    {
      "cell_type": "code",
      "execution_count": 13,
      "metadata": {
        "id": "cf5J_LQ8uT7c"
      },
      "outputs": [],
      "source": [
        "default_parameters = [1e-5, 1, 16, 'relu']"
      ]
    },
    {
      "cell_type": "markdown",
      "metadata": {
        "id": "-syhiwuVuT7c"
      },
      "source": [
        "### Helper-function for log-dir-name\n",
        "\n",
        "We will log the training-progress for all parameter-combinations so they can be viewed and compared using TensorBoard. This is done by setting a common parent-dir and then have a sub-dir for each parameter-combination with an appropriate name."
      ]
    },
    {
      "cell_type": "code",
      "execution_count": 14,
      "metadata": {
        "id": "4sSHi9yQuT7c"
      },
      "outputs": [],
      "source": [
        "def log_dir_name(learning_rate, num_dense_layers,\n",
        "                 num_dense_nodes, activation):\n",
        "\n",
        "    # The dir-name for the TensorBoard log-dir.\n",
        "    s = \"./19_logs/lr_{0:.0e}_layers_{1}_nodes_{2}_{3}/\"\n",
        "\n",
        "    # Insert all the hyper-parameters in the dir-name.\n",
        "    log_dir = s.format(learning_rate,\n",
        "                       num_dense_layers,\n",
        "                       num_dense_nodes,\n",
        "                       activation)\n",
        "\n",
        "    return log_dir"
      ]
    },
    {
      "cell_type": "code",
      "source": [
        "import os\n",
        "import tensorflow as tf\n",
        "import numpy as np\n",
        "import matplotlib.pyplot as plt"
      ],
      "metadata": {
        "id": "_RojDWiMhFq0"
      },
      "execution_count": 15,
      "outputs": []
    },
    {
      "cell_type": "code",
      "source": [
        "import os\n",
        "work_dir = \"/content/TensorFlow-Tutorials/\"\n",
        "if os.getcwd() != work_dir:\n",
        "    !git clone https://github.com/Hvass-Labs/TensorFlow-Tutorials.git\n",
        "os.chdir(work_dir)"
      ],
      "metadata": {
        "colab": {
          "base_uri": "https://localhost:8080/"
        },
        "id": "_ANaWa9OhPlb",
        "outputId": "7caf6ebb-6bcb-47b1-c589-20fda10b9a0a"
      },
      "execution_count": 16,
      "outputs": [
        {
          "output_type": "stream",
          "name": "stdout",
          "text": [
            "Cloning into 'TensorFlow-Tutorials'...\n",
            "remote: Enumerating objects: 506, done.\u001b[K\n",
            "remote: Total 506 (delta 0), reused 0 (delta 0), pack-reused 506\u001b[K\n",
            "Receiving objects: 100% (506/506), 66.10 MiB | 33.44 MiB/s, done.\n",
            "Resolving deltas: 100% (241/241), done.\n"
          ]
        }
      ]
    },
    {
      "cell_type": "markdown",
      "metadata": {
        "id": "ERUmvUBfuT7d"
      },
      "source": [
        "## Load Data"
      ]
    },
    {
      "cell_type": "markdown",
      "metadata": {
        "id": "oI_yvRHQuT7d"
      },
      "source": [
        "The MNIST data-set is about 12 MB and will be downloaded automatically if it is not located in the given dir."
      ]
    },
    {
      "cell_type": "code",
      "execution_count": 17,
      "metadata": {
        "id": "w3VkmolvuT7d",
        "colab": {
          "base_uri": "https://localhost:8080/"
        },
        "outputId": "7475a2ba-c7d8-42b5-e587-21d38b4bbbf0"
      },
      "outputs": [
        {
          "output_type": "stream",
          "name": "stdout",
          "text": [
            "Downloading train-images-idx3-ubyte.gz ...\n",
            "- Download progress: 100.0% Done!\n",
            "Downloading train-labels-idx1-ubyte.gz ...\n",
            "- Download progress: 100.0% Done!\n",
            "Downloading t10k-images-idx3-ubyte.gz ...\n",
            "- Download progress: 100.0% Done!\n",
            "Downloading t10k-labels-idx1-ubyte.gz ...\n",
            "- Download progress: 100.0% Done!\n"
          ]
        }
      ],
      "source": [
        "from mnist import MNIST\n",
        "data = MNIST(\"data/MNIST/\")"
      ]
    },
    {
      "cell_type": "markdown",
      "metadata": {
        "id": "d5cxoiRpuT7d"
      },
      "source": [
        "The MNIST data-set has now been loaded and consists of 70.000 images and class-numbers for the images. The data-set is split into 3 mutually exclusive sub-sets. We will only use the training and test-sets in this tutorial."
      ]
    },
    {
      "cell_type": "code",
      "execution_count": 18,
      "metadata": {
        "id": "D5X8NcGquT7d",
        "outputId": "17747008-4211-47bf-81fe-1df232068362",
        "colab": {
          "base_uri": "https://localhost:8080/"
        }
      },
      "outputs": [
        {
          "output_type": "stream",
          "name": "stdout",
          "text": [
            "Size of:\n",
            "- Training-set:\t\t55000\n",
            "- Validation-set:\t5000\n",
            "- Test-set:\t\t10000\n"
          ]
        }
      ],
      "source": [
        "print(\"Size of:\")\n",
        "print(\"- Training-set:\\t\\t{}\".format(data.num_train))\n",
        "print(\"- Validation-set:\\t{}\".format(data.num_val))\n",
        "print(\"- Test-set:\\t\\t{}\".format(data.num_test))"
      ]
    },
    {
      "cell_type": "markdown",
      "metadata": {
        "id": "NoyW_NM4uT7d"
      },
      "source": [
        "Copy some of the data-dimensions for convenience."
      ]
    },
    {
      "cell_type": "code",
      "execution_count": 19,
      "metadata": {
        "id": "l9W4YWpvuT7d"
      },
      "outputs": [],
      "source": [
        "# The number of pixels in each dimension of an image.\n",
        "img_size = data.img_size\n",
        "\n",
        "# The images are stored in one-dimensional arrays of this length.\n",
        "img_size_flat = data.img_size_flat\n",
        "\n",
        "# Tuple with height and width of images used to reshape arrays.\n",
        "img_shape = data.img_shape\n",
        "\n",
        "# Tuple with height, width and depth used to reshape arrays.\n",
        "# This is used for reshaping in Keras.\n",
        "img_shape_full = data.img_shape_full\n",
        "\n",
        "# Number of classes, one class for each of 10 digits.\n",
        "num_classes = data.num_classes\n",
        "\n",
        "# Number of colour channels for the images: 1 channel for gray-scale.\n",
        "num_channels = data.num_channels"
      ]
    },
    {
      "cell_type": "markdown",
      "metadata": {
        "id": "TANPMbwbuT7d"
      },
      "source": [
        "We use the performance on the validation-set as an indication of which choice of hyper-parameters performs the best on previously unseen data. The Keras API needs the validation-set as a tuple."
      ]
    },
    {
      "cell_type": "code",
      "execution_count": 20,
      "metadata": {
        "id": "0JY8VpYcuT7d"
      },
      "outputs": [],
      "source": [
        "validation_data = (data.x_val, data.y_val)"
      ]
    },
    {
      "cell_type": "markdown",
      "metadata": {
        "id": "HfE36RPcuT7d"
      },
      "source": [
        "### Helper-function for plotting images"
      ]
    },
    {
      "cell_type": "markdown",
      "metadata": {
        "id": "zh-cnmkQuT7d"
      },
      "source": [
        "Function used to plot 9 images in a 3x3 grid, and writing the true and predicted classes below each image."
      ]
    },
    {
      "cell_type": "code",
      "execution_count": 21,
      "metadata": {
        "id": "SzVFGRYzuT7d"
      },
      "outputs": [],
      "source": [
        "def plot_images(images, cls_true, cls_pred=None):\n",
        "    assert len(images) == len(cls_true) == 9\n",
        "    \n",
        "    # Create figure with 3x3 sub-plots.\n",
        "    fig, axes = plt.subplots(3, 3)\n",
        "    fig.subplots_adjust(hspace=0.3, wspace=0.3)\n",
        "\n",
        "    for i, ax in enumerate(axes.flat):\n",
        "        # Plot image.\n",
        "        ax.imshow(images[i].reshape(img_shape), cmap='binary')\n",
        "\n",
        "        # Show true and predicted classes.\n",
        "        if cls_pred is None:\n",
        "            xlabel = \"True: {0}\".format(cls_true[i])\n",
        "        else:\n",
        "            xlabel = \"True: {0}, Pred: {1}\".format(cls_true[i], cls_pred[i])\n",
        "\n",
        "        # Show the classes as the label on the x-axis.\n",
        "        ax.set_xlabel(xlabel)\n",
        "        \n",
        "        # Remove ticks from the plot.\n",
        "        ax.set_xticks([])\n",
        "        ax.set_yticks([])\n",
        "    \n",
        "    # Ensure the plot is shown correctly with multiple plots\n",
        "    # in a single Notebook cell.\n",
        "    plt.show()"
      ]
    },
    {
      "cell_type": "markdown",
      "metadata": {
        "id": "UOxUgcUpuT7d"
      },
      "source": [
        "### Plot a few images to see if data is correct"
      ]
    },
    {
      "cell_type": "code",
      "execution_count": 22,
      "metadata": {
        "id": "mhgpWB8kuT7d",
        "outputId": "1722eda2-44f3-4d82-f5b2-3985d7728194",
        "colab": {
          "base_uri": "https://localhost:8080/",
          "height": 262
        }
      },
      "outputs": [
        {
          "output_type": "display_data",
          "data": {
            "text/plain": [
              "<Figure size 432x288 with 9 Axes>"
            ],
            "image/png": "[encoded data removed]"
          },
          "metadata": {}
        }
      ],
      "source": [
        "# Get the first images from the test-set.\n",
        "images = data.x_test[0:9]\n",
        "\n",
        "# Get the true classes for those images.\n",
        "cls_true = data.y_test_cls[0:9]\n",
        "\n",
        "# Plot the images and labels using our helper-function above.\n",
        "plot_images(images=images, cls_true=cls_true)"
      ]
    },
    {
      "cell_type": "markdown",
      "metadata": {
        "id": "albNEgi-uT7e"
      },
      "source": [
        "### Helper-function to plot example errors\n",
        "\n",
        "Function for plotting examples of images from the test-set that have been mis-classified."
      ]
    },
    {
      "cell_type": "code",
      "execution_count": 23,
      "metadata": {
        "id": "H2xm0mEIuT7e"
      },
      "outputs": [],
      "source": [
        "def plot_example_errors(cls_pred):\n",
        "    # cls_pred is an array of the predicted class-number for\n",
        "    # all images in the test-set.\n",
        "\n",
        "    # Boolean array whether the predicted class is incorrect.\n",
        "    incorrect = (cls_pred != data.y_test_cls)\n",
        "\n",
        "    # Get the images from the test-set that have been\n",
        "    # incorrectly classified.\n",
        "    images = data.x_test[incorrect]\n",
        "    \n",
        "    # Get the predicted classes for those images.\n",
        "    cls_pred = cls_pred[incorrect]\n",
        "\n",
        "    # Get the true classes for those images.\n",
        "    cls_true = data.y_test_cls[incorrect]\n",
        "    \n",
        "    # Plot the first 9 images.\n",
        "    plot_images(images=images[0:9],\n",
        "                cls_true=cls_true[0:9],\n",
        "                cls_pred=cls_pred[0:9])"
      ]
    },
    {
      "cell_type": "markdown",
      "metadata": {
        "id": "hIlb0l78uT7e"
      },
      "source": [
        "## Hyper-Parameter Optimization\n",
        "\n",
        "There are several steps required to do hyper-parameter optimization.\n",
        "\n",
        "### Create the Model\n",
        "\n",
        "We first need a function that takes a set of hyper-parameters and creates the Convolutional Neural Network corresponding to those parameters. We use Keras to build the neural network in TensorFlow, see Tutorial #03-C for more details."
      ]
    },
    {
      "cell_type": "code",
      "execution_count": 24,
      "metadata": {
        "scrolled": true,
        "id": "JSKWXDDHuT7e"
      },
      "outputs": [],
      "source": [
        "def create_model(learning_rate, num_dense_layers,\n",
        "                 num_dense_nodes, activation):\n",
        "    \"\"\"\n",
        "    Hyper-parameters:\n",
        "    learning_rate:     Learning-rate for the optimizer.\n",
        "    num_dense_layers:  Number of dense layers.\n",
        "    num_dense_nodes:   Number of nodes in each dense layer.\n",
        "    activation:        Activation function for all layers.\n",
        "    \"\"\"\n",
        "    \n",
        "    # Start construction of a Keras Sequential model.\n",
        "    model = Sequential()\n",
        "\n",
        "    # Add an input layer which is similar to a feed_dict in TensorFlow.\n",
        "    # Note that the input-shape must be a tuple containing the image-size.\n",
        "    model.add(InputLayer(input_shape=(img_size_flat,)))\n",
        "\n",
        "    # The input from MNIST is a flattened array with 784 elements,\n",
        "    # but the convolutional layers expect images with shape (28, 28, 1)\n",
        "    model.add(Reshape(img_shape_full))\n",
        "\n",
        "    # First convolutional layer.\n",
        "    # There are many hyper-parameters in this layer, but we only\n",
        "    # want to optimize the activation-function in this example.\n",
        "    model.add(Conv2D(kernel_size=5, strides=1, filters=16, padding='same',\n",
        "                     activation=activation, name='layer_conv1'))\n",
        "    model.add(MaxPooling2D(pool_size=2, strides=2))\n",
        "\n",
        "    # Second convolutional layer.\n",
        "    # Again, we only want to optimize the activation-function here.\n",
        "    model.add(Conv2D(kernel_size=5, strides=1, filters=36, padding='same',\n",
        "                     activation=activation, name='layer_conv2'))\n",
        "    model.add(MaxPooling2D(pool_size=2, strides=2))\n",
        "\n",
        "    # Flatten the 4-rank output of the convolutional layers\n",
        "    # to 2-rank that can be input to a fully-connected / dense layer.\n",
        "    model.add(Flatten())\n",
        "\n",
        "    # Add fully-connected / dense layers.\n",
        "    # The number of layers is a hyper-parameter we want to optimize.\n",
        "    for i in range(num_dense_layers):\n",
        "        # Name of the layer. This is not really necessary\n",
        "        # because Keras should give them unique names.\n",
        "        name = 'layer_dense_{0}'.format(i+1)\n",
        "\n",
        "        # Add the dense / fully-connected layer to the model.\n",
        "        # This has two hyper-parameters we want to optimize:\n",
        "        # The number of nodes and the activation function.\n",
        "        model.add(Dense(num_dense_nodes,\n",
        "                        activation=activation,\n",
        "                        name=name))\n",
        "\n",
        "    # Last fully-connected / dense layer with softmax-activation\n",
        "    # for use in classification.\n",
        "    model.add(Dense(num_classes, activation='softmax'))\n",
        "    \n",
        "    # Use the Adam method for training the network.\n",
        "    # We want to find the best learning-rate for the Adam method.\n",
        "    optimizer = Adam(lr=learning_rate)\n",
        "    \n",
        "    # In Keras we need to compile the model so it can be trained.\n",
        "    model.compile(optimizer=optimizer,\n",
        "                  loss='categorical_crossentropy',\n",
        "                  metrics=['accuracy'])\n",
        "    \n",
        "    return model"
      ]
    },
    {
      "cell_type": "markdown",
      "metadata": {
        "id": "82t_ZVb5uT7e"
      },
      "source": [
        "### Train and Evaluate the Model\n",
        "\n",
        "The neural network with the best hyper-parameters is saved to disk so it can be reloaded later. This is the filename for the model."
      ]
    },
    {
      "cell_type": "code",
      "execution_count": 25,
      "metadata": {
        "id": "PkHbhpjGuT7e"
      },
      "outputs": [],
      "source": [
        "path_best_model = '19_best_model.h5'"
      ]
    },
    {
      "cell_type": "markdown",
      "metadata": {
        "id": "FjdRYkePuT7e"
      },
      "source": [
        "This is the classification accuracy for the model saved to disk. It is a global variable which will be updated during optimization of the hyper-parameters."
      ]
    },
    {
      "cell_type": "code",
      "execution_count": 26,
      "metadata": {
        "id": "QcMm7fVVuT7e"
      },
      "outputs": [],
      "source": [
        "best_accuracy = 0.0"
      ]
    },
    {
      "cell_type": "markdown",
      "metadata": {
        "id": "RFHS54mIuT7e"
      },
      "source": [
        "This is the function that creates and trains a neural network with the given hyper-parameters, and then evaluates its performance on the validation-set. The function then returns the so-called fitness value (aka. objective value), which is the negative classification accuracy on the validation-set. It is negative because `skopt` performs minimization instead of maximization.\n",
        "\n",
        "Note the function decorator `@use_named_args` which wraps the fitness function so that it can be called with all the parameters as a single list, for example: `fitness(x=[1e-4, 3, 256, 'relu'])`. This is the calling-style `skopt` uses internally."
      ]
    },
    {
      "cell_type": "code",
      "execution_count": 27,
      "metadata": {
        "id": "l5KqVvuHuT7e"
      },
      "outputs": [],
      "source": [
        "@use_named_args(dimensions=dimensions)\n",
        "def fitness(learning_rate, num_dense_layers,\n",
        "            num_dense_nodes, activation):\n",
        "    \"\"\"\n",
        "    Hyper-parameters:\n",
        "    learning_rate:     Learning-rate for the optimizer.\n",
        "    num_dense_layers:  Number of dense layers.\n",
        "    num_dense_nodes:   Number of nodes in each dense layer.\n",
        "    activation:        Activation function for all layers.\n",
        "    \"\"\"\n",
        "\n",
        "    # Print the hyper-parameters.\n",
        "    print('learning rate: {0:.1e}'.format(learning_rate))\n",
        "    print('num_dense_layers:', num_dense_layers)\n",
        "    print('num_dense_nodes:', num_dense_nodes)\n",
        "    print('activation:', activation)\n",
        "    print()\n",
        "    \n",
        "    # Create the neural network with these hyper-parameters.\n",
        "    model = create_model(learning_rate=learning_rate,\n",
        "                         num_dense_layers=num_dense_layers,\n",
        "                         num_dense_nodes=num_dense_nodes,\n",
        "                         activation=activation)\n",
        "\n",
        "    # Dir-name for the TensorBoard log-files.\n",
        "    log_dir = log_dir_name(learning_rate, num_dense_layers,\n",
        "                           num_dense_nodes, activation)\n",
        "    \n",
        "    # Create a callback-function for Keras which will be\n",
        "    # run after each epoch has ended during training.\n",
        "    # This saves the log-files for TensorBoard.\n",
        "    # Note that there are complications when histogram_freq=1.\n",
        "    # It might give strange errors and it also does not properly\n",
        "    # support Keras data-generators for the validation-set.\n",
        "    callback_log = TensorBoard(\n",
        "        log_dir=log_dir,\n",
        "        histogram_freq=0,\n",
        "        write_graph=True,\n",
        "        write_grads=False,\n",
        "        write_images=False)\n",
        "   \n",
        "    # Use Keras to train the model.\n",
        "    history = model.fit(x=data.x_train,\n",
        "                        y=data.y_train,\n",
        "                        epochs=3,\n",
        "                        batch_size=128,\n",
        "                        validation_data=validation_data,\n",
        "                        callbacks=[callback_log])\n",
        "\n",
        "    # Get the classification accuracy on the validation-set\n",
        "    # after the last training-epoch.\n",
        "    accuracy = history.history['val_accuracy'][-1]\n",
        "\n",
        "    # Print the classification accuracy.\n",
        "    print()\n",
        "    print(\"Accuracy: {0:.2%}\".format(accuracy))\n",
        "    print()\n",
        "\n",
        "    # Save the model if it improves on the best-found performance.\n",
        "    # We use the global keyword so we update the variable outside\n",
        "    # of this function.\n",
        "    global best_accuracy\n",
        "\n",
        "    # If the classification accuracy of the saved model is improved ...\n",
        "    if accuracy > best_accuracy:\n",
        "        # Save the new model to harddisk.\n",
        "        model.save(path_best_model)\n",
        "        \n",
        "        # Update the classification accuracy.\n",
        "        best_accuracy = accuracy\n",
        "\n",
        "    # Delete the Keras model with these hyper-parameters from memory.\n",
        "    del model\n",
        "    \n",
        "    # Clear the Keras session, otherwise it will keep adding new\n",
        "    # models to the same TensorFlow graph each time we create\n",
        "    # a model with a different set of hyper-parameters.\n",
        "    K.clear_session()\n",
        "    \n",
        "    # NOTE: Scikit-optimize does minimization so it tries to\n",
        "    # find a set of hyper-parameters with the LOWEST fitness-value.\n",
        "    # Because we are interested in the HIGHEST classification\n",
        "    # accuracy, we need to negate this number so it can be minimized.\n",
        "    return -accuracy"
      ]
    },
    {
      "cell_type": "markdown",
      "metadata": {
        "id": "DJmvOqU6uT7e"
      },
      "source": [
        "### Test Run\n",
        "\n",
        "Before we run the hyper-parameter optimization, let us first check that the various functions above actually work, when we pass the default hyper-parameters."
      ]
    },
    {
      "cell_type": "code",
      "execution_count": 28,
      "metadata": {
        "scrolled": false,
        "id": "J72mn2eSuT7e",
        "outputId": "10d08ad2-6045-478e-f834-e087428710a8",
        "colab": {
          "base_uri": "https://localhost:8080/"
        }
      },
      "outputs": [
        {
          "output_type": "stream",
          "name": "stdout",
          "text": [
            "learning rate: 1.0e-05\n",
            "num_dense_layers: 1\n",
            "num_dense_nodes: 16\n",
            "activation: relu\n",
            "\n"
          ]
        },
        {
          "output_type": "stream",
          "name": "stderr",
          "text": [
            "/usr/local/lib/python3.7/dist-packages/keras/optimizer_v2/adam.py:105: UserWarning: The `lr` argument is deprecated, use `learning_rate` instead.\n",
            "  super(Adam, self).__init__(name, **kwargs)\n"
          ]
        },
        {
          "output_type": "stream",
          "name": "stdout",
          "text": [
            "Epoch 1/3\n",
            "430/430 [==============================] - 14s 6ms/step - loss: 2.2450 - accuracy: 0.2493 - val_loss: 2.1430 - val_accuracy: 0.2652\n",
            "Epoch 2/3\n",
            "430/430 [==============================] - 2s 5ms/step - loss: 1.9923 - accuracy: 0.2937 - val_loss: 1.7931 - val_accuracy: 0.3648\n",
            "Epoch 3/3\n",
            "430/430 [==============================] - 2s 5ms/step - loss: 1.6519 - accuracy: 0.4464 - val_loss: 1.4439 - val_accuracy: 0.5550\n",
            "\n",
            "Accuracy: 55.50%\n",
            "\n"
          ]
        },
        {
          "output_type": "execute_result",
          "data": {
            "text/plain": [
              "-0.5550000071525574"
            ]
          },
          "metadata": {},
          "execution_count": 28
        }
      ],
      "source": [
        "fitness(x=default_parameters)"
      ]
    },
    {
      "cell_type": "markdown",
      "metadata": {
        "id": "kbqYb9ZquT7f"
      },
      "source": [
        "### Run the Hyper-Parameter Optimization\n",
        "\n",
        "Now we are ready to run the actual hyper-parameter optimization using Bayesian optimization from the scikit-optimize package. Note that it first calls `fitness()` with `default_parameters` as the starting point we have found by hand-tuning, which should help the optimizer locate better hyper-parameters faster.\n",
        "\n",
        "There are many more parameters you can experiment with here, including the number of calls to the `fitness()` function which we have set to 40. But `fitness()` is very expensive to evaluate so it should not be run too many times, especially for larger neural networks and datasets.\n",
        "\n",
        "You can also experiment with the so-called acquisition function which determines how to find a new set of hyper-parameters from the internal model of the Bayesian optimizer. You can also try using another Bayesian optimizer such as Random Forests."
      ]
    },
    {
      "cell_type": "code",
      "execution_count": 29,
      "metadata": {
        "id": "A-9SEDQBuT7f",
        "outputId": "a3d3c053-e565-4810-deb2-0639152debc5",
        "colab": {
          "base_uri": "https://localhost:8080/"
        }
      },
      "outputs": [
        {
          "output_type": "stream",
          "name": "stdout",
          "text": [
            "learning rate: 1.0e-05\n",
            "num_dense_layers: 1\n",
            "num_dense_nodes: 16\n",
            "activation: relu\n",
            "\n"
          ]
        },
        {
          "output_type": "stream",
          "name": "stderr",
          "text": [
            "/usr/local/lib/python3.7/dist-packages/keras/optimizer_v2/adam.py:105: UserWarning: The `lr` argument is deprecated, use `learning_rate` instead.\n",
            "  super(Adam, self).__init__(name, **kwargs)\n"
          ]
        },
        {
          "output_type": "stream",
          "name": "stdout",
          "text": [
            "Epoch 1/3\n",
            "430/430 [==============================] - 3s 6ms/step - loss: 2.2234 - accuracy: 0.3333 - val_loss: 2.1074 - val_accuracy: 0.4516\n",
            "Epoch 2/3\n",
            "430/430 [==============================] - 2s 5ms/step - loss: 1.9387 - accuracy: 0.5185 - val_loss: 1.7209 - val_accuracy: 0.6104\n",
            "Epoch 3/3\n",
            "430/430 [==============================] - 2s 5ms/step - loss: 1.5212 - accuracy: 0.6302 - val_loss: 1.2636 - val_accuracy: 0.7074\n",
            "\n",
            "Accuracy: 70.74%\n",
            "\n",
            "learning rate: 5.0e-04\n",
            "num_dense_layers: 5\n",
            "num_dense_nodes: 400\n",
            "activation: sigmoid\n",
            "\n",
            "Epoch 1/3\n",
            "430/430 [==============================] - 3s 6ms/step - loss: 2.2221 - accuracy: 0.1393 - val_loss: 1.4919 - val_accuracy: 0.3756\n",
            "Epoch 2/3\n",
            "430/430 [==============================] - 2s 6ms/step - loss: 0.7780 - accuracy: 0.7099 - val_loss: 0.3844 - val_accuracy: 0.8772\n",
            "Epoch 3/3\n",
            "430/430 [==============================] - 2s 6ms/step - loss: 0.3147 - accuracy: 0.9046 - val_loss: 0.2061 - val_accuracy: 0.9420\n",
            "\n",
            "Accuracy: 94.20%\n",
            "\n",
            "learning rate: 8.9e-05\n",
            "num_dense_layers: 4\n",
            "num_dense_nodes: 484\n",
            "activation: relu\n",
            "\n",
            "Epoch 1/3\n",
            "430/430 [==============================] - 3s 6ms/step - loss: 0.5161 - accuracy: 0.8573 - val_loss: 0.1399 - val_accuracy: 0.9574\n",
            "Epoch 2/3\n",
            "430/430 [==============================] - 2s 6ms/step - loss: 0.1293 - accuracy: 0.9610 - val_loss: 0.0806 - val_accuracy: 0.9782\n",
            "Epoch 3/3\n",
            "430/430 [==============================] - 3s 6ms/step - loss: 0.0826 - accuracy: 0.9750 - val_loss: 0.0626 - val_accuracy: 0.9826\n",
            "\n",
            "Accuracy: 98.26%\n",
            "\n",
            "learning rate: 2.1e-05\n",
            "num_dense_layers: 4\n",
            "num_dense_nodes: 130\n",
            "activation: relu\n",
            "\n",
            "Epoch 1/3\n",
            "430/430 [==============================] - 3s 6ms/step - loss: 1.6597 - accuracy: 0.5948 - val_loss: 0.6894 - val_accuracy: 0.8302\n",
            "Epoch 2/3\n",
            "430/430 [==============================] - 2s 6ms/step - loss: 0.5401 - accuracy: 0.8463 - val_loss: 0.3374 - val_accuracy: 0.9092\n",
            "Epoch 3/3\n",
            "430/430 [==============================] - 2s 5ms/step - loss: 0.3494 - accuracy: 0.8995 - val_loss: 0.2343 - val_accuracy: 0.9382\n",
            "\n",
            "Accuracy: 93.82%\n",
            "\n",
            "learning rate: 2.1e-03\n",
            "num_dense_layers: 5\n",
            "num_dense_nodes: 56\n",
            "activation: relu\n",
            "\n",
            "Epoch 1/3\n",
            "430/430 [==============================] - 3s 6ms/step - loss: 0.2607 - accuracy: 0.9164 - val_loss: 0.0905 - val_accuracy: 0.9766\n",
            "Epoch 2/3\n",
            "430/430 [==============================] - 2s 5ms/step - loss: 0.0679 - accuracy: 0.9791 - val_loss: 0.0526 - val_accuracy: 0.9862\n",
            "Epoch 3/3\n",
            "430/430 [==============================] - 2s 5ms/step - loss: 0.0444 - accuracy: 0.9863 - val_loss: 0.0523 - val_accuracy: 0.9858\n",
            "\n",
            "Accuracy: 98.58%\n",
            "\n",
            "learning rate: 2.5e-04\n",
            "num_dense_layers: 3\n",
            "num_dense_nodes: 504\n",
            "activation: relu\n",
            "\n",
            "Epoch 1/3\n",
            "430/430 [==============================] - 3s 6ms/step - loss: 0.3139 - accuracy: 0.9120 - val_loss: 0.0779 - val_accuracy: 0.9760\n",
            "Epoch 2/3\n",
            "430/430 [==============================] - 2s 5ms/step - loss: 0.0755 - accuracy: 0.9766 - val_loss: 0.0545 - val_accuracy: 0.9856\n",
            "Epoch 3/3\n",
            "430/430 [==============================] - 2s 6ms/step - loss: 0.0520 - accuracy: 0.9835 - val_loss: 0.0431 - val_accuracy: 0.9878\n",
            "\n",
            "Accuracy: 98.78%\n",
            "\n",
            "learning rate: 5.6e-05\n",
            "num_dense_layers: 2\n",
            "num_dense_nodes: 440\n",
            "activation: relu\n",
            "\n",
            "Epoch 1/3\n",
            "430/430 [==============================] - 4s 7ms/step - loss: 0.7147 - accuracy: 0.8345 - val_loss: 0.1956 - val_accuracy: 0.9456\n",
            "Epoch 2/3\n",
            "430/430 [==============================] - 2s 6ms/step - loss: 0.2041 - accuracy: 0.9403 - val_loss: 0.1253 - val_accuracy: 0.9656\n",
            "Epoch 3/3\n",
            "430/430 [==============================] - 2s 5ms/step - loss: 0.1401 - accuracy: 0.9579 - val_loss: 0.1009 - val_accuracy: 0.9710\n",
            "\n",
            "Accuracy: 97.10%\n",
            "\n",
            "learning rate: 1.2e-03\n",
            "num_dense_layers: 2\n",
            "num_dense_nodes: 92\n",
            "activation: relu\n",
            "\n",
            "Epoch 1/3\n",
            "430/430 [==============================] - 3s 5ms/step - loss: 0.2338 - accuracy: 0.9285 - val_loss: 0.0691 - val_accuracy: 0.9812\n",
            "Epoch 2/3\n",
            "430/430 [==============================] - 2s 5ms/step - loss: 0.0600 - accuracy: 0.9820 - val_loss: 0.0476 - val_accuracy: 0.9854\n",
            "Epoch 3/3\n",
            "430/430 [==============================] - 2s 5ms/step - loss: 0.0417 - accuracy: 0.9869 - val_loss: 0.0449 - val_accuracy: 0.9872\n",
            "\n",
            "Accuracy: 98.72%\n",
            "\n",
            "learning rate: 2.1e-04\n",
            "num_dense_layers: 3\n",
            "num_dense_nodes: 490\n",
            "activation: relu\n",
            "\n",
            "Epoch 1/3\n",
            "430/430 [==============================] - 3s 6ms/step - loss: 0.3580 - accuracy: 0.8948 - val_loss: 0.0880 - val_accuracy: 0.9744\n",
            "Epoch 2/3\n",
            "430/430 [==============================] - 2s 5ms/step - loss: 0.0841 - accuracy: 0.9736 - val_loss: 0.0601 - val_accuracy: 0.9842\n",
            "Epoch 3/3\n",
            "430/430 [==============================] - 2s 5ms/step - loss: 0.0577 - accuracy: 0.9821 - val_loss: 0.0548 - val_accuracy: 0.9842\n",
            "\n",
            "Accuracy: 98.42%\n",
            "\n",
            "learning rate: 1.2e-03\n",
            "num_dense_layers: 4\n",
            "num_dense_nodes: 197\n",
            "activation: relu\n",
            "\n",
            "Epoch 1/3\n",
            "430/430 [==============================] - 3s 7ms/step - loss: 0.2170 - accuracy: 0.9313 - val_loss: 0.0682 - val_accuracy: 0.9810\n",
            "Epoch 2/3\n",
            "430/430 [==============================] - 2s 5ms/step - loss: 0.0580 - accuracy: 0.9818 - val_loss: 0.0502 - val_accuracy: 0.9872\n",
            "Epoch 3/3\n",
            "430/430 [==============================] - 2s 5ms/step - loss: 0.0391 - accuracy: 0.9881 - val_loss: 0.0410 - val_accuracy: 0.9900\n",
            "\n",
            "Accuracy: 99.00%\n",
            "\n",
            "learning rate: 1.7e-04\n",
            "num_dense_layers: 5\n",
            "num_dense_nodes: 61\n",
            "activation: relu\n",
            "\n",
            "Epoch 1/3\n",
            "430/430 [==============================] - 3s 6ms/step - loss: 0.6748 - accuracy: 0.7843 - val_loss: 0.1885 - val_accuracy: 0.9410\n",
            "Epoch 2/3\n",
            "430/430 [==============================] - 2s 5ms/step - loss: 0.1852 - accuracy: 0.9432 - val_loss: 0.1100 - val_accuracy: 0.9700\n",
            "Epoch 3/3\n",
            "430/430 [==============================] - 2s 5ms/step - loss: 0.1246 - accuracy: 0.9621 - val_loss: 0.0848 - val_accuracy: 0.9762\n",
            "\n",
            "Accuracy: 97.62%\n",
            "\n",
            "learning rate: 1.0e-02\n",
            "num_dense_layers: 5\n",
            "num_dense_nodes: 496\n",
            "activation: relu\n",
            "\n",
            "Epoch 1/3\n"
          ]
        },
        {
          "output_type": "stream",
          "name": "stderr",
          "text": [
            "/usr/local/lib/python3.7/dist-packages/keras/optimizer_v2/adam.py:105: UserWarning: The `lr` argument is deprecated, use `learning_rate` instead.\n",
            "  super(Adam, self).__init__(name, **kwargs)\n"
          ]
        },
        {
          "output_type": "stream",
          "name": "stdout",
          "text": [
            "430/430 [==============================] - 3s 6ms/step - loss: 2.3230 - accuracy: 0.1111 - val_loss: 2.3017 - val_accuracy: 0.1060\n",
            "Epoch 2/3\n",
            "430/430 [==============================] - 2s 6ms/step - loss: 2.3017 - accuracy: 0.1134 - val_loss: 2.3022 - val_accuracy: 0.1126\n",
            "Epoch 3/3\n",
            "430/430 [==============================] - 3s 6ms/step - loss: 2.3020 - accuracy: 0.1119 - val_loss: 2.3022 - val_accuracy: 0.1060\n",
            "\n",
            "Accuracy: 10.60%\n",
            "\n",
            "learning rate: 1.0e-06\n",
            "num_dense_layers: 5\n",
            "num_dense_nodes: 512\n",
            "activation: sigmoid\n",
            "\n"
          ]
        },
        {
          "output_type": "stream",
          "name": "stderr",
          "text": [
            "/usr/local/lib/python3.7/dist-packages/keras/optimizer_v2/adam.py:105: UserWarning: The `lr` argument is deprecated, use `learning_rate` instead.\n",
            "  super(Adam, self).__init__(name, **kwargs)\n"
          ]
        },
        {
          "output_type": "stream",
          "name": "stdout",
          "text": [
            "Epoch 1/3\n",
            "430/430 [==============================] - 3s 6ms/step - loss: 2.3766 - accuracy: 0.1037 - val_loss: 2.3374 - val_accuracy: 0.1126\n",
            "Epoch 2/3\n",
            "430/430 [==============================] - 3s 6ms/step - loss: 2.3215 - accuracy: 0.1059 - val_loss: 2.3090 - val_accuracy: 0.1060\n",
            "Epoch 3/3\n",
            "430/430 [==============================] - 3s 6ms/step - loss: 2.3049 - accuracy: 0.1129 - val_loss: 2.3026 - val_accuracy: 0.1060\n",
            "\n",
            "Accuracy: 10.60%\n",
            "\n",
            "learning rate: 1.6e-03\n",
            "num_dense_layers: 5\n",
            "num_dense_nodes: 512\n",
            "activation: relu\n",
            "\n",
            "Epoch 1/3\n"
          ]
        },
        {
          "output_type": "stream",
          "name": "stderr",
          "text": [
            "/usr/local/lib/python3.7/dist-packages/keras/optimizer_v2/adam.py:105: UserWarning: The `lr` argument is deprecated, use `learning_rate` instead.\n",
            "  super(Adam, self).__init__(name, **kwargs)\n"
          ]
        },
        {
          "output_type": "stream",
          "name": "stdout",
          "text": [
            "430/430 [==============================] - 3s 7ms/step - loss: 0.2009 - accuracy: 0.9363 - val_loss: 0.0692 - val_accuracy: 0.9802\n",
            "Epoch 2/3\n",
            "430/430 [==============================] - 3s 6ms/step - loss: 0.0583 - accuracy: 0.9837 - val_loss: 0.0514 - val_accuracy: 0.9874\n",
            "Epoch 3/3\n",
            "430/430 [==============================] - 3s 6ms/step - loss: 0.0468 - accuracy: 0.9874 - val_loss: 0.0340 - val_accuracy: 0.9924\n",
            "\n",
            "Accuracy: 99.24%\n",
            "\n",
            "learning rate: 3.3e-05\n",
            "num_dense_layers: 5\n",
            "num_dense_nodes: 512\n",
            "activation: sigmoid\n",
            "\n",
            "Epoch 1/3\n"
          ]
        },
        {
          "output_type": "stream",
          "name": "stderr",
          "text": [
            "/usr/local/lib/python3.7/dist-packages/keras/optimizer_v2/adam.py:105: UserWarning: The `lr` argument is deprecated, use `learning_rate` instead.\n",
            "  super(Adam, self).__init__(name, **kwargs)\n"
          ]
        },
        {
          "output_type": "stream",
          "name": "stdout",
          "text": [
            "430/430 [==============================] - 3s 7ms/step - loss: 2.3083 - accuracy: 0.1099 - val_loss: 2.3023 - val_accuracy: 0.1060\n",
            "Epoch 2/3\n",
            "430/430 [==============================] - 3s 6ms/step - loss: 2.3034 - accuracy: 0.1075 - val_loss: 2.3017 - val_accuracy: 0.1126\n",
            "Epoch 3/3\n",
            "430/430 [==============================] - 3s 6ms/step - loss: 2.3032 - accuracy: 0.1104 - val_loss: 2.3062 - val_accuracy: 0.1060\n",
            "\n",
            "Accuracy: 10.60%\n",
            "\n",
            "learning rate: 5.2e-03\n",
            "num_dense_layers: 5\n",
            "num_dense_nodes: 411\n",
            "activation: sigmoid\n",
            "\n"
          ]
        },
        {
          "output_type": "stream",
          "name": "stderr",
          "text": [
            "/usr/local/lib/python3.7/dist-packages/keras/optimizer_v2/adam.py:105: UserWarning: The `lr` argument is deprecated, use `learning_rate` instead.\n",
            "  super(Adam, self).__init__(name, **kwargs)\n"
          ]
        },
        {
          "output_type": "stream",
          "name": "stdout",
          "text": [
            "Epoch 1/3\n",
            "430/430 [==============================] - 3s 6ms/step - loss: 2.3270 - accuracy: 0.1093 - val_loss: 2.3028 - val_accuracy: 0.1060\n",
            "Epoch 2/3\n",
            "430/430 [==============================] - 2s 6ms/step - loss: 2.3016 - accuracy: 0.1117 - val_loss: 2.3023 - val_accuracy: 0.1060\n",
            "Epoch 3/3\n",
            "430/430 [==============================] - 3s 6ms/step - loss: 2.3015 - accuracy: 0.1129 - val_loss: 2.3022 - val_accuracy: 0.1060\n",
            "\n",
            "Accuracy: 10.60%\n",
            "\n",
            "learning rate: 1.0e-06\n",
            "num_dense_layers: 5\n",
            "num_dense_nodes: 512\n",
            "activation: relu\n",
            "\n",
            "Epoch 1/3\n"
          ]
        },
        {
          "output_type": "stream",
          "name": "stderr",
          "text": [
            "/usr/local/lib/python3.7/dist-packages/keras/optimizer_v2/adam.py:105: UserWarning: The `lr` argument is deprecated, use `learning_rate` instead.\n",
            "  super(Adam, self).__init__(name, **kwargs)\n"
          ]
        },
        {
          "output_type": "stream",
          "name": "stdout",
          "text": [
            "430/430 [==============================] - 3s 6ms/step - loss: 2.2867 - accuracy: 0.2027 - val_loss: 2.2662 - val_accuracy: 0.3264\n",
            "Epoch 2/3\n",
            "430/430 [==============================] - 2s 6ms/step - loss: 2.2363 - accuracy: 0.4193 - val_loss: 2.1894 - val_accuracy: 0.5268\n",
            "Epoch 3/3\n",
            "430/430 [==============================] - 3s 6ms/step - loss: 2.1229 - accuracy: 0.5824 - val_loss: 2.0194 - val_accuracy: 0.6578\n",
            "\n",
            "Accuracy: 65.78%\n",
            "\n",
            "learning rate: 2.6e-04\n",
            "num_dense_layers: 1\n",
            "num_dense_nodes: 5\n",
            "activation: sigmoid\n",
            "\n"
          ]
        },
        {
          "output_type": "stream",
          "name": "stderr",
          "text": [
            "/usr/local/lib/python3.7/dist-packages/keras/optimizer_v2/adam.py:105: UserWarning: The `lr` argument is deprecated, use `learning_rate` instead.\n",
            "  super(Adam, self).__init__(name, **kwargs)\n"
          ]
        },
        {
          "output_type": "stream",
          "name": "stdout",
          "text": [
            "Epoch 1/3\n",
            "430/430 [==============================] - 3s 6ms/step - loss: 2.2989 - accuracy: 0.1180 - val_loss: 2.2657 - val_accuracy: 0.1270\n",
            "Epoch 2/3\n",
            "430/430 [==============================] - 2s 5ms/step - loss: 2.0739 - accuracy: 0.3736 - val_loss: 1.9166 - val_accuracy: 0.4290\n",
            "Epoch 3/3\n",
            "430/430 [==============================] - 2s 5ms/step - loss: 1.7868 - accuracy: 0.5050 - val_loss: 1.6217 - val_accuracy: 0.6018\n",
            "\n",
            "Accuracy: 60.18%\n",
            "\n",
            "learning rate: 8.0e-04\n",
            "num_dense_layers: 5\n",
            "num_dense_nodes: 512\n",
            "activation: sigmoid\n",
            "\n",
            "Epoch 1/3\n"
          ]
        },
        {
          "output_type": "stream",
          "name": "stderr",
          "text": [
            "/usr/local/lib/python3.7/dist-packages/keras/optimizer_v2/adam.py:105: UserWarning: The `lr` argument is deprecated, use `learning_rate` instead.\n",
            "  super(Adam, self).__init__(name, **kwargs)\n"
          ]
        },
        {
          "output_type": "stream",
          "name": "stdout",
          "text": [
            "430/430 [==============================] - 3s 7ms/step - loss: 2.2259 - accuracy: 0.1335 - val_loss: 1.4987 - val_accuracy: 0.3490\n",
            "Epoch 2/3\n",
            "430/430 [==============================] - 2s 6ms/step - loss: 0.9166 - accuracy: 0.6399 - val_loss: 0.2874 - val_accuracy: 0.9164\n",
            "Epoch 3/3\n",
            "430/430 [==============================] - 3s 6ms/step - loss: 0.2658 - accuracy: 0.9219 - val_loss: 0.1475 - val_accuracy: 0.9576\n",
            "\n",
            "Accuracy: 95.76%\n",
            "\n",
            "learning rate: 5.7e-04\n",
            "num_dense_layers: 5\n",
            "num_dense_nodes: 512\n",
            "activation: relu\n",
            "\n"
          ]
        },
        {
          "output_type": "stream",
          "name": "stderr",
          "text": [
            "/usr/local/lib/python3.7/dist-packages/keras/optimizer_v2/adam.py:105: UserWarning: The `lr` argument is deprecated, use `learning_rate` instead.\n",
            "  super(Adam, self).__init__(name, **kwargs)\n"
          ]
        },
        {
          "output_type": "stream",
          "name": "stdout",
          "text": [
            "Epoch 1/3\n",
            "430/430 [==============================] - 3s 6ms/step - loss: 0.2257 - accuracy: 0.9278 - val_loss: 0.0553 - val_accuracy: 0.9844\n",
            "Epoch 2/3\n",
            "430/430 [==============================] - 2s 6ms/step - loss: 0.0564 - accuracy: 0.9824 - val_loss: 0.0428 - val_accuracy: 0.9884\n",
            "Epoch 3/3\n",
            "430/430 [==============================] - 3s 6ms/step - loss: 0.0401 - accuracy: 0.9877 - val_loss: 0.0363 - val_accuracy: 0.9908\n",
            "\n",
            "Accuracy: 99.08%\n",
            "\n",
            "learning rate: 3.3e-05\n",
            "num_dense_layers: 5\n",
            "num_dense_nodes: 512\n",
            "activation: relu\n",
            "\n"
          ]
        },
        {
          "output_type": "stream",
          "name": "stderr",
          "text": [
            "/usr/local/lib/python3.7/dist-packages/keras/optimizer_v2/adam.py:105: UserWarning: The `lr` argument is deprecated, use `learning_rate` instead.\n",
            "  super(Adam, self).__init__(name, **kwargs)\n"
          ]
        },
        {
          "output_type": "stream",
          "name": "stdout",
          "text": [
            "Epoch 1/3\n",
            "430/430 [==============================] - 4s 6ms/step - loss: 0.7937 - accuracy: 0.8076 - val_loss: 0.2088 - val_accuracy: 0.9434\n",
            "Epoch 2/3\n",
            "430/430 [==============================] - 3s 6ms/step - loss: 0.2163 - accuracy: 0.9335 - val_loss: 0.1262 - val_accuracy: 0.9626\n",
            "Epoch 3/3\n",
            "430/430 [==============================] - 3s 6ms/step - loss: 0.1473 - accuracy: 0.9550 - val_loss: 0.0930 - val_accuracy: 0.9736\n",
            "\n",
            "Accuracy: 97.36%\n",
            "\n",
            "learning rate: 8.1e-04\n",
            "num_dense_layers: 5\n",
            "num_dense_nodes: 512\n",
            "activation: relu\n",
            "\n"
          ]
        },
        {
          "output_type": "stream",
          "name": "stderr",
          "text": [
            "/usr/local/lib/python3.7/dist-packages/keras/optimizer_v2/adam.py:105: UserWarning: The `lr` argument is deprecated, use `learning_rate` instead.\n",
            "  super(Adam, self).__init__(name, **kwargs)\n"
          ]
        },
        {
          "output_type": "stream",
          "name": "stdout",
          "text": [
            "Epoch 1/3\n",
            "430/430 [==============================] - 3s 7ms/step - loss: 0.2080 - accuracy: 0.9319 - val_loss: 0.0461 - val_accuracy: 0.9866\n",
            "Epoch 2/3\n",
            "430/430 [==============================] - 3s 6ms/step - loss: 0.0572 - accuracy: 0.9829 - val_loss: 0.0576 - val_accuracy: 0.9826\n",
            "Epoch 3/3\n",
            "430/430 [==============================] - 3s 6ms/step - loss: 0.0383 - accuracy: 0.9883 - val_loss: 0.0415 - val_accuracy: 0.9874\n",
            "\n",
            "Accuracy: 98.74%\n",
            "\n",
            "learning rate: 3.9e-04\n",
            "num_dense_layers: 5\n",
            "num_dense_nodes: 512\n",
            "activation: relu\n",
            "\n"
          ]
        },
        {
          "output_type": "stream",
          "name": "stderr",
          "text": [
            "/usr/local/lib/python3.7/dist-packages/keras/optimizer_v2/adam.py:105: UserWarning: The `lr` argument is deprecated, use `learning_rate` instead.\n",
            "  super(Adam, self).__init__(name, **kwargs)\n"
          ]
        },
        {
          "output_type": "stream",
          "name": "stdout",
          "text": [
            "Epoch 1/3\n",
            "430/430 [==============================] - 4s 7ms/step - loss: 0.2608 - accuracy: 0.9199 - val_loss: 0.0538 - val_accuracy: 0.9830\n",
            "Epoch 2/3\n",
            "430/430 [==============================] - 3s 6ms/step - loss: 0.0616 - accuracy: 0.9806 - val_loss: 0.0424 - val_accuracy: 0.9880\n",
            "Epoch 3/3\n",
            "430/430 [==============================] - 3s 6ms/step - loss: 0.0450 - accuracy: 0.9859 - val_loss: 0.0505 - val_accuracy: 0.9856\n",
            "\n",
            "Accuracy: 98.56%\n",
            "\n",
            "learning rate: 1.2e-04\n",
            "num_dense_layers: 1\n",
            "num_dense_nodes: 512\n",
            "activation: relu\n",
            "\n",
            "Epoch 1/3\n"
          ]
        },
        {
          "output_type": "stream",
          "name": "stderr",
          "text": [
            "/usr/local/lib/python3.7/dist-packages/keras/optimizer_v2/adam.py:105: UserWarning: The `lr` argument is deprecated, use `learning_rate` instead.\n",
            "  super(Adam, self).__init__(name, **kwargs)\n"
          ]
        },
        {
          "output_type": "stream",
          "name": "stdout",
          "text": [
            "430/430 [==============================] - 3s 6ms/step - loss: 0.5176 - accuracy: 0.8698 - val_loss: 0.1464 - val_accuracy: 0.9594\n",
            "Epoch 2/3\n",
            "430/430 [==============================] - 2s 5ms/step - loss: 0.1497 - accuracy: 0.9560 - val_loss: 0.1012 - val_accuracy: 0.9696\n",
            "Epoch 3/3\n",
            "430/430 [==============================] - 2s 5ms/step - loss: 0.0966 - accuracy: 0.9716 - val_loss: 0.0663 - val_accuracy: 0.9800\n",
            "\n",
            "Accuracy: 98.00%\n",
            "\n",
            "learning rate: 5.6e-06\n",
            "num_dense_layers: 1\n",
            "num_dense_nodes: 36\n",
            "activation: sigmoid\n",
            "\n",
            "Epoch 1/3\n"
          ]
        },
        {
          "output_type": "stream",
          "name": "stderr",
          "text": [
            "/usr/local/lib/python3.7/dist-packages/keras/optimizer_v2/adam.py:105: UserWarning: The `lr` argument is deprecated, use `learning_rate` instead.\n",
            "  super(Adam, self).__init__(name, **kwargs)\n"
          ]
        },
        {
          "output_type": "stream",
          "name": "stdout",
          "text": [
            "430/430 [==============================] - 3s 6ms/step - loss: 2.3634 - accuracy: 0.0962 - val_loss: 2.3065 - val_accuracy: 0.0998\n",
            "Epoch 2/3\n",
            "430/430 [==============================] - 2s 5ms/step - loss: 2.3034 - accuracy: 0.1024 - val_loss: 2.3021 - val_accuracy: 0.1060\n",
            "Epoch 3/3\n",
            "430/430 [==============================] - 2s 6ms/step - loss: 2.3015 - accuracy: 0.1129 - val_loss: 2.3016 - val_accuracy: 0.1060\n",
            "\n",
            "Accuracy: 10.60%\n",
            "\n",
            "learning rate: 1.6e-03\n",
            "num_dense_layers: 5\n",
            "num_dense_nodes: 5\n",
            "activation: relu\n",
            "\n",
            "Epoch 1/3\n"
          ]
        },
        {
          "output_type": "stream",
          "name": "stderr",
          "text": [
            "/usr/local/lib/python3.7/dist-packages/keras/optimizer_v2/adam.py:105: UserWarning: The `lr` argument is deprecated, use `learning_rate` instead.\n",
            "  super(Adam, self).__init__(name, **kwargs)\n"
          ]
        },
        {
          "output_type": "stream",
          "name": "stdout",
          "text": [
            "430/430 [==============================] - 3s 6ms/step - loss: 1.8632 - accuracy: 0.2574 - val_loss: 1.6351 - val_accuracy: 0.3474\n",
            "Epoch 2/3\n",
            "430/430 [==============================] - 2s 5ms/step - loss: 1.4817 - accuracy: 0.4230 - val_loss: 1.2835 - val_accuracy: 0.5048\n",
            "Epoch 3/3\n",
            "430/430 [==============================] - 2s 5ms/step - loss: 1.2519 - accuracy: 0.4958 - val_loss: 1.1669 - val_accuracy: 0.5456\n",
            "\n",
            "Accuracy: 54.56%\n",
            "\n",
            "learning rate: 5.0e-04\n",
            "num_dense_layers: 1\n",
            "num_dense_nodes: 512\n",
            "activation: relu\n",
            "\n",
            "Epoch 1/3\n"
          ]
        },
        {
          "output_type": "stream",
          "name": "stderr",
          "text": [
            "/usr/local/lib/python3.7/dist-packages/keras/optimizer_v2/adam.py:105: UserWarning: The `lr` argument is deprecated, use `learning_rate` instead.\n",
            "  super(Adam, self).__init__(name, **kwargs)\n"
          ]
        },
        {
          "output_type": "stream",
          "name": "stdout",
          "text": [
            "430/430 [==============================] - 3s 6ms/step - loss: 0.2547 - accuracy: 0.9248 - val_loss: 0.0710 - val_accuracy: 0.9806\n",
            "Epoch 2/3\n",
            "430/430 [==============================] - 2s 5ms/step - loss: 0.0640 - accuracy: 0.9802 - val_loss: 0.0460 - val_accuracy: 0.9872\n",
            "Epoch 3/3\n",
            "430/430 [==============================] - 2s 5ms/step - loss: 0.0442 - accuracy: 0.9863 - val_loss: 0.0422 - val_accuracy: 0.9896\n",
            "\n",
            "Accuracy: 98.96%\n",
            "\n",
            "learning rate: 5.0e-04\n",
            "num_dense_layers: 1\n",
            "num_dense_nodes: 512\n",
            "activation: relu\n",
            "\n",
            "Epoch 1/3\n"
          ]
        },
        {
          "output_type": "stream",
          "name": "stderr",
          "text": [
            "/usr/local/lib/python3.7/dist-packages/keras/optimizer_v2/adam.py:105: UserWarning: The `lr` argument is deprecated, use `learning_rate` instead.\n",
            "  super(Adam, self).__init__(name, **kwargs)\n"
          ]
        },
        {
          "output_type": "stream",
          "name": "stdout",
          "text": [
            "430/430 [==============================] - 3s 6ms/step - loss: 0.2469 - accuracy: 0.9275 - val_loss: 0.0701 - val_accuracy: 0.9812\n",
            "Epoch 2/3\n",
            "430/430 [==============================] - 2s 5ms/step - loss: 0.0620 - accuracy: 0.9811 - val_loss: 0.0512 - val_accuracy: 0.9874\n",
            "Epoch 3/3\n",
            "430/430 [==============================] - 2s 5ms/step - loss: 0.0434 - accuracy: 0.9865 - val_loss: 0.0455 - val_accuracy: 0.9882\n",
            "\n",
            "Accuracy: 98.82%\n",
            "\n",
            "learning rate: 2.3e-04\n",
            "num_dense_layers: 3\n",
            "num_dense_nodes: 497\n",
            "activation: relu\n",
            "\n",
            "Epoch 1/3\n"
          ]
        },
        {
          "output_type": "stream",
          "name": "stderr",
          "text": [
            "/usr/local/lib/python3.7/dist-packages/keras/optimizer_v2/adam.py:105: UserWarning: The `lr` argument is deprecated, use `learning_rate` instead.\n",
            "  super(Adam, self).__init__(name, **kwargs)\n"
          ]
        },
        {
          "output_type": "stream",
          "name": "stdout",
          "text": [
            "430/430 [==============================] - 3s 6ms/step - loss: 0.3405 - accuracy: 0.9016 - val_loss: 0.0817 - val_accuracy: 0.9770\n",
            "Epoch 2/3\n",
            "430/430 [==============================] - 2s 6ms/step - loss: 0.0792 - accuracy: 0.9753 - val_loss: 0.0562 - val_accuracy: 0.9830\n",
            "Epoch 3/3\n",
            "430/430 [==============================] - 2s 6ms/step - loss: 0.0558 - accuracy: 0.9819 - val_loss: 0.0538 - val_accuracy: 0.9844\n",
            "\n",
            "Accuracy: 98.44%\n",
            "\n",
            "learning rate: 5.3e-04\n",
            "num_dense_layers: 5\n",
            "num_dense_nodes: 512\n",
            "activation: relu\n",
            "\n",
            "Epoch 1/3\n"
          ]
        },
        {
          "output_type": "stream",
          "name": "stderr",
          "text": [
            "/usr/local/lib/python3.7/dist-packages/keras/optimizer_v2/adam.py:105: UserWarning: The `lr` argument is deprecated, use `learning_rate` instead.\n",
            "  super(Adam, self).__init__(name, **kwargs)\n"
          ]
        },
        {
          "output_type": "stream",
          "name": "stdout",
          "text": [
            "430/430 [==============================] - 3s 6ms/step - loss: 0.2269 - accuracy: 0.9273 - val_loss: 0.0894 - val_accuracy: 0.9728\n",
            "Epoch 2/3\n",
            "430/430 [==============================] - 3s 6ms/step - loss: 0.0599 - accuracy: 0.9813 - val_loss: 0.0728 - val_accuracy: 0.9816\n",
            "Epoch 3/3\n",
            "430/430 [==============================] - 3s 6ms/step - loss: 0.0417 - accuracy: 0.9873 - val_loss: 0.0409 - val_accuracy: 0.9872\n",
            "\n",
            "Accuracy: 98.72%\n",
            "\n",
            "learning rate: 1.2e-04\n",
            "num_dense_layers: 5\n",
            "num_dense_nodes: 393\n",
            "activation: sigmoid\n",
            "\n",
            "Epoch 1/3\n"
          ]
        },
        {
          "output_type": "stream",
          "name": "stderr",
          "text": [
            "/usr/local/lib/python3.7/dist-packages/keras/optimizer_v2/adam.py:105: UserWarning: The `lr` argument is deprecated, use `learning_rate` instead.\n",
            "  super(Adam, self).__init__(name, **kwargs)\n"
          ]
        },
        {
          "output_type": "stream",
          "name": "stdout",
          "text": [
            "430/430 [==============================] - 3s 7ms/step - loss: 2.3094 - accuracy: 0.1055 - val_loss: 2.3065 - val_accuracy: 0.1060\n",
            "Epoch 2/3\n",
            "430/430 [==============================] - 3s 6ms/step - loss: 2.0227 - accuracy: 0.2256 - val_loss: 1.4357 - val_accuracy: 0.4486\n",
            "Epoch 3/3\n",
            "430/430 [==============================] - 2s 6ms/step - loss: 1.0844 - accuracy: 0.6238 - val_loss: 0.7571 - val_accuracy: 0.7502\n",
            "\n",
            "Accuracy: 75.02%\n",
            "\n",
            "learning rate: 1.0e-02\n",
            "num_dense_layers: 5\n",
            "num_dense_nodes: 512\n",
            "activation: sigmoid\n",
            "\n"
          ]
        },
        {
          "output_type": "stream",
          "name": "stderr",
          "text": [
            "/usr/local/lib/python3.7/dist-packages/keras/optimizer_v2/adam.py:105: UserWarning: The `lr` argument is deprecated, use `learning_rate` instead.\n",
            "  super(Adam, self).__init__(name, **kwargs)\n"
          ]
        },
        {
          "output_type": "stream",
          "name": "stdout",
          "text": [
            "Epoch 1/3\n",
            "430/430 [==============================] - 3s 7ms/step - loss: 2.3865 - accuracy: 0.1026 - val_loss: 2.3183 - val_accuracy: 0.0978\n",
            "Epoch 2/3\n",
            "430/430 [==============================] - 2s 6ms/step - loss: 2.3182 - accuracy: 0.1029 - val_loss: 2.3097 - val_accuracy: 0.0964\n",
            "Epoch 3/3\n",
            "430/430 [==============================] - 3s 6ms/step - loss: 2.3157 - accuracy: 0.1042 - val_loss: 2.3213 - val_accuracy: 0.0998\n",
            "\n",
            "Accuracy: 9.98%\n",
            "\n",
            "learning rate: 5.1e-04\n",
            "num_dense_layers: 5\n",
            "num_dense_nodes: 512\n",
            "activation: relu\n",
            "\n",
            "Epoch 1/3\n"
          ]
        },
        {
          "output_type": "stream",
          "name": "stderr",
          "text": [
            "/usr/local/lib/python3.7/dist-packages/keras/optimizer_v2/adam.py:105: UserWarning: The `lr` argument is deprecated, use `learning_rate` instead.\n",
            "  super(Adam, self).__init__(name, **kwargs)\n"
          ]
        },
        {
          "output_type": "stream",
          "name": "stdout",
          "text": [
            "430/430 [==============================] - 3s 7ms/step - loss: 0.2270 - accuracy: 0.9300 - val_loss: 0.0550 - val_accuracy: 0.9830\n",
            "Epoch 2/3\n",
            "430/430 [==============================] - 3s 6ms/step - loss: 0.0604 - accuracy: 0.9814 - val_loss: 0.0604 - val_accuracy: 0.9804\n",
            "Epoch 3/3\n",
            "430/430 [==============================] - 3s 6ms/step - loss: 0.0399 - accuracy: 0.9880 - val_loss: 0.0380 - val_accuracy: 0.9892\n",
            "\n",
            "Accuracy: 98.92%\n",
            "\n",
            "learning rate: 6.1e-04\n",
            "num_dense_layers: 1\n",
            "num_dense_nodes: 512\n",
            "activation: relu\n",
            "\n",
            "Epoch 1/3\n"
          ]
        },
        {
          "output_type": "stream",
          "name": "stderr",
          "text": [
            "/usr/local/lib/python3.7/dist-packages/keras/optimizer_v2/adam.py:105: UserWarning: The `lr` argument is deprecated, use `learning_rate` instead.\n",
            "  super(Adam, self).__init__(name, **kwargs)\n"
          ]
        },
        {
          "output_type": "stream",
          "name": "stdout",
          "text": [
            "430/430 [==============================] - 3s 6ms/step - loss: 0.2259 - accuracy: 0.9345 - val_loss: 0.0607 - val_accuracy: 0.9832\n",
            "Epoch 2/3\n",
            "430/430 [==============================] - 2s 5ms/step - loss: 0.0579 - accuracy: 0.9818 - val_loss: 0.0463 - val_accuracy: 0.9882\n",
            "Epoch 3/3\n",
            "430/430 [==============================] - 2s 5ms/step - loss: 0.0401 - accuracy: 0.9875 - val_loss: 0.0404 - val_accuracy: 0.9902\n",
            "\n",
            "Accuracy: 99.02%\n",
            "\n",
            "learning rate: 6.9e-05\n",
            "num_dense_layers: 5\n",
            "num_dense_nodes: 5\n",
            "activation: relu\n",
            "\n",
            "Epoch 1/3\n"
          ]
        },
        {
          "output_type": "stream",
          "name": "stderr",
          "text": [
            "/usr/local/lib/python3.7/dist-packages/keras/optimizer_v2/adam.py:105: UserWarning: The `lr` argument is deprecated, use `learning_rate` instead.\n",
            "  super(Adam, self).__init__(name, **kwargs)\n"
          ]
        },
        {
          "output_type": "stream",
          "name": "stdout",
          "text": [
            "430/430 [==============================] - 3s 6ms/step - loss: 2.2110 - accuracy: 0.1393 - val_loss: 2.0831 - val_accuracy: 0.1988\n",
            "Epoch 2/3\n",
            "430/430 [==============================] - 2s 5ms/step - loss: 2.0026 - accuracy: 0.2344 - val_loss: 1.8857 - val_accuracy: 0.2898\n",
            "Epoch 3/3\n",
            "430/430 [==============================] - 2s 5ms/step - loss: 1.8124 - accuracy: 0.3079 - val_loss: 1.7247 - val_accuracy: 0.3256\n",
            "\n",
            "Accuracy: 32.56%\n",
            "\n",
            "learning rate: 1.6e-04\n",
            "num_dense_layers: 5\n",
            "num_dense_nodes: 137\n",
            "activation: relu\n",
            "\n",
            "Epoch 1/3\n"
          ]
        },
        {
          "output_type": "stream",
          "name": "stderr",
          "text": [
            "/usr/local/lib/python3.7/dist-packages/keras/optimizer_v2/adam.py:105: UserWarning: The `lr` argument is deprecated, use `learning_rate` instead.\n",
            "  super(Adam, self).__init__(name, **kwargs)\n"
          ]
        },
        {
          "output_type": "stream",
          "name": "stdout",
          "text": [
            "430/430 [==============================] - 3s 6ms/step - loss: 0.6008 - accuracy: 0.8232 - val_loss: 0.1809 - val_accuracy: 0.9440\n",
            "Epoch 2/3\n",
            "430/430 [==============================] - 2s 5ms/step - loss: 0.1604 - accuracy: 0.9510 - val_loss: 0.1037 - val_accuracy: 0.9696\n",
            "Epoch 3/3\n",
            "430/430 [==============================] - 2s 6ms/step - loss: 0.1028 - accuracy: 0.9687 - val_loss: 0.0737 - val_accuracy: 0.9794\n",
            "\n",
            "Accuracy: 97.94%\n",
            "\n",
            "learning rate: 1.0e-02\n",
            "num_dense_layers: 5\n",
            "num_dense_nodes: 101\n",
            "activation: relu\n",
            "\n",
            "Epoch 1/3\n"
          ]
        },
        {
          "output_type": "stream",
          "name": "stderr",
          "text": [
            "/usr/local/lib/python3.7/dist-packages/keras/optimizer_v2/adam.py:105: UserWarning: The `lr` argument is deprecated, use `learning_rate` instead.\n",
            "  super(Adam, self).__init__(name, **kwargs)\n"
          ]
        },
        {
          "output_type": "stream",
          "name": "stdout",
          "text": [
            "430/430 [==============================] - 3s 6ms/step - loss: 0.2600 - accuracy: 0.9175 - val_loss: 0.0672 - val_accuracy: 0.9824\n",
            "Epoch 2/3\n",
            "430/430 [==============================] - 2s 5ms/step - loss: 0.0883 - accuracy: 0.9787 - val_loss: 0.0833 - val_accuracy: 0.9844\n",
            "Epoch 3/3\n",
            "430/430 [==============================] - 2s 5ms/step - loss: 0.0773 - accuracy: 0.9826 - val_loss: 0.0441 - val_accuracy: 0.9882\n",
            "\n",
            "Accuracy: 98.82%\n",
            "\n",
            "learning rate: 2.6e-04\n",
            "num_dense_layers: 2\n",
            "num_dense_nodes: 314\n",
            "activation: relu\n",
            "\n",
            "Epoch 1/3\n"
          ]
        },
        {
          "output_type": "stream",
          "name": "stderr",
          "text": [
            "/usr/local/lib/python3.7/dist-packages/keras/optimizer_v2/adam.py:105: UserWarning: The `lr` argument is deprecated, use `learning_rate` instead.\n",
            "  super(Adam, self).__init__(name, **kwargs)\n"
          ]
        },
        {
          "output_type": "stream",
          "name": "stdout",
          "text": [
            "430/430 [==============================] - 3s 6ms/step - loss: 0.3589 - accuracy: 0.8988 - val_loss: 0.0930 - val_accuracy: 0.9738\n",
            "Epoch 2/3\n",
            "430/430 [==============================] - 2s 5ms/step - loss: 0.0887 - accuracy: 0.9729 - val_loss: 0.0639 - val_accuracy: 0.9812\n",
            "Epoch 3/3\n",
            "430/430 [==============================] - 2s 5ms/step - loss: 0.0606 - accuracy: 0.9812 - val_loss: 0.0531 - val_accuracy: 0.9842\n",
            "\n",
            "Accuracy: 98.42%\n",
            "\n",
            "learning rate: 3.8e-03\n",
            "num_dense_layers: 5\n",
            "num_dense_nodes: 107\n",
            "activation: sigmoid\n",
            "\n",
            "Epoch 1/3\n"
          ]
        },
        {
          "output_type": "stream",
          "name": "stderr",
          "text": [
            "/usr/local/lib/python3.7/dist-packages/keras/optimizer_v2/adam.py:105: UserWarning: The `lr` argument is deprecated, use `learning_rate` instead.\n",
            "  super(Adam, self).__init__(name, **kwargs)\n"
          ]
        },
        {
          "output_type": "stream",
          "name": "stdout",
          "text": [
            "430/430 [==============================] - 3s 6ms/step - loss: 2.3135 - accuracy: 0.1041 - val_loss: 2.3041 - val_accuracy: 0.0986\n",
            "Epoch 2/3\n",
            "430/430 [==============================] - 2s 5ms/step - loss: 2.3024 - accuracy: 0.1096 - val_loss: 2.3020 - val_accuracy: 0.1060\n",
            "Epoch 3/3\n",
            "430/430 [==============================] - 2s 5ms/step - loss: 2.3016 - accuracy: 0.1129 - val_loss: 2.3022 - val_accuracy: 0.1060\n",
            "\n",
            "Accuracy: 10.60%\n",
            "\n",
            "learning rate: 1.0e-06\n",
            "num_dense_layers: 2\n",
            "num_dense_nodes: 150\n",
            "activation: relu\n",
            "\n",
            "Epoch 1/3\n"
          ]
        },
        {
          "output_type": "stream",
          "name": "stderr",
          "text": [
            "/usr/local/lib/python3.7/dist-packages/keras/optimizer_v2/adam.py:105: UserWarning: The `lr` argument is deprecated, use `learning_rate` instead.\n",
            "  super(Adam, self).__init__(name, **kwargs)\n"
          ]
        },
        {
          "output_type": "stream",
          "name": "stdout",
          "text": [
            "430/430 [==============================] - 3s 6ms/step - loss: 2.2968 - accuracy: 0.1110 - val_loss: 2.2846 - val_accuracy: 0.1212\n",
            "Epoch 2/3\n",
            "430/430 [==============================] - 2s 5ms/step - loss: 2.2733 - accuracy: 0.1384 - val_loss: 2.2588 - val_accuracy: 0.1312\n",
            "Epoch 3/3\n",
            "430/430 [==============================] - 2s 5ms/step - loss: 2.2468 - accuracy: 0.1587 - val_loss: 2.2292 - val_accuracy: 0.1874\n",
            "\n",
            "Accuracy: 18.74%\n",
            "\n",
            "CPU times: user 5min 48s, sys: 35.9 s, total: 6min 24s\n",
            "Wall time: 6min 48s\n"
          ]
        }
      ],
      "source": [
        "%%time\n",
        "search_result = gp_minimize(func=fitness,\n",
        "                            dimensions=dimensions,\n",
        "                            acq_func='EI', # Expected Improvement.\n",
        "                            n_calls=40,\n",
        "                            x0=default_parameters)"
      ]
    },
    {
      "cell_type": "markdown",
      "metadata": {
        "id": "1GyOZYakuT7f"
      },
      "source": [
        "### Optimization Progress\n",
        "\n",
        "The progress of the hyper-parameter optimization can be easily plotted. The best fitness value found is plotted on the y-axis, remember that this is the negated classification accuracy on the validation-set.\n",
        "\n",
        "Note how few hyper-parameters had to be tried before substantial improvements were found."
      ]
    },
    {
      "cell_type": "code",
      "execution_count": 30,
      "metadata": {
        "scrolled": true,
        "id": "8S7bOcXluT7f",
        "outputId": "d2df1e28-5a2a-4462-e09c-85e724618d61",
        "colab": {
          "base_uri": "https://localhost:8080/",
          "height": 314
        }
      },
      "outputs": [
        {
          "output_type": "execute_result",
          "data": {
            "text/plain": [
              "<matplotlib.axes._subplots.AxesSubplot at 0x7ff6d6398850>"
            ]
          },
          "metadata": {},
          "execution_count": 30
        },
        {
          "output_type": "display_data",
          "data": {
            "text/plain": [
              "<Figure size 432x288 with 1 Axes>"
            ],
            "image/png": "[encoded data removed]"
          },
          "metadata": {
            "needs_background": "light"
          }
        }
      ],
      "source": [
        "plot_convergence(search_result)"
      ]
    },
    {
      "cell_type": "markdown",
      "metadata": {
        "id": "C6Z2u8QVuT7f"
      },
      "source": [
        "### Best Hyper-Parameters\n",
        "\n",
        "The best hyper-parameters found by the Bayesian optimizer are packed as a list because that is what it uses internally."
      ]
    },
    {
      "cell_type": "code",
      "execution_count": 31,
      "metadata": {
        "scrolled": true,
        "id": "ZilcNx-2uT7f",
        "outputId": "fea2c6e4-2377-49c7-f7e4-6b9a54aca82a",
        "colab": {
          "base_uri": "https://localhost:8080/"
        }
      },
      "outputs": [
        {
          "output_type": "execute_result",
          "data": {
            "text/plain": [
              "[0.0015892909874530162, 5, 512, 'relu']"
            ]
          },
          "metadata": {},
          "execution_count": 31
        }
      ],
      "source": [
        "search_result.x"
      ]
    },
    {
      "cell_type": "markdown",
      "metadata": {
        "id": "vixDrwFTuT7f"
      },
      "source": [
        "We can convert these parameters to a dict with proper names for the search-space dimensions.\n",
        "\n",
        "First we need a reference to the search-space object."
      ]
    },
    {
      "cell_type": "code",
      "execution_count": 32,
      "metadata": {
        "id": "8ygGYrk8uT7f"
      },
      "outputs": [],
      "source": [
        "space = search_result.space"
      ]
    },
    {
      "cell_type": "code",
      "source": [
        "type(space)"
      ],
      "metadata": {
        "id": "Q7lbxVCfClnQ",
        "outputId": "9132c810-0098-4915-c701-bbdcbefa9810",
        "colab": {
          "base_uri": "https://localhost:8080/"
        }
      },
      "execution_count": 41,
      "outputs": [
        {
          "output_type": "execute_result",
          "data": {
            "text/plain": [
              "skopt.space.space.Space"
            ]
          },
          "metadata": {},
          "execution_count": 41
        }
      ]
    },
    {
      "cell_type": "code",
      "source": [
        "from skopt.utils import point_asdict\n"
      ],
      "metadata": {
        "id": "FykCCacxDCTd"
      },
      "execution_count": 43,
      "outputs": []
    },
    {
      "cell_type": "markdown",
      "metadata": {
        "id": "ggpvIabEuT7f"
      },
      "source": [
        "Then we can use it to create a dict where the hyper-parameters have the proper names of the search-space dimensions. This is a bit awkward."
      ]
    },
    {
      "cell_type": "code",
      "execution_count": 51,
      "metadata": {
        "id": "uMiPLJz_uT7f",
        "outputId": "aa3a6624-957e-498b-abd5-8f1b7fdadb08",
        "colab": {
          "base_uri": "https://localhost:8080/"
        }
      },
      "outputs": [
        {
          "output_type": "execute_result",
          "data": {
            "text/plain": [
              "OrderedDict([('fun', 0.0015892909874530162),\n",
              "             ('func_vals', 5),\n",
              "             ('models', 512),\n",
              "             ('random_state', 'relu')])"
            ]
          },
          "metadata": {},
          "execution_count": 51
        }
      ],
      "source": [
        "point_asdict(search_result,search_result.x)"
      ]
    },
    {
      "cell_type": "markdown",
      "metadata": {
        "id": "r8lU03qOuT7f"
      },
      "source": [
        "This is the fitness value associated with these hyper-parameters. This is a negative number because the Bayesian optimizer performs minimization, so we had to negate the classification accuracy which is posed as a maximization problem."
      ]
    },
    {
      "cell_type": "code",
      "execution_count": 52,
      "metadata": {
        "scrolled": true,
        "id": "7c2Cw8E9uT7f",
        "outputId": "15ec8dc7-00ff-44cb-f54c-9bd2a8e13c2d",
        "colab": {
          "base_uri": "https://localhost:8080/"
        }
      },
      "outputs": [
        {
          "output_type": "execute_result",
          "data": {
            "text/plain": [
              "-0.9923999905586243"
            ]
          },
          "metadata": {},
          "execution_count": 52
        }
      ],
      "source": [
        "search_result.fun"
      ]
    },
    {
      "cell_type": "markdown",
      "metadata": {
        "id": "dUXrQtNsuT7f"
      },
      "source": [
        "We can also see all the hyper-parameters tried by the Bayesian optimizer and their associated fitness values (the negated classification accuracies). These are sorted so the highest classification accuracies are shown first.\n",
        "\n",
        "It appears that 'relu' activation was generally better than 'sigmoid'. Otherwise it can be difficult to see a pattern of which parameter choices are good. We really need to plot these results."
      ]
    },
    {
      "cell_type": "code",
      "execution_count": 53,
      "metadata": {
        "scrolled": true,
        "id": "fwPQcZG8uT7f",
        "outputId": "5e2e7b22-3780-4111-d9a1-fef36110fac1",
        "colab": {
          "base_uri": "https://localhost:8080/"
        }
      },
      "outputs": [
        {
          "output_type": "execute_result",
          "data": {
            "text/plain": [
              "[(-0.9923999905586243, [0.0015892909874530162, 5, 512, 'relu']),\n",
              " (-0.9908000230789185, [0.0005723912622559964, 5, 512, 'relu']),\n",
              " (-0.9901999831199646, [0.000608199218960135, 1, 512, 'relu']),\n",
              " (-0.9900000095367432, [0.0011940973866792185, 4, 197, 'relu']),\n",
              " (-0.9896000027656555, [0.0004979080133992311, 1, 512, 'relu']),\n",
              " (-0.9891999959945679, [0.0005116928467773593, 5, 512, 'relu']),\n",
              " (-0.9882000088691711, [0.000503468964274124, 1, 512, 'relu']),\n",
              " (-0.9882000088691711, [0.01, 5, 101, 'relu']),\n",
              " (-0.9878000020980835, [0.0002505321513042476, 3, 504, 'relu']),\n",
              " (-0.9873999953269958, [0.0008144786616996678, 5, 512, 'relu']),\n",
              " (-0.9872000217437744, [0.0005262780099197803, 5, 512, 'relu']),\n",
              " (-0.9872000217437744, [0.0012229940043547213, 2, 92, 'relu']),\n",
              " (-0.98580002784729, [0.002057880385932392, 5, 56, 'relu']),\n",
              " (-0.9855999946594238, [0.00039046365461296905, 5, 512, 'relu']),\n",
              " (-0.9843999743461609, [0.00022751166148047243, 3, 497, 'relu']),\n",
              " (-0.9842000007629395, [0.00020605722164413812, 3, 490, 'relu']),\n",
              " (-0.9842000007629395, [0.00026111811459572187, 2, 314, 'relu']),\n",
              " (-0.9825999736785889, [8.853864925408777e-05, 4, 484, 'relu']),\n",
              " (-0.9800000190734863, [0.00012123875528036647, 1, 512, 'relu']),\n",
              " (-0.9793999791145325, [0.00015538476990558593, 5, 137, 'relu']),\n",
              " (-0.9761999845504761, [0.00017206890870053202, 5, 61, 'relu']),\n",
              " (-0.9735999703407288, [3.3177335604432514e-05, 5, 512, 'relu']),\n",
              " (-0.9710000157356262, [5.5643396520812125e-05, 2, 440, 'relu']),\n",
              " (-0.9575999975204468, [0.0007964609413813052, 5, 512, 'sigmoid']),\n",
              " (-0.9419999718666077, [0.000499376057416265, 5, 400, 'sigmoid']),\n",
              " (-0.9381999969482422, [2.0943140255093346e-05, 4, 130, 'relu']),\n",
              " (-0.7501999735832214, [0.0001230320773369681, 5, 393, 'sigmoid']),\n",
              " (-0.7074000239372253, [1e-05, 1, 16, 'relu']),\n",
              " (-0.657800018787384, [1e-06, 5, 512, 'relu']),\n",
              " (-0.6018000245094299, [0.0002593219077505473, 1, 5, 'sigmoid']),\n",
              " (-0.5455999970436096, [0.0016115018052973349, 5, 5, 'relu']),\n",
              " (-0.3255999982357025, [6.894787730578096e-05, 5, 5, 'relu']),\n",
              " (-0.1873999983072281, [1e-06, 2, 150, 'relu']),\n",
              " (-0.10599999874830246, [1e-06, 5, 512, 'sigmoid']),\n",
              " (-0.10599999874830246, [5.602459759687444e-06, 1, 36, 'sigmoid']),\n",
              " (-0.10599999874830246, [3.3115328049000105e-05, 5, 512, 'sigmoid']),\n",
              " (-0.10599999874830246, [0.0037992039806793703, 5, 107, 'sigmoid']),\n",
              " (-0.10599999874830246, [0.005202098708688712, 5, 411, 'sigmoid']),\n",
              " (-0.10599999874830246, [0.01, 5, 496, 'relu']),\n",
              " (-0.0997999981045723, [0.01, 5, 512, 'sigmoid'])]"
            ]
          },
          "metadata": {},
          "execution_count": 53
        }
      ],
      "source": [
        "sorted(zip(search_result.func_vals, search_result.x_iters))"
      ]
    },
    {
      "cell_type": "markdown",
      "metadata": {
        "id": "vEg5OyH5uT7g"
      },
      "source": [
        "### Plots\n",
        "\n",
        "There are several plotting functions available in the `skopt` library. For example, we can plot a histogram for the `activation` parameter, which shows the distribution of samples during the hyper-parameter optimization."
      ]
    },
    {
      "cell_type": "code",
      "execution_count": 58,
      "metadata": {
        "scrolled": true,
        "id": "cahmTYmyuT7g",
        "outputId": "264ea14f-24bc-4f1f-8f32-27fb63776471",
        "colab": {
          "base_uri": "https://localhost:8080/",
          "height": 427
        }
      },
      "outputs": [
        {
          "output_type": "error",
          "ename": "TypeError",
          "evalue": "ignored",
          "traceback": [
            "\u001b[0;31m---------------------------------------------------------------------------\u001b[0m",
            "\u001b[0;31mTypeError\u001b[0m                                 Traceback (most recent call last)",
            "\u001b[0;32m<ipython-input-58-bd1a70675a6f>\u001b[0m in \u001b[0;36m<module>\u001b[0;34m()\u001b[0m\n\u001b[0;32m----> 1\u001b[0;31m \u001b[0mfig\u001b[0m\u001b[0;34m,\u001b[0m \u001b[0max\u001b[0m \u001b[0;34m=\u001b[0m \u001b[0mplot_histogram\u001b[0m\u001b[0;34m(\u001b[0m\u001b[0mresult\u001b[0m\u001b[0;34m=\u001b[0m\u001b[0msearch_result\u001b[0m\u001b[0;34m,\u001b[0m\u001b[0mdimension_identifier\u001b[0m\u001b[0;34m=\u001b[0m\u001b[0;34m'activation'\u001b[0m\u001b[0;34m)\u001b[0m\u001b[0;34m\u001b[0m\u001b[0;34m\u001b[0m\u001b[0m\n\u001b[0m",
            "\u001b[0;31mTypeError\u001b[0m: cannot unpack non-iterable AxesSubplot object"
          ]
        },
        {
          "output_type": "display_data",
          "data": {
            "text/plain": [
              "<Figure size 432x288 with 1 Axes>"
            ],
            "image/png": "[encoded data removed]"
          },
          "metadata": {
            "needs_background": "light"
          }
        }
      ],
      "source": [
        "fig, ax = plot_histogram(result=search_result,dimension_identifier='activation')"
      ]
    },
    {
      "cell_type": "markdown",
      "metadata": {
        "id": "6Yt_Sl_iuT7g"
      },
      "source": [
        "We can also make a landscape-plot of the estimated fitness values for two dimensions of the search-space, here taken to be `learning_rate` and `num_dense_layers`.\n",
        "\n",
        "The Bayesian optimizer works by building a surrogate model of the search-space and then searching this model instead of the real search-space, because it is much faster. The plot shows the last surrogate model built by the Bayesian optimizer where yellow regions are better and blue regions are worse. The black dots show where the optimizer has sampled the search-space and the red star shows the best parameters found.\n",
        "\n",
        "Several things should be noted here. Firstly, this surrogate model of the search-space may not be accurate. It is built from only 40 samples of calls to the `fitness()` function for training a neural network with a given choice of hyper-parameters. The modelled fitness landscape may differ significantly from its true values especially in regions of the search-space with few samples. Secondly, the plot may change each time the hyper-parameter optimization is run because of random noise in the training process of the neural network. Thirdly, this plot shows the effect of changing these two parameters `num_dense_layers` and `learning_rate` when averaged over all other dimensions in the search-space, this is also called a Partial Dependence plot and is a way of visualizing high-dimensional spaces in only 2-dimensions."
      ]
    },
    {
      "cell_type": "code",
      "execution_count": 64,
      "metadata": {
        "scrolled": true,
        "id": "yxpCJ5V8uT7g",
        "outputId": "30db4184-647a-482f-d729-2853b91a968b",
        "colab": {
          "base_uri": "https://localhost:8080/",
          "height": 631
        }
      },
      "outputs": [
        {
          "output_type": "display_data",
          "data": {
            "text/plain": [
              "<Figure size 576x576 with 16 Axes>"
            ],
            "image/png": "[encoded data removed]"
          },
          "metadata": {
            "needs_background": "light"
          }
        }
      ],
      "source": [
        "fig = plot_objective(result=search_result,levels=50)"
      ]
    },
    {
      "cell_type": "markdown",
      "metadata": {
        "id": "yop-lHxuuT7g"
      },
      "source": [
        "We cannot make a landscape plot for the `activation` hyper-parameter because it is a categorical variable that can be one of two strings `relu` or `sigmoid`. How this is encoded depends on the Bayesian optimizer, for example, whether it is using Gaussian Processes or Random Forests. But it cannot currently be plotted using the built-in functions of `skopt`.\n",
        "\n",
        "Instead we only want to use the real- and integer-valued dimensions of the search-space which we identify by their names."
      ]
    },
    {
      "cell_type": "code",
      "execution_count": 65,
      "metadata": {
        "id": "fnIrV7fIuT7g"
      },
      "outputs": [],
      "source": [
        "dim_names = ['learning_rate', 'num_dense_nodes', 'num_dense_layers']"
      ]
    },
    {
      "cell_type": "markdown",
      "metadata": {
        "id": "e1Y-CUfyuT7g"
      },
      "source": [
        "We can then make a matrix-plot of all combinations of these dimensions.\n",
        "\n",
        "The diagonal shows the influence of a single dimension on the fitness. This is a so-called Partial Dependence plot for that dimension. It shows how the approximated fitness value changes with different values in that dimension.\n",
        "\n",
        "The plots below the diagonal show the Partial Dependence for two dimensions. This shows how the approximated fitness value changes when we are varying two dimensions simultaneously.\n",
        "\n",
        "These Partial Dependence plots are only approximations of the modelled fitness function - which in turn is only an approximation of the true fitness function in `fitness()`. This may be a bit difficult to understand. For example, the Partial Dependence is calculated by fixing one value for the `learning_rate` and then taking a large number of random samples for the remaining dimensions in the search-space. The estimated fitness for all these points is then averaged. This process is then repeated for other values of the `learning_rate` to show how it affects the fitness on average. A similar procedure is done for the plots that show the Partial Dependence plots for two dimensions."
      ]
    },
    {
      "cell_type": "code",
      "execution_count": 72,
      "metadata": {
        "scrolled": true,
        "id": "DrfBcC-nuT7g",
        "outputId": "e48f730a-3438-4ad6-c46b-8086e3bbd157",
        "colab": {
          "base_uri": "https://localhost:8080/",
          "height": 779
        }
      },
      "outputs": [
        {
          "output_type": "error",
          "ename": "ValueError",
          "evalue": "ignored",
          "traceback": [
            "\u001b[0;31m---------------------------------------------------------------------------\u001b[0m",
            "\u001b[0;31mValueError\u001b[0m                                Traceback (most recent call last)",
            "\u001b[0;32m<ipython-input-72-fd7e03c0efb6>\u001b[0m in \u001b[0;36m<module>\u001b[0;34m()\u001b[0m\n\u001b[0;32m----> 1\u001b[0;31m \u001b[0mfig\u001b[0m\u001b[0;34m,\u001b[0m \u001b[0max\u001b[0m \u001b[0;34m=\u001b[0m \u001b[0mplot_objective\u001b[0m\u001b[0;34m(\u001b[0m\u001b[0mresult\u001b[0m\u001b[0;34m=\u001b[0m\u001b[0msearch_result\u001b[0m\u001b[0;34m)\u001b[0m\u001b[0;34m\u001b[0m\u001b[0;34m\u001b[0m\u001b[0m\n\u001b[0m",
            "\u001b[0;31mValueError\u001b[0m: too many values to unpack (expected 2)"
          ]
        },
        {
          "output_type": "display_data",
          "data": {
            "text/plain": [
              "<Figure size 576x576 with 16 Axes>"
            ],
            "image/png": "[encoded data removed]"
          },
          "metadata": {
            "needs_background": "light"
          }
        }
      ],
      "source": [
        "fig, ax = plot_objective(result=search_result)"
      ]
    },
    {
      "cell_type": "markdown",
      "metadata": {
        "id": "tcUdBZjKuT7g"
      },
      "source": [
        "We can also show another type of matrix-plot. Here the diagonal shows histograms of the sample distributions for each of the hyper-parameters during the Bayesian optimization. The plots below the diagonal show the location of samples in the search-space and the colour-coding shows the order in which the samples were taken. For larger numbers of samples you will likely see that the samples eventually become concentrated in a certain region of the search-space."
      ]
    },
    {
      "cell_type": "code",
      "execution_count": 75,
      "metadata": {
        "scrolled": true,
        "id": "FeeXNAYjuT7g",
        "outputId": "923bcfcd-ac2b-4b18-9a41-9dbb1e817a4a",
        "colab": {
          "base_uri": "https://localhost:8080/",
          "height": 779
        }
      },
      "outputs": [
        {
          "output_type": "error",
          "ename": "ValueError",
          "evalue": "ignored",
          "traceback": [
            "\u001b[0;31m---------------------------------------------------------------------------\u001b[0m",
            "\u001b[0;31mValueError\u001b[0m                                Traceback (most recent call last)",
            "\u001b[0;32m<ipython-input-75-e6f29f6cfbd5>\u001b[0m in \u001b[0;36m<module>\u001b[0;34m()\u001b[0m\n\u001b[0;32m----> 1\u001b[0;31m \u001b[0mfig\u001b[0m\u001b[0;34m,\u001b[0m \u001b[0max\u001b[0m \u001b[0;34m=\u001b[0m \u001b[0mplot_evaluations\u001b[0m\u001b[0;34m(\u001b[0m\u001b[0mresult\u001b[0m\u001b[0;34m=\u001b[0m\u001b[0msearch_result\u001b[0m\u001b[0;34m)\u001b[0m\u001b[0;34m\u001b[0m\u001b[0;34m\u001b[0m\u001b[0m\n\u001b[0m",
            "\u001b[0;31mValueError\u001b[0m: too many values to unpack (expected 2)"
          ]
        },
        {
          "output_type": "display_data",
          "data": {
            "text/plain": [
              "<Figure size 576x576 with 16 Axes>"
            ],
            "image/png": "[encoded data removed]"
          },
          "metadata": {
            "needs_background": "light"
          }
        }
      ],
      "source": [
        "fig, ax = plot_evaluations(result=search_result)"
      ]
    },
    {
      "cell_type": "markdown",
      "metadata": {
        "id": "57hKUyLSuT7g"
      },
      "source": [
        "### Evaluate Best Model on Test-Set\n",
        "\n",
        "We can now use the best model on the test-set. It is very easy to reload the model using Keras."
      ]
    },
    {
      "cell_type": "code",
      "execution_count": 29,
      "metadata": {
        "id": "ov1JBaSTuT7g"
      },
      "outputs": [],
      "source": [
        "model = load_model(path_best_model)"
      ]
    },
    {
      "cell_type": "markdown",
      "metadata": {
        "id": "OozJgV5WuT7g"
      },
      "source": [
        "We then evaluate its performance on the test-set."
      ]
    },
    {
      "cell_type": "code",
      "execution_count": 30,
      "metadata": {
        "id": "17RG6kjMuT7g",
        "outputId": "4178cbc4-8ca0-434a-c246-49755bbb2f72",
        "colab": {
          "base_uri": "https://localhost:8080/"
        }
      },
      "outputs": [
        {
          "output_type": "stream",
          "name": "stdout",
          "text": [
            "313/313 [==============================] - 10s 31ms/step - loss: 1.4618 - accuracy: 0.6959\n"
          ]
        }
      ],
      "source": [
        "result = model.evaluate(x=data.x_test,\n",
        "                        y=data.y_test)"
      ]
    },
    {
      "cell_type": "markdown",
      "metadata": {
        "id": "YNqownpEuT7g"
      },
      "source": [
        "We can print all the performance metrics for the test-set."
      ]
    },
    {
      "cell_type": "code",
      "execution_count": 31,
      "metadata": {
        "id": "xmeoKBFsuT7h",
        "outputId": "ac3409ff-d02a-4ff3-8019-f33c30497907",
        "colab": {
          "base_uri": "https://localhost:8080/"
        }
      },
      "outputs": [
        {
          "output_type": "stream",
          "name": "stdout",
          "text": [
            "loss 1.4618359804153442\n",
            "accuracy 0.695900022983551\n"
          ]
        }
      ],
      "source": [
        "for name, value in zip(model.metrics_names, result):\n",
        "    print(name, value)"
      ]
    },
    {
      "cell_type": "markdown",
      "metadata": {
        "id": "T3H-FHRPuT7h"
      },
      "source": [
        "Or we can just print the classification accuracy."
      ]
    },
    {
      "cell_type": "code",
      "execution_count": 32,
      "metadata": {
        "id": "xRvXAH6GuT7h",
        "outputId": "1df09eff-c6e5-4abf-f423-91b45d053cd3",
        "colab": {
          "base_uri": "https://localhost:8080/"
        }
      },
      "outputs": [
        {
          "output_type": "stream",
          "name": "stdout",
          "text": [
            "accuracy: 69.59%\n"
          ]
        }
      ],
      "source": [
        "print(\"{0}: {1:.2%}\".format(model.metrics_names[1], result[1]))"
      ]
    },
    {
      "cell_type": "markdown",
      "metadata": {
        "id": "ZLrrOoH4uT7h"
      },
      "source": [
        "### Predict on New Data\n",
        "\n",
        "We can also predict the classification for new images. We will just use some images from the test-set but you could load your own images into numpy arrays and use those instead."
      ]
    },
    {
      "cell_type": "code",
      "execution_count": 33,
      "metadata": {
        "id": "CyfCsT3ouT7h"
      },
      "outputs": [],
      "source": [
        "images = data.x_test[0:9]"
      ]
    },
    {
      "cell_type": "markdown",
      "metadata": {
        "id": "ixd9v62QuT7h"
      },
      "source": [
        "These are the true class-number for those images. This is only used when plotting the images."
      ]
    },
    {
      "cell_type": "code",
      "execution_count": 34,
      "metadata": {
        "id": "vaP5Q3pauT7h"
      },
      "outputs": [],
      "source": [
        "cls_true = data.y_test_cls[0:9]"
      ]
    },
    {
      "cell_type": "markdown",
      "metadata": {
        "id": "AZke8glWuT7h"
      },
      "source": [
        "Get the predicted classes as One-Hot encoded arrays."
      ]
    },
    {
      "cell_type": "code",
      "execution_count": 35,
      "metadata": {
        "id": "-KRwBBsQuT7h"
      },
      "outputs": [],
      "source": [
        "y_pred = model.predict(x=images)"
      ]
    },
    {
      "cell_type": "markdown",
      "metadata": {
        "id": "UwaZWJlDuT7h"
      },
      "source": [
        "Get the predicted classes as integers."
      ]
    },
    {
      "cell_type": "code",
      "execution_count": 36,
      "metadata": {
        "id": "WRiEcUOwuT7h"
      },
      "outputs": [],
      "source": [
        "cls_pred = np.argmax(y_pred,axis=1)"
      ]
    },
    {
      "cell_type": "code",
      "execution_count": 37,
      "metadata": {
        "id": "34MzZfjwuT7h",
        "outputId": "ed06cb11-44ce-459e-f71a-a1003917700e",
        "colab": {
          "base_uri": "https://localhost:8080/",
          "height": 262
        }
      },
      "outputs": [
        {
          "output_type": "display_data",
          "data": {
            "text/plain": [
              "<Figure size 432x288 with 9 Axes>"
            ],
            "image/png": "[encoded data removed]"
          },
          "metadata": {}
        }
      ],
      "source": [
        "plot_images(images=images,\n",
        "            cls_true=cls_true,\n",
        "            cls_pred=cls_pred)"
      ]
    },
    {
      "cell_type": "markdown",
      "metadata": {
        "id": "-pLDIWGSuT7h"
      },
      "source": [
        "### Examples of Mis-Classified Images\n",
        "\n",
        "We can plot some examples of mis-classified images from the test-set.\n",
        "\n",
        "First we get the predicted classes for all the images in the test-set:"
      ]
    },
    {
      "cell_type": "code",
      "execution_count": 38,
      "metadata": {
        "id": "k1yylb5wuT7h"
      },
      "outputs": [],
      "source": [
        "y_pred = model.predict(x=data.x_test)"
      ]
    },
    {
      "cell_type": "markdown",
      "metadata": {
        "id": "9LZBaPzKuT7h"
      },
      "source": [
        "Then we convert the predicted class-numbers from One-Hot encoded arrays to integers."
      ]
    },
    {
      "cell_type": "code",
      "execution_count": 39,
      "metadata": {
        "id": "EKtp9AAMuT7h"
      },
      "outputs": [],
      "source": [
        "cls_pred = np.argmax(y_pred, axis=1)"
      ]
    },
    {
      "cell_type": "markdown",
      "metadata": {
        "id": "cJmZGPnPuT7h"
      },
      "source": [
        "Plot some of the mis-classified images."
      ]
    },
    {
      "cell_type": "code",
      "execution_count": 40,
      "metadata": {
        "id": "blwFwD9wuT7h",
        "outputId": "a5f45cf1-f8ea-4e68-b618-1e38fcea2349",
        "colab": {
          "base_uri": "https://localhost:8080/",
          "height": 262
        }
      },
      "outputs": [
        {
          "output_type": "display_data",
          "data": {
            "text/plain": [
              "<Figure size 432x288 with 9 Axes>"
            ],
            "image/png": "[encoded data removed]"
          },
          "metadata": {}
        }
      ],
      "source": [
        "plot_example_errors(cls_pred)"
      ]
    },
    {
      "cell_type": "markdown",
      "metadata": {
        "id": "clHkp95auT7h"
      },
      "source": [
        "## Conclusion\n",
        "\n",
        "This tutorial showed how to optimize the hyper-parameters of a neural network using Bayesian optimization. We used the scikit-optimize (`skopt`) library which is still under development, but it is already an extremely powerful tool. It was able to substantially improve on hand-tuned hyper-parameters in a small number of iterations. This is vastly superior to Grid Search and Random Search of the hyper-parameters, which would require far more computational time, and would most likely find inferior hyper-parameters, especially for more difficult problems."
      ]
    },
    {
      "cell_type": "markdown",
      "metadata": {
        "id": "DxhJigECuT7h"
      },
      "source": [
        "## Exercises\n",
        "\n",
        "These are a few suggestions for exercises that may help improve your skills with TensorFlow. It is important to get hands-on experience with TensorFlow in order to learn how to use it properly.\n",
        "\n",
        "You may want to backup this Notebook before making any changes.\n",
        "\n",
        "* Try and run 100 or 200 iterations of the optimization instead of just 40 iterations. What happens to the plotted landscapes?\n",
        "* Try some of the other optimization methods from scikit-optimize such as `forest_minimize` instead of `gp_minimize`. How do they perform?\n",
        "* Try using another acquisition function for the optimizer e.g. Probability of Improvement.\n",
        "* Try optimizing more hyper-parameters with the Bayesian optimization. For example, the kernel-size and number of filters in the convolutional-layers, or the batch-size used in training.\n",
        "* Add a hyper-parameter for the number of convolutional layers and implement it in `create_model()`. Note that if you have pooling-layers after the convolution then the images are downsampled, so there is a limit to the number of layers you can have before the images become too small.\n",
        "* Look at the plots. Do you think that some of the hyper-parameters may be irrelevant? Try and remove these parameters and redo the optimization of the remaining hyper-parameters.\n",
        "* Use another and more difficult dataset with image-files.\n",
        "* Train for more epochs. Does it improve the classification accuracy on the validiation- and test-sets? How does it affect the time-usage?\n",
        "* Explain to a friend how the program works."
      ]
    },
    {
      "cell_type": "markdown",
      "metadata": {
        "id": "F-iU4lT0uT7h"
      },
      "source": [
        "## License (MIT)\n",
        "\n",
        "Copyright (c) 2016-2018 by [Magnus Erik Hvass Pedersen](http://www.hvass-labs.org/)\n",
        "\n",
        "Permission is hereby granted, free of charge, to any person obtaining a copy of this software and associated documentation files (the \"Software\"), to deal in the Software without restriction, including without limitation the rights to use, copy, modify, merge, publish, distribute, sublicense, and/or sell copies of the Software, and to permit persons to whom the Software is furnished to do so, subject to the following conditions:\n",
        "\n",
        "The above copyright notice and this permission notice shall be included in all copies or substantial portions of the Software.\n",
        "\n",
        "THE SOFTWARE IS PROVIDED \"AS IS\", WITHOUT WARRANTY OF ANY KIND, EXPRESS OR IMPLIED, INCLUDING BUT NOT LIMITED TO THE WARRANTIES OF MERCHANTABILITY, FITNESS FOR A PARTICULAR PURPOSE AND NONINFRINGEMENT. IN NO EVENT SHALL THE AUTHORS OR COPYRIGHT HOLDERS BE LIABLE FOR ANY CLAIM, DAMAGES OR OTHER LIABILITY, WHETHER IN AN ACTION OF CONTRACT, TORT OR OTHERWISE, ARISING FROM, OUT OF OR IN CONNECTION WITH THE SOFTWARE OR THE USE OR OTHER DEALINGS IN THE SOFTWARE."
      ]
    },
    {
      "cell_type": "code",
      "source": [
        ""
      ],
      "metadata": {
        "id": "mMB3Q__Wiod9"
      },
      "execution_count": null,
      "outputs": []
    }
  ],
  "metadata": {
    "anaconda-cloud": {},
    "kernelspec": {
      "display_name": "Python 3",
      "language": "python",
      "name": "python3"
    },
    "language_info": {
      "codemirror_mode": {
        "name": "ipython",
        "version": 3
      },
      "file_extension": ".py",
      "mimetype": "text/x-python",
      "name": "python",
      "nbconvert_exporter": "python",
      "pygments_lexer": "ipython3",
      "version": "3.6.10"
    },
    "colab": {
      "name": "Lab5.ipynb",
      "provenance": []
    },
    "accelerator": "GPU"
  },
  "nbformat": 4,
  "nbformat_minor": 0
}
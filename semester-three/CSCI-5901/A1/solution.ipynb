{
  "nbformat": 4,
  "nbformat_minor": 0,
  "metadata": {
    "colab": {
      "name": "5901-assignment-1",
      "provenance": [],
      "collapsed_sections": []
    },
    "kernelspec": {
      "name": "python3",
      "display_name": "Python 3"
    },
    "language_info": {
      "name": "python"
    }
  },
  "cells": [
    {
      "cell_type": "markdown",
      "source": [
        "**Step 0**\n",
        "\n",
        "The dataset is from one of the Big Mart firms, across outlets with information about the stores such as location and size, product features such as weight, category, fat content, and other metrics dealing with historical sales data. Using all of this information, the end goal is to forecast the sales of different products in the stores."
      ],
      "metadata": {
        "id": "0RejJqT0aykV"
      }
    },
    {
      "cell_type": "markdown",
      "source": [
        "**Step 1.1**\n",
        "*   Possibility of finding versions of the data ✅\n",
        "*   Possibility of change in the data ✅\n",
        "*   Possibility of receiving future updates on the data ✅\n",
        "*   Have at least two protected features ✅"
      ],
      "metadata": {
        "id": "UijymRKic5B7"
      }
    },
    {
      "cell_type": "code",
      "source": [
        "!pip install category_encoders"
      ],
      "metadata": {
        "colab": {
          "base_uri": "https://localhost:8080/",
          "height": 0
        },
        "id": "7dEwqvuCcRh8",
        "outputId": "ce22b5e1-2223-4662-f722-220ee9628531"
      },
      "execution_count": 1,
      "outputs": [
        {
          "output_type": "stream",
          "name": "stdout",
          "text": [
            "Looking in indexes: https://pypi.org/simple, https://us-python.pkg.dev/colab-wheels/public/simple/\n",
            "Requirement already satisfied: category_encoders in /usr/local/lib/python3.7/dist-packages (2.5.0)\n",
            "Requirement already satisfied: scikit-learn>=0.20.0 in /usr/local/lib/python3.7/dist-packages (from category_encoders) (1.0.2)\n",
            "Requirement already satisfied: patsy>=0.5.1 in /usr/local/lib/python3.7/dist-packages (from category_encoders) (0.5.2)\n",
            "Requirement already satisfied: numpy>=1.14.0 in /usr/local/lib/python3.7/dist-packages (from category_encoders) (1.21.6)\n",
            "Requirement already satisfied: pandas>=1.0.5 in /usr/local/lib/python3.7/dist-packages (from category_encoders) (1.3.5)\n",
            "Requirement already satisfied: statsmodels>=0.9.0 in /usr/local/lib/python3.7/dist-packages (from category_encoders) (0.10.2)\n",
            "Requirement already satisfied: scipy>=1.0.0 in /usr/local/lib/python3.7/dist-packages (from category_encoders) (1.4.1)\n",
            "Requirement already satisfied: python-dateutil>=2.7.3 in /usr/local/lib/python3.7/dist-packages (from pandas>=1.0.5->category_encoders) (2.8.2)\n",
            "Requirement already satisfied: pytz>=2017.3 in /usr/local/lib/python3.7/dist-packages (from pandas>=1.0.5->category_encoders) (2022.1)\n",
            "Requirement already satisfied: six in /usr/local/lib/python3.7/dist-packages (from patsy>=0.5.1->category_encoders) (1.15.0)\n",
            "Requirement already satisfied: threadpoolctl>=2.0.0 in /usr/local/lib/python3.7/dist-packages (from scikit-learn>=0.20.0->category_encoders) (3.1.0)\n",
            "Requirement already satisfied: joblib>=0.11 in /usr/local/lib/python3.7/dist-packages (from scikit-learn>=0.20.0->category_encoders) (0.14.1)\n",
            "\u001b[33mWARNING: Running pip as the 'root' user can result in broken permissions and conflicting behaviour with the system package manager. It is recommended to use a virtual environment instead: https://pip.pypa.io/warnings/venv\u001b[0m\u001b[33m\n",
            "\u001b[0m"
          ]
        }
      ]
    },
    {
      "cell_type": "code",
      "source": [
        "import pandas as pd\n",
        "import numpy as np\n",
        "import matplotlib.pyplot as plt\n",
        "import seaborn as sns\n",
        "%matplotlib inline\n",
        "\n",
        "# Training data\n",
        "train_data = pd.read_csv('train.csv')"
      ],
      "metadata": {
        "id": "nfoJSTyBW4Bd"
      },
      "execution_count": 2,
      "outputs": []
    },
    {
      "cell_type": "markdown",
      "source": [
        "**Step 1.2**\n",
        "\n",
        "ML Metrics\n",
        "* The accuracy of prediction of sales.\n",
        "* Minimum number of features necessary to give a nearly unaffected performance.\n",
        "* Model performance (Example: Root Mean Square Error)."
      ],
      "metadata": {
        "id": "ClPRZDmyf_7_"
      }
    },
    {
      "cell_type": "markdown",
      "source": [
        "**Step 1.3**\n",
        "\n",
        "Business Metrics\n",
        "* Product with most demand and the correlation with re-location to improve the demand.\n",
        "* Array of factors influencing the churn of products."
      ],
      "metadata": {
        "id": "Q2Dzt_8mncSF"
      }
    },
    {
      "cell_type": "markdown",
      "source": [
        "**Step 1.4**\n",
        "\n",
        "Software Metrics\n",
        "* Array of dependencies and their stability, followed by the size of the dependencies.\n",
        "* Memory performance for the pre-processing of the data.\n",
        "* CPU utilization for training the model."
      ],
      "metadata": {
        "id": "ldQ3dK_9oBdg"
      }
    },
    {
      "cell_type": "markdown",
      "source": [
        "**Step 2.1**\n",
        "\n",
        "The dataset depicts a real-world scenario among big mart firms like Walmart and Sobeys. Further on how different features affect the decision to manage the inventory better and, more importantly, distribution of inventory based on such features. Not to mention the details of features covers a range of type, including categorical, binary, numerical, both scaled, and those that need to be normalized. Hence taking the requirement into consideration that the dataset correlates well for the examination."
      ],
      "metadata": {
        "id": "SfYFJlot4KJx"
      }
    },
    {
      "cell_type": "code",
      "source": [
        "import plotly.express as px\n",
        "import pandas as pd\n",
        "\n",
        "df = pd.DataFrame(dict(r=[2, 3, 3, 2],\n",
        "theta=['timeliness','versioning','distribution',\n",
        "'null values']))\n",
        "\n",
        "fig = px.line_polar(df, r='r', theta='theta', line_close=True)\n",
        "fig.show()"
      ],
      "metadata": {
        "colab": {
          "base_uri": "https://localhost:8080/",
          "height": 542
        },
        "id": "xRcgOk4zkOVg",
        "outputId": "736fe258-0135-4670-9945-140f4e030241"
      },
      "execution_count": 3,
      "outputs": [
        {
          "output_type": "display_data",
          "data": {
            "text/html": [
              "<html>\n",
              "<head><meta charset=\"utf-8\" /></head>\n",
              "<body>\n",
              "    <div>            <script src=\"https://cdnjs.cloudflare.com/ajax/libs/mathjax/2.7.5/MathJax.js?config=TeX-AMS-MML_SVG\"></script><script type=\"text/javascript\">if (window.MathJax) {MathJax.Hub.Config({SVG: {font: \"STIX-Web\"}});}</script>                <script type=\"text/javascript\">window.PlotlyConfig = {MathJaxConfig: 'local'};</script>\n",
              "        <script src=\"https://cdn.plot.ly/plotly-2.8.3.min.js\"></script>                <div id=\"17c1094f-be3e-4142-8bfe-e4197fb98c15\" class=\"plotly-graph-div\" style=\"height:525px; width:100%;\"></div>            <script type=\"text/javascript\">                                    window.PLOTLYENV=window.PLOTLYENV || {};                                    if (document.getElementById(\"17c1094f-be3e-4142-8bfe-e4197fb98c15\")) {                    Plotly.newPlot(                        \"17c1094f-be3e-4142-8bfe-e4197fb98c15\",                        [{\"hovertemplate\":\"r=%{r}<br>theta=%{theta}<extra></extra>\",\"legendgroup\":\"\",\"line\":{\"color\":\"#636efa\",\"dash\":\"solid\"},\"marker\":{\"symbol\":\"circle\"},\"mode\":\"lines\",\"name\":\"\",\"r\":[2,3,3,2,2],\"showlegend\":false,\"subplot\":\"polar\",\"theta\":[\"timeliness\",\"versioning\",\"distribution\",\"null values\",\"timeliness\"],\"type\":\"scatterpolar\"}],                        {\"template\":{\"data\":{\"bar\":[{\"error_x\":{\"color\":\"#2a3f5f\"},\"error_y\":{\"color\":\"#2a3f5f\"},\"marker\":{\"line\":{\"color\":\"#E5ECF6\",\"width\":0.5},\"pattern\":{\"fillmode\":\"overlay\",\"size\":10,\"solidity\":0.2}},\"type\":\"bar\"}],\"barpolar\":[{\"marker\":{\"line\":{\"color\":\"#E5ECF6\",\"width\":0.5},\"pattern\":{\"fillmode\":\"overlay\",\"size\":10,\"solidity\":0.2}},\"type\":\"barpolar\"}],\"carpet\":[{\"aaxis\":{\"endlinecolor\":\"#2a3f5f\",\"gridcolor\":\"white\",\"linecolor\":\"white\",\"minorgridcolor\":\"white\",\"startlinecolor\":\"#2a3f5f\"},\"baxis\":{\"endlinecolor\":\"#2a3f5f\",\"gridcolor\":\"white\",\"linecolor\":\"white\",\"minorgridcolor\":\"white\",\"startlinecolor\":\"#2a3f5f\"},\"type\":\"carpet\"}],\"choropleth\":[{\"colorbar\":{\"outlinewidth\":0,\"ticks\":\"\"},\"type\":\"choropleth\"}],\"contour\":[{\"colorbar\":{\"outlinewidth\":0,\"ticks\":\"\"},\"colorscale\":[[0.0,\"#0d0887\"],[0.1111111111111111,\"#46039f\"],[0.2222222222222222,\"#7201a8\"],[0.3333333333333333,\"#9c179e\"],[0.4444444444444444,\"#bd3786\"],[0.5555555555555556,\"#d8576b\"],[0.6666666666666666,\"#ed7953\"],[0.7777777777777778,\"#fb9f3a\"],[0.8888888888888888,\"#fdca26\"],[1.0,\"#f0f921\"]],\"type\":\"contour\"}],\"contourcarpet\":[{\"colorbar\":{\"outlinewidth\":0,\"ticks\":\"\"},\"type\":\"contourcarpet\"}],\"heatmap\":[{\"colorbar\":{\"outlinewidth\":0,\"ticks\":\"\"},\"colorscale\":[[0.0,\"#0d0887\"],[0.1111111111111111,\"#46039f\"],[0.2222222222222222,\"#7201a8\"],[0.3333333333333333,\"#9c179e\"],[0.4444444444444444,\"#bd3786\"],[0.5555555555555556,\"#d8576b\"],[0.6666666666666666,\"#ed7953\"],[0.7777777777777778,\"#fb9f3a\"],[0.8888888888888888,\"#fdca26\"],[1.0,\"#f0f921\"]],\"type\":\"heatmap\"}],\"heatmapgl\":[{\"colorbar\":{\"outlinewidth\":0,\"ticks\":\"\"},\"colorscale\":[[0.0,\"#0d0887\"],[0.1111111111111111,\"#46039f\"],[0.2222222222222222,\"#7201a8\"],[0.3333333333333333,\"#9c179e\"],[0.4444444444444444,\"#bd3786\"],[0.5555555555555556,\"#d8576b\"],[0.6666666666666666,\"#ed7953\"],[0.7777777777777778,\"#fb9f3a\"],[0.8888888888888888,\"#fdca26\"],[1.0,\"#f0f921\"]],\"type\":\"heatmapgl\"}],\"histogram\":[{\"marker\":{\"pattern\":{\"fillmode\":\"overlay\",\"size\":10,\"solidity\":0.2}},\"type\":\"histogram\"}],\"histogram2d\":[{\"colorbar\":{\"outlinewidth\":0,\"ticks\":\"\"},\"colorscale\":[[0.0,\"#0d0887\"],[0.1111111111111111,\"#46039f\"],[0.2222222222222222,\"#7201a8\"],[0.3333333333333333,\"#9c179e\"],[0.4444444444444444,\"#bd3786\"],[0.5555555555555556,\"#d8576b\"],[0.6666666666666666,\"#ed7953\"],[0.7777777777777778,\"#fb9f3a\"],[0.8888888888888888,\"#fdca26\"],[1.0,\"#f0f921\"]],\"type\":\"histogram2d\"}],\"histogram2dcontour\":[{\"colorbar\":{\"outlinewidth\":0,\"ticks\":\"\"},\"colorscale\":[[0.0,\"#0d0887\"],[0.1111111111111111,\"#46039f\"],[0.2222222222222222,\"#7201a8\"],[0.3333333333333333,\"#9c179e\"],[0.4444444444444444,\"#bd3786\"],[0.5555555555555556,\"#d8576b\"],[0.6666666666666666,\"#ed7953\"],[0.7777777777777778,\"#fb9f3a\"],[0.8888888888888888,\"#fdca26\"],[1.0,\"#f0f921\"]],\"type\":\"histogram2dcontour\"}],\"mesh3d\":[{\"colorbar\":{\"outlinewidth\":0,\"ticks\":\"\"},\"type\":\"mesh3d\"}],\"parcoords\":[{\"line\":{\"colorbar\":{\"outlinewidth\":0,\"ticks\":\"\"}},\"type\":\"parcoords\"}],\"pie\":[{\"automargin\":true,\"type\":\"pie\"}],\"scatter\":[{\"marker\":{\"colorbar\":{\"outlinewidth\":0,\"ticks\":\"\"}},\"type\":\"scatter\"}],\"scatter3d\":[{\"line\":{\"colorbar\":{\"outlinewidth\":0,\"ticks\":\"\"}},\"marker\":{\"colorbar\":{\"outlinewidth\":0,\"ticks\":\"\"}},\"type\":\"scatter3d\"}],\"scattercarpet\":[{\"marker\":{\"colorbar\":{\"outlinewidth\":0,\"ticks\":\"\"}},\"type\":\"scattercarpet\"}],\"scattergeo\":[{\"marker\":{\"colorbar\":{\"outlinewidth\":0,\"ticks\":\"\"}},\"type\":\"scattergeo\"}],\"scattergl\":[{\"marker\":{\"colorbar\":{\"outlinewidth\":0,\"ticks\":\"\"}},\"type\":\"scattergl\"}],\"scattermapbox\":[{\"marker\":{\"colorbar\":{\"outlinewidth\":0,\"ticks\":\"\"}},\"type\":\"scattermapbox\"}],\"scatterpolar\":[{\"marker\":{\"colorbar\":{\"outlinewidth\":0,\"ticks\":\"\"}},\"type\":\"scatterpolar\"}],\"scatterpolargl\":[{\"marker\":{\"colorbar\":{\"outlinewidth\":0,\"ticks\":\"\"}},\"type\":\"scatterpolargl\"}],\"scatterternary\":[{\"marker\":{\"colorbar\":{\"outlinewidth\":0,\"ticks\":\"\"}},\"type\":\"scatterternary\"}],\"surface\":[{\"colorbar\":{\"outlinewidth\":0,\"ticks\":\"\"},\"colorscale\":[[0.0,\"#0d0887\"],[0.1111111111111111,\"#46039f\"],[0.2222222222222222,\"#7201a8\"],[0.3333333333333333,\"#9c179e\"],[0.4444444444444444,\"#bd3786\"],[0.5555555555555556,\"#d8576b\"],[0.6666666666666666,\"#ed7953\"],[0.7777777777777778,\"#fb9f3a\"],[0.8888888888888888,\"#fdca26\"],[1.0,\"#f0f921\"]],\"type\":\"surface\"}],\"table\":[{\"cells\":{\"fill\":{\"color\":\"#EBF0F8\"},\"line\":{\"color\":\"white\"}},\"header\":{\"fill\":{\"color\":\"#C8D4E3\"},\"line\":{\"color\":\"white\"}},\"type\":\"table\"}]},\"layout\":{\"annotationdefaults\":{\"arrowcolor\":\"#2a3f5f\",\"arrowhead\":0,\"arrowwidth\":1},\"autotypenumbers\":\"strict\",\"coloraxis\":{\"colorbar\":{\"outlinewidth\":0,\"ticks\":\"\"}},\"colorscale\":{\"diverging\":[[0,\"#8e0152\"],[0.1,\"#c51b7d\"],[0.2,\"#de77ae\"],[0.3,\"#f1b6da\"],[0.4,\"#fde0ef\"],[0.5,\"#f7f7f7\"],[0.6,\"#e6f5d0\"],[0.7,\"#b8e186\"],[0.8,\"#7fbc41\"],[0.9,\"#4d9221\"],[1,\"#276419\"]],\"sequential\":[[0.0,\"#0d0887\"],[0.1111111111111111,\"#46039f\"],[0.2222222222222222,\"#7201a8\"],[0.3333333333333333,\"#9c179e\"],[0.4444444444444444,\"#bd3786\"],[0.5555555555555556,\"#d8576b\"],[0.6666666666666666,\"#ed7953\"],[0.7777777777777778,\"#fb9f3a\"],[0.8888888888888888,\"#fdca26\"],[1.0,\"#f0f921\"]],\"sequentialminus\":[[0.0,\"#0d0887\"],[0.1111111111111111,\"#46039f\"],[0.2222222222222222,\"#7201a8\"],[0.3333333333333333,\"#9c179e\"],[0.4444444444444444,\"#bd3786\"],[0.5555555555555556,\"#d8576b\"],[0.6666666666666666,\"#ed7953\"],[0.7777777777777778,\"#fb9f3a\"],[0.8888888888888888,\"#fdca26\"],[1.0,\"#f0f921\"]]},\"colorway\":[\"#636efa\",\"#EF553B\",\"#00cc96\",\"#ab63fa\",\"#FFA15A\",\"#19d3f3\",\"#FF6692\",\"#B6E880\",\"#FF97FF\",\"#FECB52\"],\"font\":{\"color\":\"#2a3f5f\"},\"geo\":{\"bgcolor\":\"white\",\"lakecolor\":\"white\",\"landcolor\":\"#E5ECF6\",\"showlakes\":true,\"showland\":true,\"subunitcolor\":\"white\"},\"hoverlabel\":{\"align\":\"left\"},\"hovermode\":\"closest\",\"mapbox\":{\"style\":\"light\"},\"paper_bgcolor\":\"white\",\"plot_bgcolor\":\"#E5ECF6\",\"polar\":{\"angularaxis\":{\"gridcolor\":\"white\",\"linecolor\":\"white\",\"ticks\":\"\"},\"bgcolor\":\"#E5ECF6\",\"radialaxis\":{\"gridcolor\":\"white\",\"linecolor\":\"white\",\"ticks\":\"\"}},\"scene\":{\"xaxis\":{\"backgroundcolor\":\"#E5ECF6\",\"gridcolor\":\"white\",\"gridwidth\":2,\"linecolor\":\"white\",\"showbackground\":true,\"ticks\":\"\",\"zerolinecolor\":\"white\"},\"yaxis\":{\"backgroundcolor\":\"#E5ECF6\",\"gridcolor\":\"white\",\"gridwidth\":2,\"linecolor\":\"white\",\"showbackground\":true,\"ticks\":\"\",\"zerolinecolor\":\"white\"},\"zaxis\":{\"backgroundcolor\":\"#E5ECF6\",\"gridcolor\":\"white\",\"gridwidth\":2,\"linecolor\":\"white\",\"showbackground\":true,\"ticks\":\"\",\"zerolinecolor\":\"white\"}},\"shapedefaults\":{\"line\":{\"color\":\"#2a3f5f\"}},\"ternary\":{\"aaxis\":{\"gridcolor\":\"white\",\"linecolor\":\"white\",\"ticks\":\"\"},\"baxis\":{\"gridcolor\":\"white\",\"linecolor\":\"white\",\"ticks\":\"\"},\"bgcolor\":\"#E5ECF6\",\"caxis\":{\"gridcolor\":\"white\",\"linecolor\":\"white\",\"ticks\":\"\"}},\"title\":{\"x\":0.05},\"xaxis\":{\"automargin\":true,\"gridcolor\":\"white\",\"linecolor\":\"white\",\"ticks\":\"\",\"title\":{\"standoff\":15},\"zerolinecolor\":\"white\",\"zerolinewidth\":2},\"yaxis\":{\"automargin\":true,\"gridcolor\":\"white\",\"linecolor\":\"white\",\"ticks\":\"\",\"title\":{\"standoff\":15},\"zerolinecolor\":\"white\",\"zerolinewidth\":2}}},\"polar\":{\"domain\":{\"x\":[0.0,1.0],\"y\":[0.0,1.0]},\"angularaxis\":{\"direction\":\"clockwise\",\"rotation\":90}},\"legend\":{\"tracegroupgap\":0},\"margin\":{\"t\":60}},                        {\"responsive\": true}                    ).then(function(){\n",
              "                            \n",
              "var gd = document.getElementById('17c1094f-be3e-4142-8bfe-e4197fb98c15');\n",
              "var x = new MutationObserver(function (mutations, observer) {{\n",
              "        var display = window.getComputedStyle(gd).display;\n",
              "        if (!display || display === 'none') {{\n",
              "            console.log([gd, 'removed!']);\n",
              "            Plotly.purge(gd);\n",
              "            observer.disconnect();\n",
              "        }}\n",
              "}});\n",
              "\n",
              "// Listen for the removal of the full notebook cells\n",
              "var notebookContainer = gd.closest('#notebook-container');\n",
              "if (notebookContainer) {{\n",
              "    x.observe(notebookContainer, {childList: true});\n",
              "}}\n",
              "\n",
              "// Listen for the clearing of the current output cell\n",
              "var outputEl = gd.closest('.output');\n",
              "if (outputEl) {{\n",
              "    x.observe(outputEl, {childList: true});\n",
              "}}\n",
              "\n",
              "                        })                };                            </script>        </div>\n",
              "</body>\n",
              "</html>"
            ]
          },
          "metadata": {}
        }
      ]
    },
    {
      "cell_type": "markdown",
      "source": [
        "**Step 2.2**\n",
        "\n",
        "Since the dataset is almost close to the same scale, normalization may not be necessary. Furthermore, given the number of categorical features, which are converted to binary fields, the radar chart does not have a lot of options or variables to plot, as the very point is to use multiple quantitative variables. Taking one such example, below is the plot - which is well backed in the feature importance of the random tree forest algorithm. Lastly, after using onehotencoders, though the number of features crosses 40, the features which strongly contribute to prediction is less than 10 (Step 4).\n",
        "\n",
        "As far as the quality is concerned, the missing/null values are fairly less in the data set, and the features with null values are not prominent. Especially in features such as age and stores, the distribution is almost ideal for a relatively small dataset."
      ],
      "metadata": {
        "id": "AisU_fwF4wmC"
      }
    },
    {
      "cell_type": "code",
      "source": [
        "labels=np.array(['Item_Weight', 'Item_MRP', 'Consumer_Age', 'Consumer_Gender'])\n",
        "stats=train_data.loc[386 ,labels].values\n",
        "\n",
        "angles=np.linspace(0, 2*np.pi, len(labels), endpoint=False)\n",
        "stats=np.concatenate((stats,[stats[0]]))\n",
        "angles=np.concatenate((angles,[angles[0]]))"
      ],
      "metadata": {
        "id": "fGRU8WjfWpZz"
      },
      "execution_count": 4,
      "outputs": []
    },
    {
      "cell_type": "code",
      "source": [
        "fig=plt.figure()\n",
        "ax = fig.add_subplot(111, polar=True)\n",
        "ax.plot(angles, stats, 'o-', linewidth=2)\n",
        "ax.fill(angles, stats, alpha=0.25)\n",
        "ax.set_thetagrids(angles * 180/np.pi, labels)\n",
        "ax.set_title([train_data.loc[386, \"Item_Identifier\"]])\n",
        "ax.grid(True)"
      ],
      "metadata": {
        "colab": {
          "base_uri": "https://localhost:8080/",
          "height": 295
        },
        "id": "Tf9MiSSJXjBl",
        "outputId": "e7b708f1-1b2c-457d-8732-c5b835c52ba8"
      },
      "execution_count": 5,
      "outputs": [
        {
          "output_type": "display_data",
          "data": {
            "text/plain": [
              "<Figure size 432x288 with 1 Axes>"
            ],
            "image/png": "[encoded data removed]"
          },
          "metadata": {
            "needs_background": "light"
          }
        }
      ]
    },
    {
      "cell_type": "markdown",
      "source": [
        "**Step 2.3**\n",
        "\n",
        "* Data Uploaded ✅\n",
        "* [Link to Data](https://git.cs.dal.ca/adimurthy/adesh_nalpet_adimurthy_b00886154_csci5901/-/tree/main/A1)\n",
        "\n"
      ],
      "metadata": {
        "id": "11p_MAl143fb"
      }
    },
    {
      "cell_type": "code",
      "source": [
        "# List NULL values\n",
        "train_data.isna().sum()"
      ],
      "metadata": {
        "colab": {
          "base_uri": "https://localhost:8080/",
          "height": 0
        },
        "id": "W4O9vRsXkva7",
        "outputId": "0675491c-5a8b-4c0f-830e-47c56d73e67d"
      },
      "execution_count": 6,
      "outputs": [
        {
          "output_type": "execute_result",
          "data": {
            "text/plain": [
              "Item_Identifier                 0\n",
              "Item_Weight                  1463\n",
              "Item_Fat_Content                0\n",
              "Item_Visibility                 0\n",
              "Item_Type                       0\n",
              "Item_MRP                        0\n",
              "Outlet_Identifier               0\n",
              "Outlet_Establishment_Year       0\n",
              "Outlet_Size                  2410\n",
              "Outlet_Location_Type            0\n",
              "Outlet_Type                     0\n",
              "Item_Outlet_Sales               0\n",
              "Consumer_Age                    0\n",
              "Consumer_Gender                 0\n",
              "dtype: int64"
            ]
          },
          "metadata": {},
          "execution_count": 6
        }
      ]
    },
    {
      "cell_type": "code",
      "source": [
        "# Fill missing values with mean\n",
        "train_data.Item_Weight.fillna(train_data.Item_Weight.mean(),inplace=True)\n",
        "train_data.Outlet_Size.fillna(train_data.Outlet_Size.mode()[0],inplace=True)"
      ],
      "metadata": {
        "id": "ZzHvvluOky-i"
      },
      "execution_count": 7,
      "outputs": []
    },
    {
      "cell_type": "markdown",
      "source": [
        "**Step 3**\n",
        "\n",
        "The target variable is Item_Outlet_Sales. While the list of all the features is already displayed above, some of the characteristics are as follows: \n",
        "* Item_Weight and Outlet_Size have missing fields. Since they have continuous values, the missing fields are filled with the mean value.\n",
        "* Outlet_Size is a categorical variable, and hence missing values are replaced by the mode of the column.\n",
        "* A few other categorical variables are: Item_Fat_Content, Item_Type, Outlet_Identifier, Outlet_Size, Outlet_Location_Type, and Outlet_Type\n",
        "* Finally, to ensure the scale of values of a variable is within a range, the StandardScaler function is used to normalize the data."
      ],
      "metadata": {
        "id": "uFXonapySoqP"
      }
    },
    {
      "cell_type": "markdown",
      "source": [
        "A Complete list of variables and target in the dataset:\n",
        "\n",
        "|Variable|\tDescription|\n",
        "| --- | --- |\n",
        "|Item_Identifier|\tUnique product ID|\n",
        "|Item_Weight|\tWeight of product|\n",
        "|Item_Fat_Content|\tWhether the product is low fat or not|\n",
        "|Item_Visibility|\tThe % of total display area of all products in a store |allocated| to the particular product|\n",
        "|Item_Type|\tThe category to which the product belongs|\n",
        "|Item_MRP|\tMaximum Retail Price (list price) of the product|\n",
        "|Outlet_Identifier|\tUnique store ID|\n",
        "|Outlet_Establishment_Year|\tThe year in which store was established|\n",
        "|Outlet_Size|\tThe size of the store in terms of ground area covered|\n",
        "|Outlet_Location_Type|\tThe type of city in which the store is located|\n",
        "|Outlet_Type|\tWhether the outlet is just a grocery store or some sort of supermarket|\n",
        "|Item_Outlet_Sales|\tSales of the product in the particular store. This is the outcome variable to be predicted.|\n",
        "|Consumer_Age|Average age of the consumer|\n",
        "|Consumer_Gender|Majority gender of the consumer|"
      ],
      "metadata": {
        "id": "6tNl2q0dgGa2"
      }
    },
    {
      "cell_type": "code",
      "source": [
        "import category_encoders as ce\n",
        "# Binary Encoder\n",
        "OHE = ce.OneHotEncoder(cols=['Item_Fat_Content',\n",
        "                             'Item_Type',\n",
        "                             'Outlet_Identifier',\n",
        "                             'Outlet_Size',\n",
        "                             'Outlet_Location_Type',\n",
        "                             'Outlet_Type'], use_cat_names=True)\n",
        "train_data = OHE.fit_transform(train_data)"
      ],
      "metadata": {
        "id": "griAjoQLlSBX",
        "colab": {
          "base_uri": "https://localhost:8080/",
          "height": 0
        },
        "outputId": "ad80136e-37fa-4ea8-ce44-b8131703bfe4"
      },
      "execution_count": 8,
      "outputs": [
        {
          "output_type": "stream",
          "name": "stderr",
          "text": [
            "/usr/local/lib/python3.7/dist-packages/statsmodels/tools/_testing.py:19: FutureWarning:\n",
            "\n",
            "pandas.util.testing is deprecated. Use the functions in the public API at pandas.testing instead.\n",
            "\n"
          ]
        }
      ]
    },
    {
      "cell_type": "code",
      "source": [
        "from sklearn.preprocessing import StandardScaler\n",
        "scaler = StandardScaler()\n",
        "\n",
        "# Reshape/Scale\n",
        "scaler.fit(np.array(train_data.Item_MRP).reshape(-1,1))\n",
        "train_data.Item_MRP = scaler.transform(np.array(train_data.Item_MRP).reshape(-1,1))"
      ],
      "metadata": {
        "id": "LKj3ZKrNlp79"
      },
      "execution_count": 9,
      "outputs": []
    },
    {
      "cell_type": "code",
      "source": [
        "from sklearn.linear_model import LinearRegression\n",
        "from sklearn.ensemble import  RandomForestRegressor\n",
        "from sklearn.model_selection import train_test_split\n",
        "from sklearn.metrics import mean_squared_error\n",
        "\n",
        "# Seperate Features and Target\n",
        "train_X = train_data.drop(columns=['Item_Identifier','Item_Outlet_Sales'])\n",
        "train_Y = train_data['Item_Outlet_Sales']\n",
        "\n",
        "# Split to Train to Train and Test\n",
        "train_x, test_x, train_y, test_y = train_test_split(train_X, train_Y,test_size=0.25,random_state=0)\n",
        "train_x.shape, test_x.shape, train_y.shape, test_y.shape"
      ],
      "metadata": {
        "colab": {
          "base_uri": "https://localhost:8080/",
          "height": 0
        },
        "id": "o25zJpgtlz1k",
        "outputId": "44cc4594-4bb3-4dd3-fcc2-9da9070c4e7a"
      },
      "execution_count": 10,
      "outputs": [
        {
          "output_type": "execute_result",
          "data": {
            "text/plain": [
              "((6392, 47), (2131, 47), (6392,), (2131,))"
            ]
          },
          "metadata": {},
          "execution_count": 10
        }
      ]
    },
    {
      "cell_type": "code",
      "source": [
        "# Linear Regression\n",
        "model_LR = LinearRegression()\n",
        "\n",
        "model_LR.fit(train_x, train_y)\n",
        "\n",
        "predict_train = model_LR.predict(train_x)\n",
        "predict_test  = model_LR.predict(test_x)\n",
        "\n",
        "print('RMSE Train: ', mean_squared_error(train_y, predict_train)**(0.5))\n",
        "print('RMSE Test: ',  mean_squared_error(test_y, predict_test)**(0.5))"
      ],
      "metadata": {
        "colab": {
          "base_uri": "https://localhost:8080/",
          "height": 0
        },
        "id": "lhNR7faDmR25",
        "outputId": "a4710f09-d0a2-416d-b4c8-99182e89549b"
      },
      "execution_count": 11,
      "outputs": [
        {
          "output_type": "stream",
          "name": "stdout",
          "text": [
            "RMSE Train:  1120.3309637446057\n",
            "RMSE Test:  1148.5518591407933\n"
          ]
        }
      ]
    },
    {
      "cell_type": "code",
      "source": [
        "# Random Forest\n",
        "model_RFR = RandomForestRegressor(max_depth=10)\n",
        "\n",
        "model_RFR.fit(train_x, train_y)\n",
        "\n",
        "predict_train = model_RFR.predict(train_x)\n",
        "predict_test = model_RFR.predict(test_x)"
      ],
      "metadata": {
        "id": "A-NvMo3CmcE0"
      },
      "execution_count": 12,
      "outputs": []
    },
    {
      "cell_type": "code",
      "source": [
        "plt.figure(figsize=(10, 10))\n",
        "feat_importances = pd.Series(model_RFR.feature_importances_, index = train_x.columns)\n",
        "feat_importances.nlargest(10).plot(kind='barh');"
      ],
      "metadata": {
        "colab": {
          "base_uri": "https://localhost:8080/",
          "height": 592
        },
        "id": "xiTf7_w_mtjY",
        "outputId": "358c2b7c-c67a-485a-daea-1c1fe0bfabb0"
      },
      "execution_count": 13,
      "outputs": [
        {
          "output_type": "display_data",
          "data": {
            "text/plain": [
              "<Figure size 720x720 with 1 Axes>"
            ],
            "image/png": "[encoded data removed]"
          },
          "metadata": {
            "needs_background": "light"
          }
        }
      ]
    },
    {
      "cell_type": "markdown",
      "source": [
        "**Step 4**\n",
        "\n",
        "**Feature Importance**: After building a prototype model with a random forest algorithm, which also gives the \"feature importance\" of all the different variables, the next step is to choose the top 5-10 features among the 45+ features (binary encoders result in a bigger feature set) such that the performance is unaffected to train the model: validated by comparing the performance with and without the less important features."
      ],
      "metadata": {
        "id": "JxuXDyLPgMbm"
      }
    },
    {
      "cell_type": "code",
      "source": [
        "# Seperate Features and Target - Step #6 re-iteration.\n",
        "train_X = train_data.drop(columns=['Item_Identifier','Item_Outlet_Sales', 'Consumer_Age', 'Consumer_Gender'])\n",
        "train_Y = train_data['Item_Outlet_Sales']\n",
        "\n",
        "# Split to Train to Train and Test\n",
        "train_x, test_x, train_y, test_y = train_test_split(train_X, train_Y,test_size=0.25,random_state=0)\n",
        "train_x.shape, test_x.shape, train_y.shape, test_y.shape\n",
        "\n",
        "model_RFR = RandomForestRegressor(max_depth=10)\n",
        "\n",
        "model_RFR.fit(train_x, train_y)\n",
        "\n",
        "predict_train = model_RFR.predict(train_x)\n",
        "predict_test = model_RFR.predict(test_x)\n",
        "\n",
        "plt.figure(figsize=(10, 7))\n",
        "feat_importances = pd.Series(model_RFR.feature_importances_, index = train_x.columns)\n",
        "feat_importances.nlargest(7).plot(kind='barh');"
      ],
      "metadata": {
        "colab": {
          "base_uri": "https://localhost:8080/",
          "height": 428
        },
        "id": "wPqequ7OjR3Q",
        "outputId": "d1dc08e2-1b49-4b00-9db7-7f27ebd13eae"
      },
      "execution_count": 14,
      "outputs": [
        {
          "output_type": "display_data",
          "data": {
            "text/plain": [
              "<Figure size 720x504 with 1 Axes>"
            ],
            "image/png": "[encoded data removed]"
          },
          "metadata": {
            "needs_background": "light"
          }
        }
      ]
    },
    {
      "cell_type": "markdown",
      "source": [
        "**Step 4**\n",
        "\n",
        "The top 7 features with more predictive value:\n",
        "* Item_Weight\n",
        "* Outlet_Identifier_OUT027\n",
        "* Outlet_Establishment_Year\n",
        "* Outlet_Type_Supermarket_Type3\n",
        "* Item_Visibility\n",
        "* Outlet_Type_Grocery_Store\n",
        "* Item_MRP"
      ],
      "metadata": {
        "id": "YkhcFQlvj6fe"
      }
    },
    {
      "cell_type": "markdown",
      "source": [
        "**Step 5**\n",
        "\n",
        "**Protected Features**: However, to prevent bias in the model, despite the feature importance, the **consumer age**, and **gender**, especially when it represents average and majority numbers, it's undoubtedly known to create bias in the model."
      ],
      "metadata": {
        "id": "jvj9FEw4l1NU"
      }
    },
    {
      "cell_type": "markdown",
      "source": [
        "**Step 6**\n",
        "\n",
        "Training the random forest model with the top predictive features."
      ],
      "metadata": {
        "id": "s_eRwPD3m_98"
      }
    },
    {
      "cell_type": "code",
      "source": [
        "top_7 = ['Item_MRP', \n",
        "                    'Outlet_Type_Grocery Store',\n",
        "                    'Item_Visibility',\n",
        "                    'Outlet_Type_Supermarket Type3',\n",
        "                    'Outlet_Identifier_OUT027',\n",
        "                    'Outlet_Establishment_Year',\n",
        "                    'Item_Weight']\n",
        "\n",
        "train_x_top = train_x[top_7]\n",
        "test_x_top = test_x[top_7]\n",
        "\n",
        "\n",
        "model_RFR_with_top = RandomForestRegressor(max_depth=10,random_state=2)\n",
        "\n",
        "model_RFR_with_top.fit(train_x_top, train_y)\n",
        "\n",
        "predict_train_with_top = model_RFR_with_top.predict(train_x_top)\n",
        "predict_test_with_top = model_RFR_with_top.predict(test_x_top)\n",
        "\n",
        "print('RMSE Train: ', mean_squared_error(train_y, predict_train_with_top)**(0.5))\n",
        "print('RMSE Test: ',  mean_squared_error(test_y, predict_test_with_top)**(0.5))"
      ],
      "metadata": {
        "colab": {
          "base_uri": "https://localhost:8080/",
          "height": 0
        },
        "id": "uAZvk7qnm-tz",
        "outputId": "84890c37-f1a4-4d6b-c7c4-50f857a11012"
      },
      "execution_count": 15,
      "outputs": [
        {
          "output_type": "stream",
          "name": "stdout",
          "text": [
            "RMSE Train:  899.8582438552843\n",
            "RMSE Test:  1117.7016540152065\n"
          ]
        }
      ]
    },
    {
      "cell_type": "markdown",
      "source": [
        "Important to note that using only the Top 7 features gives almost the same performance as that of 45+ features."
      ],
      "metadata": {
        "id": "PNn_0cEdBetl"
      }
    },
    {
      "cell_type": "markdown",
      "source": [
        "**Step 7**\n",
        "\n",
        "Starting with the straightforward linear regression, the training dataset is randomly split into 25-75 (Validation Set - Training Set), and performance is measured on the validation set. The Root Mean Square Error (RMSE) is high for training and validation sets. After checking if a tree-based model performs any better, the **random forest** model showed significant improvements in the RMSE values."
      ],
      "metadata": {
        "id": "2wGUt9kVCCn6"
      }
    },
    {
      "cell_type": "markdown",
      "source": [
        "**Step 8**\n",
        "\n",
        "As seen above, the performance of the model is approximately 87% in predicting the sales, the most predictive feature (feature selection) is as mentioned in Step 4, and finally, the random forest model significantly reduces the RMSE value, as seen in step 6."
      ],
      "metadata": {
        "id": "-yw9vj2OEQXz"
      }
    },
    {
      "cell_type": "code",
      "source": [
        "import colab\n",
        "!pip install --upgrade pip"
      ],
      "metadata": {
        "colab": {
          "base_uri": "https://localhost:8080/",
          "height": 0
        },
        "id": "nD9N_9cEoGDN",
        "outputId": "a55b7aec-78c8-453a-f62a-6fb57de5c834"
      },
      "execution_count": 16,
      "outputs": [
        {
          "output_type": "stream",
          "name": "stdout",
          "text": [
            "Looking in indexes: https://pypi.org/simple, https://us-python.pkg.dev/colab-wheels/public/simple/\n",
            "Requirement already satisfied: pip in /usr/local/lib/python3.7/dist-packages (22.1.2)\n",
            "\u001b[33mWARNING: Running pip as the 'root' user can result in broken permissions and conflicting behaviour with the system package manager. It is recommended to use a virtual environment instead: https://pip.pypa.io/warnings/venv\u001b[0m\u001b[33m\n",
            "\u001b[0m"
          ]
        }
      ]
    },
    {
      "cell_type": "code",
      "source": [
        "!pip install --upgrade 'tensorflow_data_validation[visualization]<2'"
      ],
      "metadata": {
        "colab": {
          "base_uri": "https://localhost:8080/",
          "height": 0
        },
        "id": "YYmH3ja0H5ig",
        "outputId": "c56eab20-c02f-4138-93c6-79bc12db3650"
      },
      "execution_count": 17,
      "outputs": [
        {
          "output_type": "stream",
          "name": "stdout",
          "text": [
            "Looking in indexes: https://pypi.org/simple, https://us-python.pkg.dev/colab-wheels/public/simple/\n",
            "Requirement already satisfied: tensorflow_data_validation[visualization]<2 in /usr/local/lib/python3.7/dist-packages (1.8.0)\n",
            "Requirement already satisfied: pyarrow<6,>=1 in /usr/local/lib/python3.7/dist-packages (from tensorflow_data_validation[visualization]<2) (5.0.0)\n",
            "Requirement already satisfied: protobuf<4,>=3.13 in /usr/local/lib/python3.7/dist-packages (from tensorflow_data_validation[visualization]<2) (3.19.4)\n",
            "Requirement already satisfied: six<2,>=1.12 in /usr/local/lib/python3.7/dist-packages (from tensorflow_data_validation[visualization]<2) (1.15.0)\n",
            "Requirement already satisfied: absl-py<2.0.0,>=0.9 in /usr/local/lib/python3.7/dist-packages (from tensorflow_data_validation[visualization]<2) (1.0.0)\n",
            "Requirement already satisfied: tensorflow-metadata<1.9,>=1.8.0 in /usr/local/lib/python3.7/dist-packages (from tensorflow_data_validation[visualization]<2) (1.8.0)\n",
            "Requirement already satisfied: tfx-bsl<1.9,>=1.8.0 in /usr/local/lib/python3.7/dist-packages (from tensorflow_data_validation[visualization]<2) (1.8.0)\n",
            "Requirement already satisfied: numpy<2,>=1.16 in /usr/local/lib/python3.7/dist-packages (from tensorflow_data_validation[visualization]<2) (1.21.6)\n",
            "Requirement already satisfied: pandas<2,>=1.0 in /usr/local/lib/python3.7/dist-packages (from tensorflow_data_validation[visualization]<2) (1.3.5)\n",
            "Requirement already satisfied: pyfarmhash<0.4,>=0.2 in /usr/local/lib/python3.7/dist-packages (from tensorflow_data_validation[visualization]<2) (0.3.2)\n",
            "Requirement already satisfied: apache-beam[gcp]<3,>=2.38 in /usr/local/lib/python3.7/dist-packages (from tensorflow_data_validation[visualization]<2) (2.39.0)\n",
            "Requirement already satisfied: joblib<0.15,>=0.12 in /usr/local/lib/python3.7/dist-packages (from tensorflow_data_validation[visualization]<2) (0.14.1)\n",
            "Requirement already satisfied: tensorflow!=2.0.*,!=2.1.*,!=2.2.*,!=2.3.*,!=2.4.*,!=2.5.*,!=2.6.*,!=2.7.*,<3,>=1.15.5 in /usr/local/lib/python3.7/dist-packages (from tensorflow_data_validation[visualization]<2) (2.8.2+zzzcolab20220527125636)\n",
            "Requirement already satisfied: ipython<8,>=7 in /usr/local/lib/python3.7/dist-packages (from tensorflow_data_validation[visualization]<2) (7.34.0)\n",
            "Requirement already satisfied: orjson<4.0 in /usr/local/lib/python3.7/dist-packages (from apache-beam[gcp]<3,>=2.38->tensorflow_data_validation[visualization]<2) (3.7.2)\n",
            "Requirement already satisfied: hdfs<3.0.0,>=2.1.0 in /usr/local/lib/python3.7/dist-packages (from apache-beam[gcp]<3,>=2.38->tensorflow_data_validation[visualization]<2) (2.7.0)\n",
            "Requirement already satisfied: python-dateutil<3,>=2.8.0 in /usr/local/lib/python3.7/dist-packages (from apache-beam[gcp]<3,>=2.38->tensorflow_data_validation[visualization]<2) (2.8.2)\n",
            "Requirement already satisfied: fastavro<2,>=0.23.6 in /usr/local/lib/python3.7/dist-packages (from apache-beam[gcp]<3,>=2.38->tensorflow_data_validation[visualization]<2) (1.5.1)\n",
            "Requirement already satisfied: grpcio<2,>=1.29.0 in /usr/local/lib/python3.7/dist-packages (from apache-beam[gcp]<3,>=2.38->tensorflow_data_validation[visualization]<2) (1.46.3)\n",
            "Requirement already satisfied: pytz>=2018.3 in /usr/local/lib/python3.7/dist-packages (from apache-beam[gcp]<3,>=2.38->tensorflow_data_validation[visualization]<2) (2022.1)\n",
            "Requirement already satisfied: proto-plus<2,>=1.7.1 in /usr/local/lib/python3.7/dist-packages (from apache-beam[gcp]<3,>=2.38->tensorflow_data_validation[visualization]<2) (1.20.5)\n",
            "Requirement already satisfied: requests<3.0.0,>=2.24.0 in /usr/local/lib/python3.7/dist-packages (from apache-beam[gcp]<3,>=2.38->tensorflow_data_validation[visualization]<2) (2.28.0)\n",
            "Requirement already satisfied: pydot<2,>=1.2.0 in /usr/local/lib/python3.7/dist-packages (from apache-beam[gcp]<3,>=2.38->tensorflow_data_validation[visualization]<2) (1.3.0)\n",
            "Requirement already satisfied: crcmod<2.0,>=1.7 in /usr/local/lib/python3.7/dist-packages (from apache-beam[gcp]<3,>=2.38->tensorflow_data_validation[visualization]<2) (1.7)\n",
            "Requirement already satisfied: typing-extensions>=3.7.0 in /usr/local/lib/python3.7/dist-packages (from apache-beam[gcp]<3,>=2.38->tensorflow_data_validation[visualization]<2) (4.2.0)\n",
            "Requirement already satisfied: dill<0.3.2,>=0.3.1.1 in /usr/local/lib/python3.7/dist-packages (from apache-beam[gcp]<3,>=2.38->tensorflow_data_validation[visualization]<2) (0.3.1.1)\n",
            "Requirement already satisfied: cloudpickle<3,>=2.0.0 in /usr/local/lib/python3.7/dist-packages (from apache-beam[gcp]<3,>=2.38->tensorflow_data_validation[visualization]<2) (2.1.0)\n",
            "Requirement already satisfied: pymongo<4.0.0,>=3.8.0 in /usr/local/lib/python3.7/dist-packages (from apache-beam[gcp]<3,>=2.38->tensorflow_data_validation[visualization]<2) (3.12.3)\n",
            "Requirement already satisfied: httplib2<0.20.0,>=0.8 in /usr/local/lib/python3.7/dist-packages (from apache-beam[gcp]<3,>=2.38->tensorflow_data_validation[visualization]<2) (0.17.4)\n",
            "Requirement already satisfied: google-cloud-datastore<2,>=1.8.0 in /usr/local/lib/python3.7/dist-packages (from apache-beam[gcp]<3,>=2.38->tensorflow_data_validation[visualization]<2) (1.8.0)\n",
            "Requirement already satisfied: google-cloud-recommendations-ai<=0.2.0,>=0.1.0 in /usr/local/lib/python3.7/dist-packages (from apache-beam[gcp]<3,>=2.38->tensorflow_data_validation[visualization]<2) (0.2.0)\n",
            "Requirement already satisfied: google-cloud-core<2,>=0.28.1 in /usr/local/lib/python3.7/dist-packages (from apache-beam[gcp]<3,>=2.38->tensorflow_data_validation[visualization]<2) (1.7.2)\n",
            "Requirement already satisfied: google-cloud-language<2,>=1.3.0 in /usr/local/lib/python3.7/dist-packages (from apache-beam[gcp]<3,>=2.38->tensorflow_data_validation[visualization]<2) (1.3.2)\n",
            "Requirement already satisfied: google-cloud-bigquery<3,>=1.6.0 in /usr/local/lib/python3.7/dist-packages (from apache-beam[gcp]<3,>=2.38->tensorflow_data_validation[visualization]<2) (1.21.0)\n",
            "Requirement already satisfied: google-cloud-videointelligence<2,>=1.8.0 in /usr/local/lib/python3.7/dist-packages (from apache-beam[gcp]<3,>=2.38->tensorflow_data_validation[visualization]<2) (1.16.3)\n",
            "Requirement already satisfied: google-cloud-dlp<4,>=3.0.0 in /usr/local/lib/python3.7/dist-packages (from apache-beam[gcp]<3,>=2.38->tensorflow_data_validation[visualization]<2) (3.7.1)\n",
            "Requirement already satisfied: google-auth<3,>=1.18.0 in /usr/local/lib/python3.7/dist-packages (from apache-beam[gcp]<3,>=2.38->tensorflow_data_validation[visualization]<2) (1.35.0)\n",
            "Requirement already satisfied: google-cloud-bigtable<2,>=0.31.1 in /usr/local/lib/python3.7/dist-packages (from apache-beam[gcp]<3,>=2.38->tensorflow_data_validation[visualization]<2) (1.7.2)\n",
            "Requirement already satisfied: google-cloud-pubsublite<2,>=1.2.0 in /usr/local/lib/python3.7/dist-packages (from apache-beam[gcp]<3,>=2.38->tensorflow_data_validation[visualization]<2) (1.4.2)\n",
            "Requirement already satisfied: google-apitools<0.5.32,>=0.5.31 in /usr/local/lib/python3.7/dist-packages (from apache-beam[gcp]<3,>=2.38->tensorflow_data_validation[visualization]<2) (0.5.31)\n",
            "Requirement already satisfied: cachetools<5,>=3.1.0 in /usr/local/lib/python3.7/dist-packages (from apache-beam[gcp]<3,>=2.38->tensorflow_data_validation[visualization]<2) (4.2.4)\n",
            "Requirement already satisfied: google-cloud-pubsub<3,>=2.1.0 in /usr/local/lib/python3.7/dist-packages (from apache-beam[gcp]<3,>=2.38->tensorflow_data_validation[visualization]<2) (2.13.0)\n",
            "Requirement already satisfied: google-cloud-vision<2,>=0.38.0 in /usr/local/lib/python3.7/dist-packages (from apache-beam[gcp]<3,>=2.38->tensorflow_data_validation[visualization]<2) (1.0.2)\n",
            "Requirement already satisfied: google-cloud-bigquery-storage>=2.6.3 in /usr/local/lib/python3.7/dist-packages (from apache-beam[gcp]<3,>=2.38->tensorflow_data_validation[visualization]<2) (2.13.2)\n",
            "Requirement already satisfied: google-auth-httplib2<0.2.0,>=0.1.0 in /usr/local/lib/python3.7/dist-packages (from apache-beam[gcp]<3,>=2.38->tensorflow_data_validation[visualization]<2) (0.1.0)\n",
            "Requirement already satisfied: google-cloud-spanner<2,>=1.13.0 in /usr/local/lib/python3.7/dist-packages (from apache-beam[gcp]<3,>=2.38->tensorflow_data_validation[visualization]<2) (1.19.3)\n",
            "Requirement already satisfied: grpcio-gcp<1,>=0.2.2 in /usr/local/lib/python3.7/dist-packages (from apache-beam[gcp]<3,>=2.38->tensorflow_data_validation[visualization]<2) (0.2.2)\n",
            "Requirement already satisfied: decorator in /usr/local/lib/python3.7/dist-packages (from ipython<8,>=7->tensorflow_data_validation[visualization]<2) (4.4.2)\n",
            "Requirement already satisfied: prompt-toolkit!=3.0.0,!=3.0.1,<3.1.0,>=2.0.0 in /usr/local/lib/python3.7/dist-packages (from ipython<8,>=7->tensorflow_data_validation[visualization]<2) (3.0.29)\n",
            "Requirement already satisfied: matplotlib-inline in /usr/local/lib/python3.7/dist-packages (from ipython<8,>=7->tensorflow_data_validation[visualization]<2) (0.1.3)\n",
            "Requirement already satisfied: backcall in /usr/local/lib/python3.7/dist-packages (from ipython<8,>=7->tensorflow_data_validation[visualization]<2) (0.2.0)\n",
            "Requirement already satisfied: setuptools>=18.5 in /usr/local/lib/python3.7/dist-packages (from ipython<8,>=7->tensorflow_data_validation[visualization]<2) (57.4.0)\n",
            "Requirement already satisfied: traitlets>=4.2 in /usr/local/lib/python3.7/dist-packages (from ipython<8,>=7->tensorflow_data_validation[visualization]<2) (5.1.1)\n",
            "Requirement already satisfied: pexpect>4.3 in /usr/local/lib/python3.7/dist-packages (from ipython<8,>=7->tensorflow_data_validation[visualization]<2) (4.8.0)\n",
            "Requirement already satisfied: pickleshare in /usr/local/lib/python3.7/dist-packages (from ipython<8,>=7->tensorflow_data_validation[visualization]<2) (0.7.5)\n",
            "Requirement already satisfied: pygments in /usr/local/lib/python3.7/dist-packages (from ipython<8,>=7->tensorflow_data_validation[visualization]<2) (2.6.1)\n",
            "Requirement already satisfied: jedi>=0.16 in /usr/local/lib/python3.7/dist-packages (from ipython<8,>=7->tensorflow_data_validation[visualization]<2) (0.18.1)\n",
            "Requirement already satisfied: opt-einsum>=2.3.2 in /usr/local/lib/python3.7/dist-packages (from tensorflow!=2.0.*,!=2.1.*,!=2.2.*,!=2.3.*,!=2.4.*,!=2.5.*,!=2.6.*,!=2.7.*,<3,>=1.15.5->tensorflow_data_validation[visualization]<2) (3.3.0)\n",
            "Requirement already satisfied: astunparse>=1.6.0 in /usr/local/lib/python3.7/dist-packages (from tensorflow!=2.0.*,!=2.1.*,!=2.2.*,!=2.3.*,!=2.4.*,!=2.5.*,!=2.6.*,!=2.7.*,<3,>=1.15.5->tensorflow_data_validation[visualization]<2) (1.6.3)\n",
            "Requirement already satisfied: libclang>=9.0.1 in /usr/local/lib/python3.7/dist-packages (from tensorflow!=2.0.*,!=2.1.*,!=2.2.*,!=2.3.*,!=2.4.*,!=2.5.*,!=2.6.*,!=2.7.*,<3,>=1.15.5->tensorflow_data_validation[visualization]<2) (14.0.1)\n",
            "Requirement already satisfied: tensorflow-estimator<2.9,>=2.8 in /usr/local/lib/python3.7/dist-packages (from tensorflow!=2.0.*,!=2.1.*,!=2.2.*,!=2.3.*,!=2.4.*,!=2.5.*,!=2.6.*,!=2.7.*,<3,>=1.15.5->tensorflow_data_validation[visualization]<2) (2.8.0)\n",
            "Requirement already satisfied: wrapt>=1.11.0 in /usr/local/lib/python3.7/dist-packages (from tensorflow!=2.0.*,!=2.1.*,!=2.2.*,!=2.3.*,!=2.4.*,!=2.5.*,!=2.6.*,!=2.7.*,<3,>=1.15.5->tensorflow_data_validation[visualization]<2) (1.14.1)\n",
            "Requirement already satisfied: tensorflow-io-gcs-filesystem>=0.23.1 in /usr/local/lib/python3.7/dist-packages (from tensorflow!=2.0.*,!=2.1.*,!=2.2.*,!=2.3.*,!=2.4.*,!=2.5.*,!=2.6.*,!=2.7.*,<3,>=1.15.5->tensorflow_data_validation[visualization]<2) (0.26.0)\n",
            "Requirement already satisfied: gast>=0.2.1 in /usr/local/lib/python3.7/dist-packages (from tensorflow!=2.0.*,!=2.1.*,!=2.2.*,!=2.3.*,!=2.4.*,!=2.5.*,!=2.6.*,!=2.7.*,<3,>=1.15.5->tensorflow_data_validation[visualization]<2) (0.5.3)\n",
            "Requirement already satisfied: flatbuffers>=1.12 in /usr/local/lib/python3.7/dist-packages (from tensorflow!=2.0.*,!=2.1.*,!=2.2.*,!=2.3.*,!=2.4.*,!=2.5.*,!=2.6.*,!=2.7.*,<3,>=1.15.5->tensorflow_data_validation[visualization]<2) (2.0)\n",
            "Requirement already satisfied: keras<2.9,>=2.8.0rc0 in /usr/local/lib/python3.7/dist-packages (from tensorflow!=2.0.*,!=2.1.*,!=2.2.*,!=2.3.*,!=2.4.*,!=2.5.*,!=2.6.*,!=2.7.*,<3,>=1.15.5->tensorflow_data_validation[visualization]<2) (2.8.0)\n",
            "Requirement already satisfied: termcolor>=1.1.0 in /usr/local/lib/python3.7/dist-packages (from tensorflow!=2.0.*,!=2.1.*,!=2.2.*,!=2.3.*,!=2.4.*,!=2.5.*,!=2.6.*,!=2.7.*,<3,>=1.15.5->tensorflow_data_validation[visualization]<2) (1.1.0)\n",
            "Requirement already satisfied: keras-preprocessing>=1.1.1 in /usr/local/lib/python3.7/dist-packages (from tensorflow!=2.0.*,!=2.1.*,!=2.2.*,!=2.3.*,!=2.4.*,!=2.5.*,!=2.6.*,!=2.7.*,<3,>=1.15.5->tensorflow_data_validation[visualization]<2) (1.1.2)\n",
            "Requirement already satisfied: h5py>=2.9.0 in /usr/local/lib/python3.7/dist-packages (from tensorflow!=2.0.*,!=2.1.*,!=2.2.*,!=2.3.*,!=2.4.*,!=2.5.*,!=2.6.*,!=2.7.*,<3,>=1.15.5->tensorflow_data_validation[visualization]<2) (3.1.0)\n",
            "Requirement already satisfied: tensorboard<2.9,>=2.8 in /usr/local/lib/python3.7/dist-packages (from tensorflow!=2.0.*,!=2.1.*,!=2.2.*,!=2.3.*,!=2.4.*,!=2.5.*,!=2.6.*,!=2.7.*,<3,>=1.15.5->tensorflow_data_validation[visualization]<2) (2.8.0)\n",
            "Requirement already satisfied: google-pasta>=0.1.1 in /usr/local/lib/python3.7/dist-packages (from tensorflow!=2.0.*,!=2.1.*,!=2.2.*,!=2.3.*,!=2.4.*,!=2.5.*,!=2.6.*,!=2.7.*,<3,>=1.15.5->tensorflow_data_validation[visualization]<2) (0.2.0)\n",
            "Requirement already satisfied: googleapis-common-protos<2,>=1.52.0 in /usr/local/lib/python3.7/dist-packages (from tensorflow-metadata<1.9,>=1.8.0->tensorflow_data_validation[visualization]<2) (1.56.2)\n",
            "Requirement already satisfied: tensorflow-serving-api!=2.0.*,!=2.1.*,!=2.2.*,!=2.3.*,!=2.4.*,!=2.5.*,!=2.6.*,!=2.7.*,<3,>=1.15 in /usr/local/lib/python3.7/dist-packages (from tfx-bsl<1.9,>=1.8.0->tensorflow_data_validation[visualization]<2) (2.8.2)\n",
            "Requirement already satisfied: google-api-python-client<2,>=1.7.11 in /usr/local/lib/python3.7/dist-packages (from tfx-bsl<1.9,>=1.8.0->tensorflow_data_validation[visualization]<2) (1.12.11)\n",
            "Requirement already satisfied: wheel<1.0,>=0.23.0 in /usr/local/lib/python3.7/dist-packages (from astunparse>=1.6.0->tensorflow!=2.0.*,!=2.1.*,!=2.2.*,!=2.3.*,!=2.4.*,!=2.5.*,!=2.6.*,!=2.7.*,<3,>=1.15.5->tensorflow_data_validation[visualization]<2) (0.37.1)\n",
            "Requirement already satisfied: uritemplate<4dev,>=3.0.0 in /usr/local/lib/python3.7/dist-packages (from google-api-python-client<2,>=1.7.11->tfx-bsl<1.9,>=1.8.0->tensorflow_data_validation[visualization]<2) (3.0.1)\n",
            "Requirement already satisfied: google-api-core<3dev,>=1.21.0 in /usr/local/lib/python3.7/dist-packages (from google-api-python-client<2,>=1.7.11->tfx-bsl<1.9,>=1.8.0->tensorflow_data_validation[visualization]<2) (1.31.6)\n",
            "Requirement already satisfied: oauth2client>=1.4.12 in /usr/local/lib/python3.7/dist-packages (from google-apitools<0.5.32,>=0.5.31->apache-beam[gcp]<3,>=2.38->tensorflow_data_validation[visualization]<2) (4.1.3)\n",
            "Requirement already satisfied: fasteners>=0.14 in /usr/local/lib/python3.7/dist-packages (from google-apitools<0.5.32,>=0.5.31->apache-beam[gcp]<3,>=2.38->tensorflow_data_validation[visualization]<2) (0.17.3)\n",
            "Requirement already satisfied: pyasn1-modules>=0.2.1 in /usr/local/lib/python3.7/dist-packages (from google-auth<3,>=1.18.0->apache-beam[gcp]<3,>=2.38->tensorflow_data_validation[visualization]<2) (0.2.8)\n",
            "Requirement already satisfied: rsa<5,>=3.1.4 in /usr/local/lib/python3.7/dist-packages (from google-auth<3,>=1.18.0->apache-beam[gcp]<3,>=2.38->tensorflow_data_validation[visualization]<2) (4.8)\n",
            "Requirement already satisfied: google-resumable-media!=0.4.0,<0.5.0dev,>=0.3.1 in /usr/local/lib/python3.7/dist-packages (from google-cloud-bigquery<3,>=1.6.0->apache-beam[gcp]<3,>=2.38->tensorflow_data_validation[visualization]<2) (0.4.1)\n",
            "Requirement already satisfied: grpc-google-iam-v1<0.13dev,>=0.12.3 in /usr/local/lib/python3.7/dist-packages (from google-cloud-bigtable<2,>=0.31.1->apache-beam[gcp]<3,>=2.38->tensorflow_data_validation[visualization]<2) (0.12.4)\n",
            "Requirement already satisfied: grpcio-status>=1.16.0 in /usr/local/lib/python3.7/dist-packages (from google-cloud-pubsub<3,>=2.1.0->apache-beam[gcp]<3,>=2.38->tensorflow_data_validation[visualization]<2) (1.46.3)\n",
            "Requirement already satisfied: overrides<7.0.0,>=6.0.1 in /usr/local/lib/python3.7/dist-packages (from google-cloud-pubsublite<2,>=1.2.0->apache-beam[gcp]<3,>=2.38->tensorflow_data_validation[visualization]<2) (6.1.0)\n",
            "Requirement already satisfied: cached-property in /usr/local/lib/python3.7/dist-packages (from h5py>=2.9.0->tensorflow!=2.0.*,!=2.1.*,!=2.2.*,!=2.3.*,!=2.4.*,!=2.5.*,!=2.6.*,!=2.7.*,<3,>=1.15.5->tensorflow_data_validation[visualization]<2) (1.5.2)\n",
            "Requirement already satisfied: docopt in /usr/local/lib/python3.7/dist-packages (from hdfs<3.0.0,>=2.1.0->apache-beam[gcp]<3,>=2.38->tensorflow_data_validation[visualization]<2) (0.6.2)\n",
            "Requirement already satisfied: parso<0.9.0,>=0.8.0 in /usr/local/lib/python3.7/dist-packages (from jedi>=0.16->ipython<8,>=7->tensorflow_data_validation[visualization]<2) (0.8.3)\n",
            "Requirement already satisfied: ptyprocess>=0.5 in /usr/local/lib/python3.7/dist-packages (from pexpect>4.3->ipython<8,>=7->tensorflow_data_validation[visualization]<2) (0.7.0)\n",
            "Requirement already satisfied: wcwidth in /usr/local/lib/python3.7/dist-packages (from prompt-toolkit!=3.0.0,!=3.0.1,<3.1.0,>=2.0.0->ipython<8,>=7->tensorflow_data_validation[visualization]<2) (0.2.5)\n",
            "Requirement already satisfied: pyparsing>=2.1.4 in /usr/local/lib/python3.7/dist-packages (from pydot<2,>=1.2.0->apache-beam[gcp]<3,>=2.38->tensorflow_data_validation[visualization]<2) (3.0.9)\n",
            "Requirement already satisfied: idna<4,>=2.5 in /usr/local/lib/python3.7/dist-packages (from requests<3.0.0,>=2.24.0->apache-beam[gcp]<3,>=2.38->tensorflow_data_validation[visualization]<2) (2.10)\n",
            "Requirement already satisfied: urllib3<1.27,>=1.21.1 in /usr/local/lib/python3.7/dist-packages (from requests<3.0.0,>=2.24.0->apache-beam[gcp]<3,>=2.38->tensorflow_data_validation[visualization]<2) (1.24.3)\n",
            "Requirement already satisfied: charset-normalizer~=2.0.0 in /usr/local/lib/python3.7/dist-packages (from requests<3.0.0,>=2.24.0->apache-beam[gcp]<3,>=2.38->tensorflow_data_validation[visualization]<2) (2.0.12)\n",
            "Requirement already satisfied: certifi>=2017.4.17 in /usr/local/lib/python3.7/dist-packages (from requests<3.0.0,>=2.24.0->apache-beam[gcp]<3,>=2.38->tensorflow_data_validation[visualization]<2) (2022.5.18.1)\n",
            "Requirement already satisfied: werkzeug>=0.11.15 in /usr/local/lib/python3.7/dist-packages (from tensorboard<2.9,>=2.8->tensorflow!=2.0.*,!=2.1.*,!=2.2.*,!=2.3.*,!=2.4.*,!=2.5.*,!=2.6.*,!=2.7.*,<3,>=1.15.5->tensorflow_data_validation[visualization]<2) (1.0.1)\n",
            "Requirement already satisfied: google-auth-oauthlib<0.5,>=0.4.1 in /usr/local/lib/python3.7/dist-packages (from tensorboard<2.9,>=2.8->tensorflow!=2.0.*,!=2.1.*,!=2.2.*,!=2.3.*,!=2.4.*,!=2.5.*,!=2.6.*,!=2.7.*,<3,>=1.15.5->tensorflow_data_validation[visualization]<2) (0.4.6)\n",
            "Requirement already satisfied: tensorboard-data-server<0.7.0,>=0.6.0 in /usr/local/lib/python3.7/dist-packages (from tensorboard<2.9,>=2.8->tensorflow!=2.0.*,!=2.1.*,!=2.2.*,!=2.3.*,!=2.4.*,!=2.5.*,!=2.6.*,!=2.7.*,<3,>=1.15.5->tensorflow_data_validation[visualization]<2) (0.6.1)\n",
            "Requirement already satisfied: markdown>=2.6.8 in /usr/local/lib/python3.7/dist-packages (from tensorboard<2.9,>=2.8->tensorflow!=2.0.*,!=2.1.*,!=2.2.*,!=2.3.*,!=2.4.*,!=2.5.*,!=2.6.*,!=2.7.*,<3,>=1.15.5->tensorflow_data_validation[visualization]<2) (3.3.7)\n",
            "Requirement already satisfied: tensorboard-plugin-wit>=1.6.0 in /usr/local/lib/python3.7/dist-packages (from tensorboard<2.9,>=2.8->tensorflow!=2.0.*,!=2.1.*,!=2.2.*,!=2.3.*,!=2.4.*,!=2.5.*,!=2.6.*,!=2.7.*,<3,>=1.15.5->tensorflow_data_validation[visualization]<2) (1.8.1)\n",
            "Requirement already satisfied: packaging>=14.3 in /usr/local/lib/python3.7/dist-packages (from google-api-core<3dev,>=1.21.0->google-api-python-client<2,>=1.7.11->tfx-bsl<1.9,>=1.8.0->tensorflow_data_validation[visualization]<2) (21.3)\n",
            "Requirement already satisfied: requests-oauthlib>=0.7.0 in /usr/local/lib/python3.7/dist-packages (from google-auth-oauthlib<0.5,>=0.4.1->tensorboard<2.9,>=2.8->tensorflow!=2.0.*,!=2.1.*,!=2.2.*,!=2.3.*,!=2.4.*,!=2.5.*,!=2.6.*,!=2.7.*,<3,>=1.15.5->tensorflow_data_validation[visualization]<2) (1.3.1)\n",
            "Requirement already satisfied: importlib-metadata>=4.4 in /usr/local/lib/python3.7/dist-packages (from markdown>=2.6.8->tensorboard<2.9,>=2.8->tensorflow!=2.0.*,!=2.1.*,!=2.2.*,!=2.3.*,!=2.4.*,!=2.5.*,!=2.6.*,!=2.7.*,<3,>=1.15.5->tensorflow_data_validation[visualization]<2) (4.11.4)\n",
            "Requirement already satisfied: pyasn1>=0.1.7 in /usr/local/lib/python3.7/dist-packages (from oauth2client>=1.4.12->google-apitools<0.5.32,>=0.5.31->apache-beam[gcp]<3,>=2.38->tensorflow_data_validation[visualization]<2) (0.4.8)\n",
            "Requirement already satisfied: typing-utils>=0.0.3 in /usr/local/lib/python3.7/dist-packages (from overrides<7.0.0,>=6.0.1->google-cloud-pubsublite<2,>=1.2.0->apache-beam[gcp]<3,>=2.38->tensorflow_data_validation[visualization]<2) (0.1.0)\n",
            "Requirement already satisfied: zipp>=0.5 in /usr/local/lib/python3.7/dist-packages (from importlib-metadata>=4.4->markdown>=2.6.8->tensorboard<2.9,>=2.8->tensorflow!=2.0.*,!=2.1.*,!=2.2.*,!=2.3.*,!=2.4.*,!=2.5.*,!=2.6.*,!=2.7.*,<3,>=1.15.5->tensorflow_data_validation[visualization]<2) (3.8.0)\n",
            "Requirement already satisfied: oauthlib>=3.0.0 in /usr/local/lib/python3.7/dist-packages (from requests-oauthlib>=0.7.0->google-auth-oauthlib<0.5,>=0.4.1->tensorboard<2.9,>=2.8->tensorflow!=2.0.*,!=2.1.*,!=2.2.*,!=2.3.*,!=2.4.*,!=2.5.*,!=2.6.*,!=2.7.*,<3,>=1.15.5->tensorflow_data_validation[visualization]<2) (3.2.0)\n",
            "\u001b[33mWARNING: Running pip as the 'root' user can result in broken permissions and conflicting behaviour with the system package manager. It is recommended to use a virtual environment instead: https://pip.pypa.io/warnings/venv\u001b[0m\u001b[33m\n",
            "\u001b[0m"
          ]
        }
      ]
    },
    {
      "cell_type": "code",
      "source": [
        "import tensorflow as tf\n",
        "import tensorflow_data_validation as tfdv\n",
        "print('TF version:', tf.__version__)\n",
        "print('TFDV version:', tfdv.version.__version__)"
      ],
      "metadata": {
        "colab": {
          "base_uri": "https://localhost:8080/",
          "height": 0
        },
        "id": "gqbGS9RzH8G2",
        "outputId": "ebbe7da3-b993-4052-c2d9-05ab552d0874"
      },
      "execution_count": 18,
      "outputs": [
        {
          "output_type": "stream",
          "name": "stdout",
          "text": [
            "TF version: 2.8.2\n",
            "TFDV version: 1.8.0\n"
          ]
        }
      ]
    },
    {
      "cell_type": "code",
      "source": [
        "import pkg_resources\n",
        "import importlib\n",
        "importlib.reload(pkg_resources)"
      ],
      "metadata": {
        "colab": {
          "base_uri": "https://localhost:8080/",
          "height": 0
        },
        "id": "VZpPa0LbICu3",
        "outputId": "7d5f7270-c1b1-41b5-b153-275cc8c51f97"
      },
      "execution_count": 19,
      "outputs": [
        {
          "output_type": "execute_result",
          "data": {
            "text/plain": [
              "<module 'pkg_resources' from '/usr/local/lib/python3.7/dist-packages/pkg_resources/__init__.py'>"
            ]
          },
          "metadata": {},
          "execution_count": 19
        }
      ]
    },
    {
      "cell_type": "markdown",
      "source": [
        "**Step 9**\n",
        "\n",
        "**Error Analysis**: After visualizing the statistics, the errors are mostly because of missing values and the percentage of zeroes in the protected field, such as gender. However, it's a categorical field, where 0 represents a type of gender. All of which are fixed by re-iterating in step 3."
      ],
      "metadata": {
        "id": "JVIng2HsKe_c"
      }
    },
    {
      "cell_type": "code",
      "source": [
        "stats = tfdv.generate_statistics_from_csv('train.csv')"
      ],
      "metadata": {
        "id": "Eih_ys5oIH41",
        "colab": {
          "base_uri": "https://localhost:8080/",
          "height": 233
        },
        "outputId": "8c3a9b70-f857-40d6-991c-1c945477338c"
      },
      "execution_count": 20,
      "outputs": [
        {
          "output_type": "stream",
          "name": "stderr",
          "text": [
            "WARNING:apache_beam.runners.interactive.interactive_environment:Dependencies required for Interactive Beam PCollection visualization are not available, please use: `pip install apache-beam[interactive]` to install necessary dependencies to enable all data visualization features.\n"
          ]
        },
        {
          "output_type": "display_data",
          "data": {
            "application/javascript": [
              "\n",
              "        if (typeof window.interactive_beam_jquery == 'undefined') {\n",
              "          var jqueryScript = document.createElement('script');\n",
              "          jqueryScript.src = 'https://code.jquery.com/jquery-3.4.1.slim.min.js';\n",
              "          jqueryScript.type = 'text/javascript';\n",
              "          jqueryScript.onload = function() {\n",
              "            var datatableScript = document.createElement('script');\n",
              "            datatableScript.src = 'https://cdn.datatables.net/1.10.20/js/jquery.dataTables.min.js';\n",
              "            datatableScript.type = 'text/javascript';\n",
              "            datatableScript.onload = function() {\n",
              "              window.interactive_beam_jquery = jQuery.noConflict(true);\n",
              "              window.interactive_beam_jquery(document).ready(function($){\n",
              "                \n",
              "              });\n",
              "            }\n",
              "            document.head.appendChild(datatableScript);\n",
              "          };\n",
              "          document.head.appendChild(jqueryScript);\n",
              "        } else {\n",
              "          window.interactive_beam_jquery(document).ready(function($){\n",
              "            \n",
              "          });\n",
              "        }"
            ]
          },
          "metadata": {}
        },
        {
          "output_type": "stream",
          "name": "stderr",
          "text": [
            "WARNING:root:Make sure that locally built Python SDK docker image has Python 3.7 interpreter.\n",
            "WARNING:apache_beam.io.tfrecordio:Couldn't find python-snappy so the implementation of _TFRecordUtil._masked_crc32c is not as fast as it could be.\n"
          ]
        },
        {
          "output_type": "stream",
          "name": "stdout",
          "text": [
            "WARNING:tensorflow:From /usr/local/lib/python3.7/dist-packages/tensorflow_data_validation/utils/statistics_io_impl.py:100: tf_record_iterator (from tensorflow.python.lib.io.tf_record) is deprecated and will be removed in a future version.\n",
            "Instructions for updating:\n",
            "Use eager execution and: \n",
            "`tf.data.TFRecordDataset(path)`\n"
          ]
        },
        {
          "output_type": "stream",
          "name": "stderr",
          "text": [
            "WARNING:tensorflow:From /usr/local/lib/python3.7/dist-packages/tensorflow_data_validation/utils/statistics_io_impl.py:100: tf_record_iterator (from tensorflow.python.lib.io.tf_record) is deprecated and will be removed in a future version.\n",
            "Instructions for updating:\n",
            "Use eager execution and: \n",
            "`tf.data.TFRecordDataset(path)`\n"
          ]
        }
      ]
    },
    {
      "cell_type": "code",
      "source": [
        "tfdv.visualize_statistics(stats)"
      ],
      "metadata": {
        "colab": {
          "base_uri": "https://localhost:8080/",
          "height": 1722
        },
        "id": "kh6S8_HTIJfp",
        "outputId": "822fab3e-2c49-4d01-cb57-d5a34f6aa6e6"
      },
      "execution_count": 21,
      "outputs": [
        {
          "output_type": "display_data",
          "data": {
            "text/plain": [
              "<IPython.core.display.HTML object>"
            ],
            "text/html": [
              "<iframe id='facets-iframe' width=\"100%\" height=\"500px\"></iframe>\n",
              "        <script>\n",
              "        facets_iframe = document.getElementById('facets-iframe');\n",
              "        facets_html = '<script src=\"https://cdnjs.cloudflare.com/ajax/libs/webcomponentsjs/1.3.3/webcomponents-lite.js\"><\\/script><link rel=\"import\" href=\"https://raw.githubusercontent.com/PAIR-code/facets/master/facets-dist/facets-jupyter.html\"><facets-overview proto-input=\"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\"></facets-overview>';\n",
              "        facets_iframe.srcdoc = facets_html;\n",
              "         facets_iframe.id = \"\";\n",
              "         setTimeout(() => {\n",
              "           facets_iframe.setAttribute('height', facets_iframe.contentWindow.document.body.offsetHeight + 'px')\n",
              "         }, 1500)\n",
              "         </script>"
            ]
          },
          "metadata": {}
        }
      ]
    },
    {
      "cell_type": "code",
      "source": [
        "schema = tfdv.infer_schema(statistics=stats)\n",
        "tfdv.display_schema(schema=schema)"
      ],
      "metadata": {
        "colab": {
          "base_uri": "https://localhost:8080/",
          "height": 789
        },
        "id": "2chNCY4VI1Wk",
        "outputId": "844f6964-2523-4f04-f3c0-8de5e763befc"
      },
      "execution_count": 22,
      "outputs": [
        {
          "output_type": "display_data",
          "data": {
            "text/plain": [
              "                               Type  Presence Valency                  Domain\n",
              "Feature name                                                                 \n",
              "'Item_Identifier'             BYTES  required                               -\n",
              "'Item_Weight'                 FLOAT  optional  single                       -\n",
              "'Item_Fat_Content'           STRING  required              'Item_Fat_Content'\n",
              "'Item_Visibility'             FLOAT  required                               -\n",
              "'Item_Type'                  STRING  required                     'Item_Type'\n",
              "'Item_MRP'                    FLOAT  required                               -\n",
              "'Outlet_Identifier'          STRING  required             'Outlet_Identifier'\n",
              "'Outlet_Establishment_Year'     INT  required                               -\n",
              "'Outlet_Size'                STRING  optional  single           'Outlet_Size'\n",
              "'Outlet_Location_Type'       STRING  required          'Outlet_Location_Type'\n",
              "'Outlet_Type'                STRING  required                   'Outlet_Type'\n",
              "'Item_Outlet_Sales'           FLOAT  required                               -\n",
              "'Consumer_Age'                  INT  required                               -\n",
              "'Consumer_Gender'               INT  required                               -"
            ],
            "text/html": [
              "\n",
              "  <div id=\"df-9bf9f6cb-f365-413d-9701-197a7ce79c46\">\n",
              "    <div class=\"colab-df-container\">\n",
              "      <div>\n",
              "<style scoped>\n",
              "    .dataframe tbody tr th:only-of-type {\n",
              "        vertical-align: middle;\n",
              "    }\n",
              "\n",
              "    .dataframe tbody tr th {\n",
              "        vertical-align: top;\n",
              "    }\n",
              "\n",
              "    .dataframe thead th {\n",
              "        text-align: right;\n",
              "    }\n",
              "</style>\n",
              "<table border=\"1\" class=\"dataframe\">\n",
              "  <thead>\n",
              "    <tr style=\"text-align: right;\">\n",
              "      <th></th>\n",
              "      <th>Type</th>\n",
              "      <th>Presence</th>\n",
              "      <th>Valency</th>\n",
              "      <th>Domain</th>\n",
              "    </tr>\n",
              "    <tr>\n",
              "      <th>Feature name</th>\n",
              "      <th></th>\n",
              "      <th></th>\n",
              "      <th></th>\n",
              "      <th></th>\n",
              "    </tr>\n",
              "  </thead>\n",
              "  <tbody>\n",
              "    <tr>\n",
              "      <th>'Item_Identifier'</th>\n",
              "      <td>BYTES</td>\n",
              "      <td>required</td>\n",
              "      <td></td>\n",
              "      <td>-</td>\n",
              "    </tr>\n",
              "    <tr>\n",
              "      <th>'Item_Weight'</th>\n",
              "      <td>FLOAT</td>\n",
              "      <td>optional</td>\n",
              "      <td>single</td>\n",
              "      <td>-</td>\n",
              "    </tr>\n",
              "    <tr>\n",
              "      <th>'Item_Fat_Content'</th>\n",
              "      <td>STRING</td>\n",
              "      <td>required</td>\n",
              "      <td></td>\n",
              "      <td>'Item_Fat_Content'</td>\n",
              "    </tr>\n",
              "    <tr>\n",
              "      <th>'Item_Visibility'</th>\n",
              "      <td>FLOAT</td>\n",
              "      <td>required</td>\n",
              "      <td></td>\n",
              "      <td>-</td>\n",
              "    </tr>\n",
              "    <tr>\n",
              "      <th>'Item_Type'</th>\n",
              "      <td>STRING</td>\n",
              "      <td>required</td>\n",
              "      <td></td>\n",
              "      <td>'Item_Type'</td>\n",
              "    </tr>\n",
              "    <tr>\n",
              "      <th>'Item_MRP'</th>\n",
              "      <td>FLOAT</td>\n",
              "      <td>required</td>\n",
              "      <td></td>\n",
              "      <td>-</td>\n",
              "    </tr>\n",
              "    <tr>\n",
              "      <th>'Outlet_Identifier'</th>\n",
              "      <td>STRING</td>\n",
              "      <td>required</td>\n",
              "      <td></td>\n",
              "      <td>'Outlet_Identifier'</td>\n",
              "    </tr>\n",
              "    <tr>\n",
              "      <th>'Outlet_Establishment_Year'</th>\n",
              "      <td>INT</td>\n",
              "      <td>required</td>\n",
              "      <td></td>\n",
              "      <td>-</td>\n",
              "    </tr>\n",
              "    <tr>\n",
              "      <th>'Outlet_Size'</th>\n",
              "      <td>STRING</td>\n",
              "      <td>optional</td>\n",
              "      <td>single</td>\n",
              "      <td>'Outlet_Size'</td>\n",
              "    </tr>\n",
              "    <tr>\n",
              "      <th>'Outlet_Location_Type'</th>\n",
              "      <td>STRING</td>\n",
              "      <td>required</td>\n",
              "      <td></td>\n",
              "      <td>'Outlet_Location_Type'</td>\n",
              "    </tr>\n",
              "    <tr>\n",
              "      <th>'Outlet_Type'</th>\n",
              "      <td>STRING</td>\n",
              "      <td>required</td>\n",
              "      <td></td>\n",
              "      <td>'Outlet_Type'</td>\n",
              "    </tr>\n",
              "    <tr>\n",
              "      <th>'Item_Outlet_Sales'</th>\n",
              "      <td>FLOAT</td>\n",
              "      <td>required</td>\n",
              "      <td></td>\n",
              "      <td>-</td>\n",
              "    </tr>\n",
              "    <tr>\n",
              "      <th>'Consumer_Age'</th>\n",
              "      <td>INT</td>\n",
              "      <td>required</td>\n",
              "      <td></td>\n",
              "      <td>-</td>\n",
              "    </tr>\n",
              "    <tr>\n",
              "      <th>'Consumer_Gender'</th>\n",
              "      <td>INT</td>\n",
              "      <td>required</td>\n",
              "      <td></td>\n",
              "      <td>-</td>\n",
              "    </tr>\n",
              "  </tbody>\n",
              "</table>\n",
              "</div>\n",
              "      <button class=\"colab-df-convert\" onclick=\"convertToInteractive('df-9bf9f6cb-f365-413d-9701-197a7ce79c46')\"\n",
              "              title=\"Convert this dataframe to an interactive table.\"\n",
              "              style=\"display:none;\">\n",
              "        \n",
              "  <svg xmlns=\"http://www.w3.org/2000/svg\" height=\"24px\"viewBox=\"0 0 24 24\"\n",
              "       width=\"24px\">\n",
              "    <path d=\"M0 0h24v24H0V0z\" fill=\"none\"/>\n",
              "    <path d=\"M18.56 5.44l.94 2.06.94-2.06 2.06-.94-2.06-.94-.94-2.06-.94 2.06-2.06.94zm-11 1L8.5 8.5l.94-2.06 2.06-.94-2.06-.94L8.5 2.5l-.94 2.06-2.06.94zm10 10l.94 2.06.94-2.06 2.06-.94-2.06-.94-.94-2.06-.94 2.06-2.06.94z\"/><path d=\"M17.41 7.96l-1.37-1.37c-.4-.4-.92-.59-1.43-.59-.52 0-1.04.2-1.43.59L10.3 9.45l-7.72 7.72c-.78.78-.78 2.05 0 2.83L4 21.41c.39.39.9.59 1.41.59.51 0 1.02-.2 1.41-.59l7.78-7.78 2.81-2.81c.8-.78.8-2.07 0-2.86zM5.41 20L4 18.59l7.72-7.72 1.47 1.35L5.41 20z\"/>\n",
              "  </svg>\n",
              "      </button>\n",
              "      \n",
              "  <style>\n",
              "    .colab-df-container {\n",
              "      display:flex;\n",
              "      flex-wrap:wrap;\n",
              "      gap: 12px;\n",
              "    }\n",
              "\n",
              "    .colab-df-convert {\n",
              "      background-color: #E8F0FE;\n",
              "      border: none;\n",
              "      border-radius: 50%;\n",
              "      cursor: pointer;\n",
              "      display: none;\n",
              "      fill: #1967D2;\n",
              "      height: 32px;\n",
              "      padding: 0 0 0 0;\n",
              "      width: 32px;\n",
              "    }\n",
              "\n",
              "    .colab-df-convert:hover {\n",
              "      background-color: #E2EBFA;\n",
              "      box-shadow: 0px 1px 2px rgba(60, 64, 67, 0.3), 0px 1px 3px 1px rgba(60, 64, 67, 0.15);\n",
              "      fill: #174EA6;\n",
              "    }\n",
              "\n",
              "    [theme=dark] .colab-df-convert {\n",
              "      background-color: #3B4455;\n",
              "      fill: #D2E3FC;\n",
              "    }\n",
              "\n",
              "    [theme=dark] .colab-df-convert:hover {\n",
              "      background-color: #434B5C;\n",
              "      box-shadow: 0px 1px 3px 1px rgba(0, 0, 0, 0.15);\n",
              "      filter: drop-shadow(0px 1px 2px rgba(0, 0, 0, 0.3));\n",
              "      fill: #FFFFFF;\n",
              "    }\n",
              "  </style>\n",
              "\n",
              "      <script>\n",
              "        const buttonEl =\n",
              "          document.querySelector('#df-9bf9f6cb-f365-413d-9701-197a7ce79c46 button.colab-df-convert');\n",
              "        buttonEl.style.display =\n",
              "          google.colab.kernel.accessAllowed ? 'block' : 'none';\n",
              "\n",
              "        async function convertToInteractive(key) {\n",
              "          const element = document.querySelector('#df-9bf9f6cb-f365-413d-9701-197a7ce79c46');\n",
              "          const dataTable =\n",
              "            await google.colab.kernel.invokeFunction('convertToInteractive',\n",
              "                                                     [key], {});\n",
              "          if (!dataTable) return;\n",
              "\n",
              "          const docLinkHtml = 'Like what you see? Visit the ' +\n",
              "            '<a target=\"_blank\" href=https://colab.research.google.com/notebooks/data_table.ipynb>data table notebook</a>'\n",
              "            + ' to learn more about interactive tables.';\n",
              "          element.innerHTML = '';\n",
              "          dataTable['output_type'] = 'display_data';\n",
              "          await google.colab.output.renderOutput(dataTable, element);\n",
              "          const docLink = document.createElement('div');\n",
              "          docLink.innerHTML = docLinkHtml;\n",
              "          element.appendChild(docLink);\n",
              "        }\n",
              "      </script>\n",
              "    </div>\n",
              "  </div>\n",
              "  "
            ]
          },
          "metadata": {}
        },
        {
          "output_type": "display_data",
          "data": {
            "text/plain": [
              "                                                                                                                                                                                                                                                 Values\n",
              "Domain                                                                                                                                                                                                                                                 \n",
              "'Item_Fat_Content'                                                                                                                                                                                         'LF', 'Low Fat', 'Regular', 'low fat', 'reg'\n",
              "'Item_Type'             'Baking Goods', 'Breads', 'Breakfast', 'Canned', 'Dairy', 'Frozen Foods', 'Fruits and Vegetables', 'Hard Drinks', 'Health and Hygiene', 'Household', 'Meat', 'Others', 'Seafood', 'Snack Foods', 'Soft Drinks', 'Starchy Foods'\n",
              "'Outlet_Identifier'                                                                                                                                  'OUT010', 'OUT013', 'OUT017', 'OUT018', 'OUT019', 'OUT027', 'OUT035', 'OUT045', 'OUT046', 'OUT049'\n",
              "'Outlet_Size'                                                                                                                                                                                                                 'High', 'Medium', 'Small'\n",
              "'Outlet_Location_Type'                                                                                                                                                                                                     'Tier 1', 'Tier 2', 'Tier 3'\n",
              "'Outlet_Type'                                                                                                                                                            'Grocery Store', 'Supermarket Type1', 'Supermarket Type2', 'Supermarket Type3'"
            ],
            "text/html": [
              "\n",
              "  <div id=\"df-0a87c82f-0ebc-47aa-bbc3-b7383bebc422\">\n",
              "    <div class=\"colab-df-container\">\n",
              "      <div>\n",
              "<style scoped>\n",
              "    .dataframe tbody tr th:only-of-type {\n",
              "        vertical-align: middle;\n",
              "    }\n",
              "\n",
              "    .dataframe tbody tr th {\n",
              "        vertical-align: top;\n",
              "    }\n",
              "\n",
              "    .dataframe thead th {\n",
              "        text-align: right;\n",
              "    }\n",
              "</style>\n",
              "<table border=\"1\" class=\"dataframe\">\n",
              "  <thead>\n",
              "    <tr style=\"text-align: right;\">\n",
              "      <th></th>\n",
              "      <th>Values</th>\n",
              "    </tr>\n",
              "    <tr>\n",
              "      <th>Domain</th>\n",
              "      <th></th>\n",
              "    </tr>\n",
              "  </thead>\n",
              "  <tbody>\n",
              "    <tr>\n",
              "      <th>'Item_Fat_Content'</th>\n",
              "      <td>'LF', 'Low Fat', 'Regular', 'low fat', 'reg'</td>\n",
              "    </tr>\n",
              "    <tr>\n",
              "      <th>'Item_Type'</th>\n",
              "      <td>'Baking Goods', 'Breads', 'Breakfast', 'Canned', 'Dairy', 'Frozen Foods', 'Fruits and Vegetables', 'Hard Drinks', 'Health and Hygiene', 'Household', 'Meat', 'Others', 'Seafood', 'Snack Foods', 'Soft Drinks', 'Starchy Foods'</td>\n",
              "    </tr>\n",
              "    <tr>\n",
              "      <th>'Outlet_Identifier'</th>\n",
              "      <td>'OUT010', 'OUT013', 'OUT017', 'OUT018', 'OUT019', 'OUT027', 'OUT035', 'OUT045', 'OUT046', 'OUT049'</td>\n",
              "    </tr>\n",
              "    <tr>\n",
              "      <th>'Outlet_Size'</th>\n",
              "      <td>'High', 'Medium', 'Small'</td>\n",
              "    </tr>\n",
              "    <tr>\n",
              "      <th>'Outlet_Location_Type'</th>\n",
              "      <td>'Tier 1', 'Tier 2', 'Tier 3'</td>\n",
              "    </tr>\n",
              "    <tr>\n",
              "      <th>'Outlet_Type'</th>\n",
              "      <td>'Grocery Store', 'Supermarket Type1', 'Supermarket Type2', 'Supermarket Type3'</td>\n",
              "    </tr>\n",
              "  </tbody>\n",
              "</table>\n",
              "</div>\n",
              "      <button class=\"colab-df-convert\" onclick=\"convertToInteractive('df-0a87c82f-0ebc-47aa-bbc3-b7383bebc422')\"\n",
              "              title=\"Convert this dataframe to an interactive table.\"\n",
              "              style=\"display:none;\">\n",
              "        \n",
              "  <svg xmlns=\"http://www.w3.org/2000/svg\" height=\"24px\"viewBox=\"0 0 24 24\"\n",
              "       width=\"24px\">\n",
              "    <path d=\"M0 0h24v24H0V0z\" fill=\"none\"/>\n",
              "    <path d=\"M18.56 5.44l.94 2.06.94-2.06 2.06-.94-2.06-.94-.94-2.06-.94 2.06-2.06.94zm-11 1L8.5 8.5l.94-2.06 2.06-.94-2.06-.94L8.5 2.5l-.94 2.06-2.06.94zm10 10l.94 2.06.94-2.06 2.06-.94-2.06-.94-.94-2.06-.94 2.06-2.06.94z\"/><path d=\"M17.41 7.96l-1.37-1.37c-.4-.4-.92-.59-1.43-.59-.52 0-1.04.2-1.43.59L10.3 9.45l-7.72 7.72c-.78.78-.78 2.05 0 2.83L4 21.41c.39.39.9.59 1.41.59.51 0 1.02-.2 1.41-.59l7.78-7.78 2.81-2.81c.8-.78.8-2.07 0-2.86zM5.41 20L4 18.59l7.72-7.72 1.47 1.35L5.41 20z\"/>\n",
              "  </svg>\n",
              "      </button>\n",
              "      \n",
              "  <style>\n",
              "    .colab-df-container {\n",
              "      display:flex;\n",
              "      flex-wrap:wrap;\n",
              "      gap: 12px;\n",
              "    }\n",
              "\n",
              "    .colab-df-convert {\n",
              "      background-color: #E8F0FE;\n",
              "      border: none;\n",
              "      border-radius: 50%;\n",
              "      cursor: pointer;\n",
              "      display: none;\n",
              "      fill: #1967D2;\n",
              "      height: 32px;\n",
              "      padding: 0 0 0 0;\n",
              "      width: 32px;\n",
              "    }\n",
              "\n",
              "    .colab-df-convert:hover {\n",
              "      background-color: #E2EBFA;\n",
              "      box-shadow: 0px 1px 2px rgba(60, 64, 67, 0.3), 0px 1px 3px 1px rgba(60, 64, 67, 0.15);\n",
              "      fill: #174EA6;\n",
              "    }\n",
              "\n",
              "    [theme=dark] .colab-df-convert {\n",
              "      background-color: #3B4455;\n",
              "      fill: #D2E3FC;\n",
              "    }\n",
              "\n",
              "    [theme=dark] .colab-df-convert:hover {\n",
              "      background-color: #434B5C;\n",
              "      box-shadow: 0px 1px 3px 1px rgba(0, 0, 0, 0.15);\n",
              "      filter: drop-shadow(0px 1px 2px rgba(0, 0, 0, 0.3));\n",
              "      fill: #FFFFFF;\n",
              "    }\n",
              "  </style>\n",
              "\n",
              "      <script>\n",
              "        const buttonEl =\n",
              "          document.querySelector('#df-0a87c82f-0ebc-47aa-bbc3-b7383bebc422 button.colab-df-convert');\n",
              "        buttonEl.style.display =\n",
              "          google.colab.kernel.accessAllowed ? 'block' : 'none';\n",
              "\n",
              "        async function convertToInteractive(key) {\n",
              "          const element = document.querySelector('#df-0a87c82f-0ebc-47aa-bbc3-b7383bebc422');\n",
              "          const dataTable =\n",
              "            await google.colab.kernel.invokeFunction('convertToInteractive',\n",
              "                                                     [key], {});\n",
              "          if (!dataTable) return;\n",
              "\n",
              "          const docLinkHtml = 'Like what you see? Visit the ' +\n",
              "            '<a target=\"_blank\" href=https://colab.research.google.com/notebooks/data_table.ipynb>data table notebook</a>'\n",
              "            + ' to learn more about interactive tables.';\n",
              "          element.innerHTML = '';\n",
              "          dataTable['output_type'] = 'display_data';\n",
              "          await google.colab.output.renderOutput(dataTable, element);\n",
              "          const docLink = document.createElement('div');\n",
              "          docLink.innerHTML = docLinkHtml;\n",
              "          element.appendChild(docLink);\n",
              "        }\n",
              "      </script>\n",
              "    </div>\n",
              "  </div>\n",
              "  "
            ]
          },
          "metadata": {}
        }
      ]
    },
    {
      "cell_type": "markdown",
      "source": [
        "**Step 10**\n",
        "\n",
        "Using the random forest model, the age topped the feature importance, and the gender topped among the categorical variables leading to an accuracy of ~58% with a higher RMSE (steps 3 and 4). Not to mention, it has a high correlation with the item_type_household binary encoder."
      ],
      "metadata": {
        "id": "gkqoVOItSqqL"
      }
    },
    {
      "cell_type": "code",
      "source": [
        "anomalies = tfdv.validate_statistics(statistics=stats, schema=schema)\n",
        "tfdv.display_anomalies(anomalies)"
      ],
      "metadata": {
        "colab": {
          "base_uri": "https://localhost:8080/",
          "height": 57
        },
        "id": "0HpVEtfJI71c",
        "outputId": "b809a700-15c5-4365-def6-60d4f7d66b79"
      },
      "execution_count": 23,
      "outputs": [
        {
          "output_type": "display_data",
          "data": {
            "text/plain": [
              "<IPython.core.display.HTML object>"
            ],
            "text/html": [
              "<h4 style=\"color:green;\">No anomalies found.</h4>"
            ]
          },
          "metadata": {}
        }
      ]
    },
    {
      "cell_type": "markdown",
      "source": [
        "**Step 11**\n",
        "\n",
        "A pipeline with all the above considerations:\n",
        "* Get outlet binary columns\n",
        "* Pre-processing:\n",
        "  * Drop columns\n",
        "  * Fill missing values\n",
        "  * Scale and Normalize the data\n",
        "* Train the random forest model"
      ],
      "metadata": {
        "id": "ZcU99T1ToIW-"
      }
    },
    {
      "cell_type": "code",
      "execution_count": 24,
      "metadata": {
        "id": "8nKZmwGmZ--O"
      },
      "outputs": [],
      "source": [
        "# Imports\n",
        "import pandas as pd\n",
        "from sklearn.compose import ColumnTransformer \n",
        "from sklearn.impute import SimpleImputer\n",
        "import category_encoders as ce\n",
        "from sklearn.preprocessing import StandardScaler\n",
        "from sklearn.ensemble import RandomForestRegressor\n",
        "from sklearn.pipeline import Pipeline"
      ]
    },
    {
      "cell_type": "code",
      "source": [
        "# Training dataset\n",
        "data = pd.read_csv('train.csv')"
      ],
      "metadata": {
        "id": "BuN5KgCnaVw6"
      },
      "execution_count": 25,
      "outputs": []
    },
    {
      "cell_type": "code",
      "source": [
        "# Seperate features and target variable(s)\n",
        "train_x = data.drop(columns=['Item_Outlet_Sales'])\n",
        "train_y = data['Item_Outlet_Sales']"
      ],
      "metadata": {
        "id": "JJkmJVNOcjx7"
      },
      "execution_count": 26,
      "outputs": []
    },
    {
      "cell_type": "code",
      "source": [
        "from sklearn.base import BaseEstimator\n",
        "\n",
        "# Binary Columns\n",
        "class OutletTypeEncoder(BaseEstimator):\n",
        "\n",
        "    def __init__(self):\n",
        "        pass\n",
        "\n",
        "    def fit(self, documents, y=None):\n",
        "        return self\n",
        "\n",
        "    def transform(self, x_dataset):\n",
        "        x_dataset['outlet_grocery_store'] = (x_dataset['Outlet_Type'] == 'Grocery Store')*1\n",
        "        x_dataset['outlet_supermarket_3'] = (x_dataset['Outlet_Type'] == 'Supermarket Type3')*1\n",
        "        x_dataset['outlet_identifier_OUT027'] = (x_dataset['Outlet_Identifier'] == 'OUT027')*1\n",
        "        \n",
        "        return x_dataset"
      ],
      "metadata": {
        "id": "GTgBIf0KnfkR"
      },
      "execution_count": 27,
      "outputs": []
    },
    {
      "cell_type": "code",
      "source": [
        "# Pre-processing (Dropping Columns, Fill missing values, Normalize/Scale)\n",
        "pre_process = ColumnTransformer(remainder='passthrough',\n",
        "                                transformers=[('drop_columns', 'drop', ['Item_Identifier',\n",
        "                                                                        'Outlet_Identifier',\n",
        "                                                                        'Item_Fat_Content',\n",
        "                                                                        'Item_Type',\n",
        "                                                                        'Outlet_Identifier',\n",
        "                                                                        'Outlet_Size',\n",
        "                                                                        'Outlet_Location_Type',\n",
        "                                                                        'Outlet_Type'\n",
        "                                                                       ]),\n",
        "                                              ('impute_item_weight', SimpleImputer(strategy='mean'), ['Item_Weight']),\n",
        "                                              ('scale_data', StandardScaler(),['Item_MRP'])])"
      ],
      "metadata": {
        "id": "9aOxvdnr42vU"
      },
      "execution_count": 28,
      "outputs": []
    },
    {
      "cell_type": "code",
      "source": [
        "# The pipeline: Get the outlet binary columns -> Pre process the dataset -> Train the Model\n",
        "model_pipeline = Pipeline(steps=[('get_outlet_binary_columns', OutletTypeEncoder()), \n",
        "                                 ('pre_processing', pre_process),\n",
        "                                 ('random_forest', RandomForestRegressor(max_depth=10,random_state=2))])\n",
        "model_pipeline.fit(train_x, train_y)\n",
        "model_pipeline.predict(train_x)"
      ],
      "metadata": {
        "colab": {
          "base_uri": "https://localhost:8080/",
          "height": 0
        },
        "id": "uzNbW9Ty4v3w",
        "outputId": "44771beb-ff27-435b-e458-0fa15ec55cb0"
      },
      "execution_count": 29,
      "outputs": [
        {
          "output_type": "execute_result",
          "data": {
            "text/plain": [
              "array([4302.07466053,  718.84833588, 2421.51217357, ..., 1294.21000972,\n",
              "       1576.77501635, 1060.05739944])"
            ]
          },
          "metadata": {},
          "execution_count": 29
        }
      ]
    },
    {
      "cell_type": "code",
      "source": [
        "# Read the test data and predict\n",
        "test_data = pd.read_csv('test.csv')\n",
        "model_pipeline.predict(test_data)"
      ],
      "metadata": {
        "colab": {
          "base_uri": "https://localhost:8080/",
          "height": 0
        },
        "id": "wp_SUpBL4NNJ",
        "outputId": "cf4db3b1-2184-4a41-e9c5-a2e0512785ae"
      },
      "execution_count": 30,
      "outputs": [
        {
          "output_type": "execute_result",
          "data": {
            "text/plain": [
              "array([1613.72433074, 1299.22057808,  677.77965441, ..., 1836.9299155 ,\n",
              "       3785.62174281, 1338.57242769])"
            ]
          },
          "metadata": {},
          "execution_count": 30
        }
      ]
    },
    {
      "cell_type": "code",
      "source": [
        "# Saving the model\n",
        "import pickle\n",
        "filename = 'output/finalized_model.sav'\n",
        "pickle.dump(model_pipeline, open(filename, 'wb'))"
      ],
      "metadata": {
        "id": "Irs_GqyjHEUP"
      },
      "execution_count": 32,
      "outputs": []
    },
    {
      "cell_type": "markdown",
      "source": [
        "**Step 12**\n",
        "\n",
        "* The memory and CPU utilization for pre-processing, building the model, and predicting can be tracked and monitored, which is an out-of-the-box feature while using cloud services; furthermore, based on the metrics, necessary resources can be allocated beforehand or scaled on demand.\n",
        "* The time taken for performing the above tasks can be measured programmatically by recording the time before and after execution, then determining the difference.\n",
        "* Lastly, the size of the dependencies can be monitored after downloading from the instance store, along with in-memory usage and heap usage."
      ],
      "metadata": {
        "id": "aarGTN1rSxsW"
      }
    }
  ]
}
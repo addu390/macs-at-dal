{
 "cells": [
  {
   "cell_type": "code",
   "execution_count": 1,
   "metadata": {
    "id": "ns6tYPleyw05"
   },
   "outputs": [
    {
     "ename": "ModuleNotFoundError",
     "evalue": "No module named 'tensorflow'",
     "output_type": "error",
     "traceback": [
      "\u001b[0;31m---------------------------------------------------------------------------\u001b[0m",
      "\u001b[0;31mModuleNotFoundError\u001b[0m                       Traceback (most recent call last)",
      "Input \u001b[0;32mIn [1]\u001b[0m, in \u001b[0;36m<cell line: 3>\u001b[0;34m()\u001b[0m\n\u001b[1;32m      1\u001b[0m \u001b[38;5;28;01mimport\u001b[39;00m \u001b[38;5;21;01mnumpy\u001b[39;00m \u001b[38;5;28;01mas\u001b[39;00m \u001b[38;5;21;01mnp\u001b[39;00m\n\u001b[1;32m      2\u001b[0m \u001b[38;5;28;01mimport\u001b[39;00m \u001b[38;5;21;01mpandas\u001b[39;00m \u001b[38;5;28;01mas\u001b[39;00m \u001b[38;5;21;01mpd\u001b[39;00m\n\u001b[0;32m----> 3\u001b[0m \u001b[38;5;28;01mimport\u001b[39;00m \u001b[38;5;21;01mtensorflow\u001b[39;00m \u001b[38;5;28;01mas\u001b[39;00m \u001b[38;5;21;01mtf\u001b[39;00m\n\u001b[1;32m      4\u001b[0m \u001b[38;5;28;01mfrom\u001b[39;00m \u001b[38;5;21;01mtensorflow\u001b[39;00m\u001b[38;5;21;01m.\u001b[39;00m\u001b[38;5;21;01mkeras\u001b[39;00m \u001b[38;5;28;01mimport\u001b[39;00m layers\n\u001b[1;32m      5\u001b[0m \u001b[38;5;28;01mfrom\u001b[39;00m \u001b[38;5;21;01mmatplotlib\u001b[39;00m \u001b[38;5;28;01mimport\u001b[39;00m pyplot \u001b[38;5;28;01mas\u001b[39;00m plt\n",
      "\u001b[0;31mModuleNotFoundError\u001b[0m: No module named 'tensorflow'"
     ]
    }
   ],
   "source": [
    "\n",
    "import numpy as np\n",
    "import pandas as pd\n",
    "import tensorflow as tf\n",
    "from tensorflow.keras import layers\n",
    "from matplotlib import pyplot as plt\n",
    "\n",
    "pd.options.display.max_rows = 10\n",
    "pd.options.display.float_format = \"{:.1f}\".format\n",
    "np.set_printoptions(linewidth = 200)"
   ]
  },
  {
   "cell_type": "code",
   "execution_count": 2,
   "metadata": {
    "colab": {
     "base_uri": "https://localhost:8080/"
    },
    "id": "VhotDkOHy65_",
    "outputId": "70ef5cf4-2c3e-4083-fc96-789a56a01b59"
   },
   "outputs": [
    {
     "name": "stdout",
     "output_type": "stream",
     "text": [
      "Downloading data from https://storage.googleapis.com/tensorflow/tf-keras-datasets/mnist.npz\n",
      "11493376/11490434 [==============================] - 0s 0us/step\n",
      "11501568/11490434 [==============================] - 0s 0us/step\n"
     ]
    }
   ],
   "source": [
    "(x_train, y_train),(x_test, y_test) = tf.keras.datasets.mnist.load_data()"
   ]
  },
  {
   "cell_type": "code",
   "execution_count": 3,
   "metadata": {
    "id": "_HkwYxs8zWlq"
   },
   "outputs": [],
   "source": [
    "x_train_normalized = x_train / 255.0\n",
    "x_test_normalized = x_test / 255.0\n"
   ]
  },
  {
   "cell_type": "code",
   "execution_count": 4,
   "metadata": {
    "id": "57mBTPNQzbui"
   },
   "outputs": [],
   "source": [
    "\n",
    "def plot_curve(epochs, hist, list_of_metrics):\n",
    "  plt.figure()\n",
    "  plt.xlabel(\"Epoch\")\n",
    "  plt.ylabel(\"Value\")\n",
    "\n",
    "  for m in list_of_metrics:\n",
    "    x = hist[m]\n",
    "    plt.plot(epochs[1:], x[1:], label=m)\n",
    "\n",
    "  plt.legend()\n",
    "\n"
   ]
  },
  {
   "cell_type": "code",
   "execution_count": 5,
   "metadata": {
    "id": "dajwYo2Dzgmu"
   },
   "outputs": [],
   "source": [
    "def create_model(my_learning_rate):\n",
    "  \n",
    "  model = tf.keras.models.Sequential()\n",
    "  model.add(tf.keras.layers.Flatten(input_shape=(28, 28)))\n",
    "  model.add(tf.keras.layers.Dense(units=32, activation='relu'))\n",
    "  model.add(tf.keras.layers.Dropout(rate=0.2))\n",
    "  model.add(tf.keras.layers.Dense(units=10, activation='softmax'))     \n",
    "  model.compile(optimizer=tf.keras.optimizers.Adam(lr=my_learning_rate),\n",
    "                loss=\"sparse_categorical_crossentropy\",\n",
    "                metrics=['accuracy'])\n",
    "  return model    \n",
    "\n",
    "\n",
    "def train_model(model, train_features, train_label, epochs,\n",
    "                batch_size=None, validation_split=0.1):\n",
    "  history = model.fit(x=train_features, y=train_label, batch_size=batch_size,\n",
    "                      epochs=epochs, shuffle=True, \n",
    "                      validation_split=validation_split)\n",
    "  epochs = history.epoch\n",
    "  hist = pd.DataFrame(history.history)\n",
    "  return epochs, hist    "
   ]
  },
  {
   "cell_type": "code",
   "execution_count": 6,
   "metadata": {
    "colab": {
     "base_uri": "https://localhost:8080/",
     "height": 1000
    },
    "id": "wzh0PS3PzkLL",
    "outputId": "405abedb-70e0-406d-ea8a-29750ef41550"
   },
   "outputs": [
    {
     "name": "stderr",
     "output_type": "stream",
     "text": [
      "/usr/local/lib/python3.7/dist-packages/keras/optimizer_v2/adam.py:105: UserWarning: The `lr` argument is deprecated, use `learning_rate` instead.\n",
      "  super(Adam, self).__init__(name, **kwargs)\n"
     ]
    },
    {
     "name": "stdout",
     "output_type": "stream",
     "text": [
      "Epoch 1/50\n",
      "12/12 [==============================] - 2s 82ms/step - loss: 1.6882 - accuracy: 0.4680 - val_loss: 0.9609 - val_accuracy: 0.7641\n",
      "Epoch 2/50\n",
      "12/12 [==============================] - 1s 43ms/step - loss: 0.8839 - accuracy: 0.7364 - val_loss: 0.5280 - val_accuracy: 0.8613\n",
      "Epoch 3/50\n",
      "12/12 [==============================] - 1s 48ms/step - loss: 0.6181 - accuracy: 0.8131 - val_loss: 0.4039 - val_accuracy: 0.8917\n",
      "Epoch 4/50\n",
      "12/12 [==============================] - 0s 40ms/step - loss: 0.5040 - accuracy: 0.8525 - val_loss: 0.3460 - val_accuracy: 0.9045\n",
      "Epoch 5/50\n",
      "12/12 [==============================] - 0s 42ms/step - loss: 0.4480 - accuracy: 0.8698 - val_loss: 0.3116 - val_accuracy: 0.9152\n",
      "Epoch 6/50\n",
      "12/12 [==============================] - 1s 43ms/step - loss: 0.4068 - accuracy: 0.8818 - val_loss: 0.2883 - val_accuracy: 0.9231\n",
      "Epoch 7/50\n",
      "12/12 [==============================] - 1s 42ms/step - loss: 0.3831 - accuracy: 0.8891 - val_loss: 0.2692 - val_accuracy: 0.9283\n",
      "Epoch 8/50\n",
      "12/12 [==============================] - 0s 38ms/step - loss: 0.3599 - accuracy: 0.8959 - val_loss: 0.2540 - val_accuracy: 0.9311\n",
      "Epoch 9/50\n",
      "12/12 [==============================] - 1s 52ms/step - loss: 0.3426 - accuracy: 0.8996 - val_loss: 0.2429 - val_accuracy: 0.9342\n",
      "Epoch 10/50\n",
      "12/12 [==============================] - 0s 34ms/step - loss: 0.3294 - accuracy: 0.9054 - val_loss: 0.2339 - val_accuracy: 0.9380\n",
      "Epoch 11/50\n",
      "12/12 [==============================] - 1s 48ms/step - loss: 0.3154 - accuracy: 0.9070 - val_loss: 0.2248 - val_accuracy: 0.9402\n",
      "Epoch 12/50\n",
      "12/12 [==============================] - 1s 44ms/step - loss: 0.3055 - accuracy: 0.9103 - val_loss: 0.2173 - val_accuracy: 0.9427\n",
      "Epoch 13/50\n",
      "12/12 [==============================] - 0s 37ms/step - loss: 0.2947 - accuracy: 0.9134 - val_loss: 0.2106 - val_accuracy: 0.9447\n",
      "Epoch 14/50\n",
      "12/12 [==============================] - 0s 37ms/step - loss: 0.2903 - accuracy: 0.9153 - val_loss: 0.2054 - val_accuracy: 0.9453\n",
      "Epoch 15/50\n",
      "12/12 [==============================] - 0s 41ms/step - loss: 0.2786 - accuracy: 0.9184 - val_loss: 0.2003 - val_accuracy: 0.9468\n",
      "Epoch 16/50\n",
      "12/12 [==============================] - 0s 42ms/step - loss: 0.2706 - accuracy: 0.9199 - val_loss: 0.1972 - val_accuracy: 0.9478\n",
      "Epoch 17/50\n",
      "12/12 [==============================] - 0s 35ms/step - loss: 0.2659 - accuracy: 0.9208 - val_loss: 0.1927 - val_accuracy: 0.9489\n",
      "Epoch 18/50\n",
      "12/12 [==============================] - 0s 41ms/step - loss: 0.2598 - accuracy: 0.9231 - val_loss: 0.1882 - val_accuracy: 0.9492\n",
      "Epoch 19/50\n",
      "12/12 [==============================] - 1s 42ms/step - loss: 0.2544 - accuracy: 0.9252 - val_loss: 0.1854 - val_accuracy: 0.9503\n",
      "Epoch 20/50\n",
      "12/12 [==============================] - 0s 39ms/step - loss: 0.2495 - accuracy: 0.9262 - val_loss: 0.1822 - val_accuracy: 0.9513\n",
      "Epoch 21/50\n",
      "12/12 [==============================] - 0s 24ms/step - loss: 0.2454 - accuracy: 0.9273 - val_loss: 0.1797 - val_accuracy: 0.9509\n",
      "Epoch 22/50\n",
      "12/12 [==============================] - 0s 25ms/step - loss: 0.2416 - accuracy: 0.9288 - val_loss: 0.1771 - val_accuracy: 0.9514\n",
      "Epoch 23/50\n",
      "12/12 [==============================] - 0s 25ms/step - loss: 0.2378 - accuracy: 0.9302 - val_loss: 0.1768 - val_accuracy: 0.9521\n",
      "Epoch 24/50\n",
      "12/12 [==============================] - 0s 23ms/step - loss: 0.2332 - accuracy: 0.9322 - val_loss: 0.1738 - val_accuracy: 0.9532\n",
      "Epoch 25/50\n",
      "12/12 [==============================] - 0s 23ms/step - loss: 0.2275 - accuracy: 0.9318 - val_loss: 0.1708 - val_accuracy: 0.9540\n",
      "Epoch 26/50\n",
      "12/12 [==============================] - 0s 25ms/step - loss: 0.2271 - accuracy: 0.9332 - val_loss: 0.1690 - val_accuracy: 0.9540\n",
      "Epoch 27/50\n",
      "12/12 [==============================] - 0s 24ms/step - loss: 0.2231 - accuracy: 0.9329 - val_loss: 0.1670 - val_accuracy: 0.9554\n",
      "Epoch 28/50\n",
      "12/12 [==============================] - 0s 24ms/step - loss: 0.2195 - accuracy: 0.9347 - val_loss: 0.1656 - val_accuracy: 0.9548\n",
      "Epoch 29/50\n",
      "12/12 [==============================] - 0s 24ms/step - loss: 0.2158 - accuracy: 0.9349 - val_loss: 0.1646 - val_accuracy: 0.9559\n",
      "Epoch 30/50\n",
      "12/12 [==============================] - 0s 26ms/step - loss: 0.2140 - accuracy: 0.9345 - val_loss: 0.1629 - val_accuracy: 0.9555\n",
      "Epoch 31/50\n",
      "12/12 [==============================] - 0s 26ms/step - loss: 0.2125 - accuracy: 0.9366 - val_loss: 0.1619 - val_accuracy: 0.9557\n",
      "Epoch 32/50\n",
      "12/12 [==============================] - 0s 23ms/step - loss: 0.2076 - accuracy: 0.9374 - val_loss: 0.1598 - val_accuracy: 0.9562\n",
      "Epoch 33/50\n",
      "12/12 [==============================] - 0s 24ms/step - loss: 0.2065 - accuracy: 0.9377 - val_loss: 0.1603 - val_accuracy: 0.9548\n",
      "Epoch 34/50\n",
      "12/12 [==============================] - 0s 25ms/step - loss: 0.2047 - accuracy: 0.9389 - val_loss: 0.1579 - val_accuracy: 0.9563\n",
      "Epoch 35/50\n",
      "12/12 [==============================] - 0s 27ms/step - loss: 0.2025 - accuracy: 0.9408 - val_loss: 0.1573 - val_accuracy: 0.9568\n",
      "Epoch 36/50\n",
      "12/12 [==============================] - 0s 25ms/step - loss: 0.2034 - accuracy: 0.9387 - val_loss: 0.1563 - val_accuracy: 0.9575\n",
      "Epoch 37/50\n",
      "12/12 [==============================] - 0s 24ms/step - loss: 0.1961 - accuracy: 0.9425 - val_loss: 0.1545 - val_accuracy: 0.9570\n",
      "Epoch 38/50\n",
      "12/12 [==============================] - 0s 23ms/step - loss: 0.1978 - accuracy: 0.9408 - val_loss: 0.1541 - val_accuracy: 0.9569\n",
      "Epoch 39/50\n",
      "12/12 [==============================] - 0s 25ms/step - loss: 0.1923 - accuracy: 0.9416 - val_loss: 0.1526 - val_accuracy: 0.9581\n",
      "Epoch 40/50\n",
      "12/12 [==============================] - 0s 25ms/step - loss: 0.1948 - accuracy: 0.9404 - val_loss: 0.1526 - val_accuracy: 0.9571\n",
      "Epoch 41/50\n",
      "12/12 [==============================] - 0s 25ms/step - loss: 0.1887 - accuracy: 0.9420 - val_loss: 0.1521 - val_accuracy: 0.9576\n",
      "Epoch 42/50\n",
      "12/12 [==============================] - 0s 25ms/step - loss: 0.1900 - accuracy: 0.9430 - val_loss: 0.1516 - val_accuracy: 0.9571\n",
      "Epoch 43/50\n",
      "12/12 [==============================] - 0s 25ms/step - loss: 0.1879 - accuracy: 0.9420 - val_loss: 0.1510 - val_accuracy: 0.9572\n",
      "Epoch 44/50\n",
      "12/12 [==============================] - 0s 24ms/step - loss: 0.1884 - accuracy: 0.9431 - val_loss: 0.1510 - val_accuracy: 0.9572\n",
      "Epoch 45/50\n",
      "12/12 [==============================] - 0s 24ms/step - loss: 0.1831 - accuracy: 0.9450 - val_loss: 0.1489 - val_accuracy: 0.9578\n",
      "Epoch 46/50\n",
      "12/12 [==============================] - 0s 24ms/step - loss: 0.1831 - accuracy: 0.9448 - val_loss: 0.1485 - val_accuracy: 0.9586\n",
      "Epoch 47/50\n",
      "12/12 [==============================] - 0s 26ms/step - loss: 0.1837 - accuracy: 0.9436 - val_loss: 0.1481 - val_accuracy: 0.9591\n",
      "Epoch 48/50\n",
      "12/12 [==============================] - 0s 24ms/step - loss: 0.1780 - accuracy: 0.9459 - val_loss: 0.1479 - val_accuracy: 0.9587\n",
      "Epoch 49/50\n",
      "12/12 [==============================] - 0s 24ms/step - loss: 0.1788 - accuracy: 0.9449 - val_loss: 0.1466 - val_accuracy: 0.9585\n",
      "Epoch 50/50\n",
      "12/12 [==============================] - 0s 24ms/step - loss: 0.1756 - accuracy: 0.9474 - val_loss: 0.1454 - val_accuracy: 0.9596\n",
      "3/3 [==============================] - 0s 9ms/step - loss: 0.1480 - accuracy: 0.9569\n"
     ]
    },
    {
     "data": {
      "text/plain": [
       "[0.1480410099029541, 0.9569000005722046]"
      ]
     },
     "execution_count": 6,
     "metadata": {},
     "output_type": "execute_result"
    },
    {
     "data": {
      "image/png": "[encoded data removed]",
      "text/plain": [
       "<Figure size 432x288 with 1 Axes>"
      ]
     },
     "metadata": {
      "needs_background": "light"
     },
     "output_type": "display_data"
    }
   ],
   "source": [
    "\n",
    "learning_rate = 0.003\n",
    "epochs = 50\n",
    "batch_size = 4000\n",
    "validation_split = 0.2\n",
    "\n",
    "my_model = create_model(learning_rate)\n",
    "epochs, hist = train_model(my_model, x_train_normalized, y_train, \n",
    "                           epochs, batch_size, validation_split)\n",
    "\n",
    "list_of_metrics_to_plot = ['accuracy']\n",
    "plot_curve(epochs, hist, list_of_metrics_to_plot)\n",
    "\n",
    "my_model.evaluate(x=x_test_normalized, y=y_test, batch_size=batch_size)"
   ]
  },
  {
   "cell_type": "code",
   "execution_count": null,
   "metadata": {
    "id": "qqnj_rcV2D_o"
   },
   "outputs": [],
   "source": []
  }
 ],
 "metadata": {
  "colab": {
   "name": "csci5901week2-Student_Version.ipynb",
   "provenance": []
  },
  "kernelspec": {
   "display_name": "Python 3 (ipykernel)",
   "language": "python",
   "name": "python3"
  },
  "language_info": {
   "codemirror_mode": {
    "name": "ipython",
    "version": 3
   },
   "file_extension": ".py",
   "mimetype": "text/x-python",
   "name": "python",
   "nbconvert_exporter": "python",
   "pygments_lexer": "ipython3",
   "version": "3.9.7"
  }
 },
 "nbformat": 4,
 "nbformat_minor": 4
}
